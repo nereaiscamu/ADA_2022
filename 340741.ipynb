{
 "cells": [
  {
   "cell_type": "markdown",
   "id": "09e9a536",
   "metadata": {},
   "source": [
    "## ADA final exam (Fall 2022)\n",
    "\n",
    "This exam consists of 3 tasks. Tasks 2 and 3 are independent of each other (although conceptually related).\n"
   ]
  },
  {
   "cell_type": "markdown",
   "id": "68507ec4",
   "metadata": {},
   "source": [
    "## Dataset\n",
    "\n",
    "For a Wikipedia editor to become an administrator, a so-called “request for adminship” ([RfA](https://en.wikipedia.org/wiki/Wikipedia:Requests_for_adminship)) must be submitted by either the candidate or another community member. Subsequently, any Wikipedia member may cast a supporting or opposing vote. Here we provide a simplified version of the Wikipedia RfA dataset, containing all votes from 2003 through 2012.\n",
    "\n",
    "###  Data format\n",
    "\n",
    "|        |   SRC |   TGT |   VOT |   RES |   YEA | DAT                 | TXT                                                                                                                                                                                               |\n",
    "|-------:|------:|------:|------:|------:|------:|:--------------------|:--------------------------------------------------------------------------------------------------------------------------------------------------------------------------------------------------|\n",
    "|  39054 |  3444 | 10170 |     1 |     1 |  2009 | 2009-07-01 17:50:00 | '''Support''' - Best of luck. &nbsp;                                                                                                                                                              |\n",
    "| 159680 |   722 |  9634 |    -1 |    -1 |  2006 | 2006-12-15 07:28:00 | '''Oppose''' Not even 2000 edits.                                                                                                                                                                 |\n",
    "| 173438 |  4194 |  5524 |     1 |     1 |  2005 | 2005-03-18 19:22:00 | Ohhh, you're Carrp!  In that case, '''Support'''.                                                                                                                                                 |\n",
    "|  60627 |  4855 |  9436 |     1 |     1 |  2008 | 2008-12-18 23:26:00 | '''Support''' via thoughtful answer to my question that demonstrates this editor has clue.                                                 |\n",
    "| 194809 |  7687 |   908 |     1 |     1 |  2004 | 2004-09-25 05:21:00 | Nicholas is very good in English. Also, he got '''exceptional''' patience to explain petty obvious facts in talk page to convince ignorants. Let the world be benefitted more out of his work. -- |\n",
    "\n",
    "\n",
    "- SRC: the user name of the source of the vote, i.e., of the user who cast the vote.\n",
    "- TGT: the user name of the target of the vote, i.e., of the user running for election.\n",
    "- VOT: the source's vote on the target (-1 = oppose; 1 = support).\n",
    "- RES: the outcome of the election (-1 = target was rejected as admin; 1 = target was accepted). **(We will not use this  column in this exam.)**\n",
    "- YEA: the year of the RfA.\n",
    "- DAT: the date and time of this vote. **(We will not use this column in this exam.)**\n",
    "- TXT: the comment written by the source. **(We will not use this column in this exam.)**\n",
    "\n",
    "---\n"
   ]
  },
  {
   "cell_type": "markdown",
   "id": "4a4a661c",
   "metadata": {},
   "source": [
    "## Structural balance theory\n",
    "\n",
    "**Structural balance theory** affirms that social networks tend to be organized so as to avoid conflictual situations, e.g., if a great friend of yours hates someone, you will likely not befriend that person.\n",
    "\n",
    "The theory can be operationalized by looking at _triangles_ in an undirected _signed graph_ capturing person-to-person relationships, where a _signed graph_ is a  graph in which each edge is associated with a positive or negative sign, and a _triangle_ is a set of three edges ($\\langle u,v \\rangle$, $\\langle v,w\\rangle$, $\\langle u,w\\rangle$) that fully connect three distinct nodes ($u, v, w$).\n",
    "\n",
    "\n",
    "\n",
    "_Triangles_ in an undirected signed graph can be in 4 _configurations_:\n",
    "all positive edges ($\\{+,+,+\\}$); \n",
    "all negative edges ($\\{-,-,-\\}$); \n",
    "two positive edges and one negative edge ($\\{+,+,-\\}$);\n",
    "one positive edge and two negative edges ($\\{+,-,-\\}$).\n",
    "\n",
    "Structural balance theory posits that social networks tend to favor triangle configurations with an even number of negative signs (i.e., $\\{+,+,+\\}$ and $\\{+,-,-\\}$), which can be understood as being “balanced” by avoiding conflictual situations. Intuitively, $\\{+,+,+\\}$ could be tagged as “The friend of my friend is my friend”, and $\\{+,-,-\\}$ as “The enemy of my enemy is my friend”, “The friend of my enemy is my enemy”, or “The enemy of my friend is my enemy”. On the contrary, triangle configurations with an odd number of negative signs (i.e., $\\{+,+,-\\}$ and $\\{-,-,-\\}$) are unstable (“unbalanced”) according to structural balance theory and will thus occur less frequently in social networks. For instance, me being friends with two mutual enemies ($\\{+,+,-\\}$) would lead to tension that could be resolved if the two enemies became friends or if I took sides and ended my friendship with one of the two. Similarly, two among three mutual enemies ($\\{-,-,-\\}$) would have the incentive to form an alliance to “gang up” against the third.\n",
    "\n",
    "Some social scientists have argued that three mutual enemies ($\\{-,-,-\\}$) is not necessarily a triangle configuration that social networks tend to avoid. This gives rise to **weak structural balance theory**, which only posits that social networks tend to avoid the “unbalanced” triangle configuration $\\{+,+,-\\}$.\n",
    "\n",
    "In a nutshell,\n",
    "- structural balance theory\n",
    "  - considers $\\{+,+,+\\}$, $\\{+,-,-\\}$ as balanced,\n",
    "  - and $\\{+,+,-\\}$, $\\{-,-,-\\}$ as unbalanced;\n",
    "- weak structural balance theory\n",
    "  - considers $\\{+,+,+\\}$, $\\{+,-,-\\}$, $\\{-,-,-\\}$ as balanced,\n",
    "  - and $\\{+,+,-\\}$ as unbalanced.\n",
    "\n"
   ]
  },
  {
   "cell_type": "code",
   "execution_count": 2,
   "id": "abbd988a",
   "metadata": {},
   "outputs": [
    {
     "name": "stdout",
     "output_type": "stream",
     "text": [
      "Python path: C:\\Users\\nerea\\anaconda3\\envs\\adaexam\\python.exe\n"
     ]
    }
   ],
   "source": [
    "import sys\n",
    "try:\n",
    "    assert 'adaexam' in sys.executable\n",
    "except AssertionError:\n",
    "    print('Seems the adaexam conda environment is not your active environment!')\n",
    "    raise\n",
    "\n",
    "print(f'Python path: {sys.executable}')"
   ]
  },
  {
   "cell_type": "code",
   "execution_count": 3,
   "id": "ced815e0",
   "metadata": {},
   "outputs": [
    {
     "name": "stdout",
     "output_type": "stream",
     "text": [
      "Package import test successful!\n"
     ]
    }
   ],
   "source": [
    "''' Package import test '''\n",
    "import os\n",
    "import gzip\n",
    "import random\n",
    "import pickle\n",
    "import re\n",
    "import itertools\n",
    "import collections\n",
    "import operator\n",
    "import requests\n",
    "from urllib.parse import *\n",
    "from datetime import *\n",
    "from dateutil.parser import parse\n",
    "\n",
    "import math\n",
    "import sklearn\n",
    "import pandas as pd\n",
    "import numpy as np\n",
    "from scipy import stats\n",
    "import statsmodels.api as sm\n",
    "import statsmodels.formula.api as smf\n",
    "from statsmodels.stats import *\n",
    "\n",
    "import ast\n",
    "import gensim\n",
    "import string\n",
    "import nltk\n",
    "import codecs\n",
    "import json\n",
    "import vaderSentiment\n",
    "import spacy\n",
    "from empath import Empath\n",
    "from bs4 import BeautifulSoup\n",
    "\n",
    "import networkx as nx\n",
    "\n",
    "from IPython.display import Image\n",
    "%matplotlib inline\n",
    "import matplotlib.pyplot as plt\n",
    "import seaborn as sns\n",
    "\n",
    "import warnings\n",
    "warnings.simplefilter('ignore')\n",
    "\n",
    "print(\"Package import test successful!\")"
   ]
  },
  {
   "cell_type": "markdown",
   "id": "d5f337c9",
   "metadata": {},
   "source": [
    "### Task 1: Preliminaries\n",
    "\n",
    "As a good data scientist, you first load the data and explore it.\n",
    "\n",
    "**1.1**\n",
    "Load the csv file `wiki-RfA.csv.gz` in a pandas dataframe. Calculate the number of distinct RfAs and the average number of votes per RfA.\n",
    "- **Hint:** Throughout this question, assume that each RfA is uniquely determined by the column `TGT` and each vote is uniquely determined by the combination of `SRC` and `TGT`."
   ]
  },
  {
   "cell_type": "code",
   "execution_count": 25,
   "id": "ff2e92a5",
   "metadata": {},
   "outputs": [
    {
     "data": {
      "text/html": [
       "<div>\n",
       "<style scoped>\n",
       "    .dataframe tbody tr th:only-of-type {\n",
       "        vertical-align: middle;\n",
       "    }\n",
       "\n",
       "    .dataframe tbody tr th {\n",
       "        vertical-align: top;\n",
       "    }\n",
       "\n",
       "    .dataframe thead th {\n",
       "        text-align: right;\n",
       "    }\n",
       "</style>\n",
       "<table border=\"1\" class=\"dataframe\">\n",
       "  <thead>\n",
       "    <tr style=\"text-align: right;\">\n",
       "      <th></th>\n",
       "      <th>SRC</th>\n",
       "      <th>TGT</th>\n",
       "      <th>VOT</th>\n",
       "      <th>RES</th>\n",
       "      <th>YEA</th>\n",
       "      <th>DAT</th>\n",
       "      <th>TXT</th>\n",
       "    </tr>\n",
       "  </thead>\n",
       "  <tbody>\n",
       "    <tr>\n",
       "      <th>0</th>\n",
       "      <td>5943</td>\n",
       "      <td>9966</td>\n",
       "      <td>-1</td>\n",
       "      <td>-1</td>\n",
       "      <td>2012</td>\n",
       "      <td>2012-12-30 22:27:00</td>\n",
       "      <td>—</td>\n",
       "    </tr>\n",
       "    <tr>\n",
       "      <th>1</th>\n",
       "      <td>9153</td>\n",
       "      <td>9966</td>\n",
       "      <td>-1</td>\n",
       "      <td>-1</td>\n",
       "      <td>2012</td>\n",
       "      <td>2012-12-30 22:25:00</td>\n",
       "      <td>'''Oppose'''. This joke really isn't funny, no...</td>\n",
       "    </tr>\n",
       "    <tr>\n",
       "      <th>2</th>\n",
       "      <td>4189</td>\n",
       "      <td>9966</td>\n",
       "      <td>-1</td>\n",
       "      <td>-1</td>\n",
       "      <td>2012</td>\n",
       "      <td>2012-12-30 22:17:00</td>\n",
       "      <td>'''Oppose''' as per nomination and answers. --...</td>\n",
       "    </tr>\n",
       "    <tr>\n",
       "      <th>3</th>\n",
       "      <td>3750</td>\n",
       "      <td>9966</td>\n",
       "      <td>-1</td>\n",
       "      <td>-1</td>\n",
       "      <td>2012</td>\n",
       "      <td>2012-12-30 22:14:00</td>\n",
       "      <td>'''Oppose''' and '''speeedy close''' this as [...</td>\n",
       "    </tr>\n",
       "    <tr>\n",
       "      <th>4</th>\n",
       "      <td>4225</td>\n",
       "      <td>9966</td>\n",
       "      <td>-1</td>\n",
       "      <td>-1</td>\n",
       "      <td>2012</td>\n",
       "      <td>2012-12-30 22:08:00</td>\n",
       "      <td>'''Oppose''' per nomination and answers. I am ...</td>\n",
       "    </tr>\n",
       "  </tbody>\n",
       "</table>\n",
       "</div>"
      ],
      "text/plain": [
       "    SRC   TGT  VOT  RES   YEA                  DAT  \\\n",
       "0  5943  9966   -1   -1  2012  2012-12-30 22:27:00   \n",
       "1  9153  9966   -1   -1  2012  2012-12-30 22:25:00   \n",
       "2  4189  9966   -1   -1  2012  2012-12-30 22:17:00   \n",
       "3  3750  9966   -1   -1  2012  2012-12-30 22:14:00   \n",
       "4  4225  9966   -1   -1  2012  2012-12-30 22:08:00   \n",
       "\n",
       "                                                 TXT  \n",
       "0                                                  —  \n",
       "1  '''Oppose'''. This joke really isn't funny, no...  \n",
       "2  '''Oppose''' as per nomination and answers. --...  \n",
       "3  '''Oppose''' and '''speeedy close''' this as [...  \n",
       "4  '''Oppose''' per nomination and answers. I am ...  "
      ]
     },
     "execution_count": 25,
     "metadata": {},
     "output_type": "execute_result"
    }
   ],
   "source": [
    "# 1.1\n",
    "RFA = pd.read_csv('./wiki-RfA.csv')\n",
    "RFA.head()"
   ]
  },
  {
   "cell_type": "code",
   "execution_count": 28,
   "id": "7b114574",
   "metadata": {},
   "outputs": [
    {
     "data": {
      "text/html": [
       "<div>\n",
       "<style scoped>\n",
       "    .dataframe tbody tr th:only-of-type {\n",
       "        vertical-align: middle;\n",
       "    }\n",
       "\n",
       "    .dataframe tbody tr th {\n",
       "        vertical-align: top;\n",
       "    }\n",
       "\n",
       "    .dataframe thead th {\n",
       "        text-align: right;\n",
       "    }\n",
       "</style>\n",
       "<table border=\"1\" class=\"dataframe\">\n",
       "  <thead>\n",
       "    <tr style=\"text-align: right;\">\n",
       "      <th></th>\n",
       "      <th>SRC</th>\n",
       "      <th>TGT</th>\n",
       "      <th>VOT</th>\n",
       "      <th>RES</th>\n",
       "      <th>YEA</th>\n",
       "      <th>DAT</th>\n",
       "      <th>TXT</th>\n",
       "    </tr>\n",
       "  </thead>\n",
       "  <tbody>\n",
       "    <tr>\n",
       "      <th>7736</th>\n",
       "      <td>6175</td>\n",
       "      <td>9967</td>\n",
       "      <td>1</td>\n",
       "      <td>1</td>\n",
       "      <td>2011</td>\n",
       "      <td>2011-08-19 15:05:00</td>\n",
       "      <td>'''Support'''. Most definitely. &lt;font color=\"n...</td>\n",
       "    </tr>\n",
       "    <tr>\n",
       "      <th>7737</th>\n",
       "      <td>4683</td>\n",
       "      <td>9967</td>\n",
       "      <td>1</td>\n",
       "      <td>1</td>\n",
       "      <td>2011</td>\n",
       "      <td>2011-08-19 10:40:00</td>\n",
       "      <td>'''Support''' Damn you, peer pressure! Honestl...</td>\n",
       "    </tr>\n",
       "    <tr>\n",
       "      <th>7738</th>\n",
       "      <td>4059</td>\n",
       "      <td>9967</td>\n",
       "      <td>1</td>\n",
       "      <td>1</td>\n",
       "      <td>2011</td>\n",
       "      <td>2011-08-19 09:48:00</td>\n",
       "      <td>'''Absolutely not'''...''obviously'' evading t...</td>\n",
       "    </tr>\n",
       "    <tr>\n",
       "      <th>7739</th>\n",
       "      <td>2602</td>\n",
       "      <td>9967</td>\n",
       "      <td>1</td>\n",
       "      <td>1</td>\n",
       "      <td>2011</td>\n",
       "      <td>2011-08-19 07:54:00</td>\n",
       "      <td>'''Support''' From the diffs that Dcoetzee has...</td>\n",
       "    </tr>\n",
       "    <tr>\n",
       "      <th>7740</th>\n",
       "      <td>3940</td>\n",
       "      <td>9967</td>\n",
       "      <td>1</td>\n",
       "      <td>1</td>\n",
       "      <td>2011</td>\n",
       "      <td>2011-08-19 07:46:00</td>\n",
       "      <td>Thoroughly impressed with your track record. I...</td>\n",
       "    </tr>\n",
       "    <tr>\n",
       "      <th>...</th>\n",
       "      <td>...</td>\n",
       "      <td>...</td>\n",
       "      <td>...</td>\n",
       "      <td>...</td>\n",
       "      <td>...</td>\n",
       "      <td>...</td>\n",
       "      <td>...</td>\n",
       "    </tr>\n",
       "    <tr>\n",
       "      <th>7894</th>\n",
       "      <td>10631</td>\n",
       "      <td>9967</td>\n",
       "      <td>1</td>\n",
       "      <td>1</td>\n",
       "      <td>2011</td>\n",
       "      <td>2011-08-12 17:04:00</td>\n",
       "      <td>'''Support''' Most definitely!</td>\n",
       "    </tr>\n",
       "    <tr>\n",
       "      <th>7898</th>\n",
       "      <td>5729</td>\n",
       "      <td>9967</td>\n",
       "      <td>1</td>\n",
       "      <td>1</td>\n",
       "      <td>2011</td>\n",
       "      <td>2011-08-12 16:38:00</td>\n",
       "      <td>'''Support'''</td>\n",
       "    </tr>\n",
       "    <tr>\n",
       "      <th>7899</th>\n",
       "      <td>1595</td>\n",
       "      <td>9967</td>\n",
       "      <td>1</td>\n",
       "      <td>1</td>\n",
       "      <td>2011</td>\n",
       "      <td>2011-08-12 16:37:00</td>\n",
       "      <td>'''Support''' No reason to think they'll misus...</td>\n",
       "    </tr>\n",
       "    <tr>\n",
       "      <th>7901</th>\n",
       "      <td>5195</td>\n",
       "      <td>9967</td>\n",
       "      <td>1</td>\n",
       "      <td>1</td>\n",
       "      <td>2011</td>\n",
       "      <td>2011-08-12 16:25:00</td>\n",
       "      <td>'''Support''' Obviously. [[Special:Contributio...</td>\n",
       "    </tr>\n",
       "    <tr>\n",
       "      <th>7903</th>\n",
       "      <td>3022</td>\n",
       "      <td>9967</td>\n",
       "      <td>1</td>\n",
       "      <td>1</td>\n",
       "      <td>2011</td>\n",
       "      <td>2011-08-12 16:06:00</td>\n",
       "      <td>'''Support''' Shows hard work and dedication t...</td>\n",
       "    </tr>\n",
       "  </tbody>\n",
       "</table>\n",
       "<p>152 rows × 7 columns</p>\n",
       "</div>"
      ],
      "text/plain": [
       "        SRC   TGT  VOT  RES   YEA                  DAT  \\\n",
       "7736   6175  9967    1    1  2011  2011-08-19 15:05:00   \n",
       "7737   4683  9967    1    1  2011  2011-08-19 10:40:00   \n",
       "7738   4059  9967    1    1  2011  2011-08-19 09:48:00   \n",
       "7739   2602  9967    1    1  2011  2011-08-19 07:54:00   \n",
       "7740   3940  9967    1    1  2011  2011-08-19 07:46:00   \n",
       "...     ...   ...  ...  ...   ...                  ...   \n",
       "7894  10631  9967    1    1  2011  2011-08-12 17:04:00   \n",
       "7898   5729  9967    1    1  2011  2011-08-12 16:38:00   \n",
       "7899   1595  9967    1    1  2011  2011-08-12 16:37:00   \n",
       "7901   5195  9967    1    1  2011  2011-08-12 16:25:00   \n",
       "7903   3022  9967    1    1  2011  2011-08-12 16:06:00   \n",
       "\n",
       "                                                    TXT  \n",
       "7736  '''Support'''. Most definitely. <font color=\"n...  \n",
       "7737  '''Support''' Damn you, peer pressure! Honestl...  \n",
       "7738  '''Absolutely not'''...''obviously'' evading t...  \n",
       "7739  '''Support''' From the diffs that Dcoetzee has...  \n",
       "7740  Thoroughly impressed with your track record. I...  \n",
       "...                                                 ...  \n",
       "7894                     '''Support''' Most definitely!  \n",
       "7898                                      '''Support'''  \n",
       "7899  '''Support''' No reason to think they'll misus...  \n",
       "7901  '''Support''' Obviously. [[Special:Contributio...  \n",
       "7903  '''Support''' Shows hard work and dedication t...  \n",
       "\n",
       "[152 rows x 7 columns]"
      ]
     },
     "execution_count": 28,
     "metadata": {},
     "output_type": "execute_result"
    }
   ],
   "source": [
    "RFA.loc[RFA['TGT'] == 9967] #To make sure the code was right after"
   ]
  },
  {
   "cell_type": "code",
   "execution_count": 35,
   "id": "3d383527",
   "metadata": {},
   "outputs": [
    {
     "name": "stdout",
     "output_type": "stream",
     "text": [
      "The number of disctinc RFAs is : 3439\n"
     ]
    }
   ],
   "source": [
    "#we assume there are as many RFAs as users running for election\n",
    "print('The number of disctinc RFAs is :' ,RFA['TGT'].nunique()) "
   ]
  },
  {
   "cell_type": "code",
   "execution_count": 36,
   "id": "d29e140b",
   "metadata": {},
   "outputs": [
    {
     "data": {
      "text/html": [
       "<div>\n",
       "<style scoped>\n",
       "    .dataframe tbody tr th:only-of-type {\n",
       "        vertical-align: middle;\n",
       "    }\n",
       "\n",
       "    .dataframe tbody tr th {\n",
       "        vertical-align: top;\n",
       "    }\n",
       "\n",
       "    .dataframe thead th {\n",
       "        text-align: right;\n",
       "    }\n",
       "</style>\n",
       "<table border=\"1\" class=\"dataframe\">\n",
       "  <thead>\n",
       "    <tr style=\"text-align: right;\">\n",
       "      <th></th>\n",
       "      <th>TGT</th>\n",
       "      <th>SRC</th>\n",
       "    </tr>\n",
       "  </thead>\n",
       "  <tbody>\n",
       "    <tr>\n",
       "      <th>0</th>\n",
       "      <td>2</td>\n",
       "      <td>12</td>\n",
       "    </tr>\n",
       "    <tr>\n",
       "      <th>1</th>\n",
       "      <td>4</td>\n",
       "      <td>106</td>\n",
       "    </tr>\n",
       "    <tr>\n",
       "      <th>2</th>\n",
       "      <td>5</td>\n",
       "      <td>99</td>\n",
       "    </tr>\n",
       "    <tr>\n",
       "      <th>3</th>\n",
       "      <td>7</td>\n",
       "      <td>14</td>\n",
       "    </tr>\n",
       "    <tr>\n",
       "      <th>4</th>\n",
       "      <td>8</td>\n",
       "      <td>9</td>\n",
       "    </tr>\n",
       "    <tr>\n",
       "      <th>...</th>\n",
       "      <td>...</td>\n",
       "      <td>...</td>\n",
       "    </tr>\n",
       "    <tr>\n",
       "      <th>3434</th>\n",
       "      <td>11008</td>\n",
       "      <td>49</td>\n",
       "    </tr>\n",
       "    <tr>\n",
       "      <th>3435</th>\n",
       "      <td>11010</td>\n",
       "      <td>60</td>\n",
       "    </tr>\n",
       "    <tr>\n",
       "      <th>3436</th>\n",
       "      <td>11013</td>\n",
       "      <td>74</td>\n",
       "    </tr>\n",
       "    <tr>\n",
       "      <th>3437</th>\n",
       "      <td>11014</td>\n",
       "      <td>14</td>\n",
       "    </tr>\n",
       "    <tr>\n",
       "      <th>3438</th>\n",
       "      <td>11015</td>\n",
       "      <td>12</td>\n",
       "    </tr>\n",
       "  </tbody>\n",
       "</table>\n",
       "<p>3439 rows × 2 columns</p>\n",
       "</div>"
      ],
      "text/plain": [
       "        TGT  SRC\n",
       "0         2   12\n",
       "1         4  106\n",
       "2         5   99\n",
       "3         7   14\n",
       "4         8    9\n",
       "...     ...  ...\n",
       "3434  11008   49\n",
       "3435  11010   60\n",
       "3436  11013   74\n",
       "3437  11014   14\n",
       "3438  11015   12\n",
       "\n",
       "[3439 rows x 2 columns]"
      ]
     },
     "execution_count": 36,
     "metadata": {},
     "output_type": "execute_result"
    }
   ],
   "source": [
    "RFA_grouped_target_size = RFA.groupby(['TGT'], as_index = False)['SRC'].nunique()\n",
    "RFA_grouped_target_size"
   ]
  },
  {
   "cell_type": "code",
   "execution_count": 37,
   "id": "91e33e36",
   "metadata": {},
   "outputs": [
    {
     "name": "stdout",
     "output_type": "stream",
     "text": [
      "Average number votes per RFA : 48.561500436173304\n"
     ]
    }
   ],
   "source": [
    "print('Average number votes per RFA :', RFA_grouped_target_size['SRC'].mean())"
   ]
  },
  {
   "cell_type": "markdown",
   "id": "813b5a32",
   "metadata": {},
   "source": [
    "**1.2** \n",
    "In a single figure with three subfigures (one per item), show the following time series:\n",
    "- the number of RfAs per year;\n",
    "- the overall fraction of positive votes per year; and \n",
    "- the average number of votes per RfA per year.\n",
    "\n",
    "For each of the above three quantities, print the value for the year 2008."
   ]
  },
  {
   "cell_type": "code",
   "execution_count": 77,
   "id": "b1732d7e",
   "metadata": {},
   "outputs": [
    {
     "data": {
      "image/png": "[encoded data removed]",
      "text/plain": [
       "<Figure size 1000x500 with 3 Axes>"
      ]
     },
     "metadata": {},
     "output_type": "display_data"
    }
   ],
   "source": [
    "# 1.2 \n",
    "\n",
    "RFA_year = RFA.copy()\n",
    "RFA_year_numFRA = RFA_year.sort_values('YEA').drop_duplicates('TGT')\n",
    "RFA_year_numFRA = RFA_year_numFRA.groupby('YEA', as_index = False).agg({'TGT': 'size'})\n",
    "RFA_year['pos_votes'] = np.where(RFA_year['VOT'] == 1, 1, 0)\n",
    "RFA_year_pos = RFA_year.groupby('YEA', as_index = False)['pos_votes'].apply(lambda x: sum(x)/x.size)\n",
    "RFA_year_avg_votes = RFA_year.groupby(['YEA', 'TGT'], as_index = False)['VOT'].count()\n",
    "RFA_year_avg_votes = RFA_year_avg_votes.groupby('YEA', as_index = False)['VOT'].mean()\n",
    "fig, ax = plt.subplots(1,3, figsize = [10,5])\n",
    "ax[0].plot(RFA_year_numFRA['YEA'], RFA_year_numFRA['TGT'])\n",
    "ax[0].set_title('Number RFA per year')\n",
    "ax[1].plot(RFA_year_pos['YEA'], RFA_year_pos['pos_votes'])\n",
    "ax[1].set_title('Average fraction positive votes per year')\n",
    "ax[2].plot(RFA_year_avg_votes['YEA'], RFA_year_avg_votes['VOT'] )\n",
    "ax[2].set_title('Average number of votes per RFA per year')\n",
    "plt.tight_layout()"
   ]
  },
  {
   "cell_type": "markdown",
   "id": "366d38d9",
   "metadata": {},
   "source": [
    "**1.3** \n",
    "**/Discuss:/** Describe the temporal patterns observed in the plots you did in **T1.2**."
   ]
  },
  {
   "cell_type": "markdown",
   "id": "e77900f8",
   "metadata": {},
   "source": [
    "**A1.3** \n",
    "From the obtained results, there was a pick in the number of RFA per year around 2007, and then it has decreased again.\n",
    "The number of votes per year is increasing with time and those votes are more and more negative."
   ]
  },
  {
   "cell_type": "markdown",
   "id": "81126c89",
   "metadata": {},
   "source": [
    "**1.4** \n",
    "Create an undirected graph ([`nx.Graph`](https://networkx.org/documentation/stable/reference/classes/graph.html)) where every node corresponds to a Wikipedia user (source or target of an RfA) and where there exists an edge between two users if at least one of them has voted on the other. Each edge should have attributes corresponding to columns of the dataframe, namely:\n",
    "- `VOT`, which equals `1` if the vote was positive, and `-1` otherwise.\n",
    "- `YEA`, an integer that represents the year of the RfA.\n",
    "\n",
    "**The code to load the graph has been provided to you!** After running it, print the number of nodes and edges in your graph.\n",
    "\n",
    "---\n",
    "\n",
    "**Observation:** Note that we have at most one edge per pair of nodes in the graph, even though two votes may be associated with the pair  — e.g., if A voted in B's RfA in time $t_1$ and B voted in A's RfA in time $t_2$ ($t_1 < t_2$). In these cases, the code provided associates the metadata of the oldest vote ($t_1$ in the example) to the edge between A and B."
   ]
  },
  {
   "cell_type": "code",
   "execution_count": 79,
   "id": "e57d4776",
   "metadata": {},
   "outputs": [],
   "source": [
    "# Provided code! Do not change!\n",
    "import networkx as nx\n",
    "import pandas as pd\n",
    "G = nx.from_pandas_edgelist(pd.read_csv(\"./wiki-RfA.csv\"), \n",
    "                            'SRC', 'TGT', ['VOT', 'RES', 'YEA', 'DAT'], create_using=nx.Graph)"
   ]
  },
  {
   "cell_type": "code",
   "execution_count": 81,
   "id": "f21ec7a6",
   "metadata": {},
   "outputs": [
    {
     "name": "stdout",
     "output_type": "stream",
     "text": [
      "Num nodes:  10831\n",
      "Num edges:  161147\n"
     ]
    }
   ],
   "source": [
    "# 1.4\n",
    "print('Num nodes: ', G.number_of_nodes())\n",
    "print('Num edges: ',  G.number_of_edges())\n",
    "      "
   ]
  },
  {
   "cell_type": "markdown",
   "id": "37cbd1b8",
   "metadata": {},
   "source": [
    "**1.5** \n",
    "Plot the **complementary** cumulative distribution of the degree centrality of the undirected graph. Use a logarithmic (base 10) x-axis and a linear y-axis."
   ]
  },
  {
   "cell_type": "code",
   "execution_count": 272,
   "id": "c1edfd6a",
   "metadata": {},
   "outputs": [],
   "source": [
    "# 1.5\n",
    "#first compute degree centrality per node\n",
    "centralities = nx.degree_centrality(G)\n",
    "cent_values = [v for v in centralities.values()]"
   ]
  },
  {
   "cell_type": "code",
   "execution_count": 273,
   "id": "28868588",
   "metadata": {
    "scrolled": false
   },
   "outputs": [
    {
     "data": {
      "text/plain": [
       "<matplotlib.legend.Legend at 0x2210c98a250>"
      ]
     },
     "execution_count": 273,
     "metadata": {},
     "output_type": "execute_result"
    },
    {
     "data": {
      "image/png": "[encoded data removed]",
      "text/plain": [
       "<Figure size 640x480 with 1 Axes>"
      ]
     },
     "metadata": {},
     "output_type": "display_data"
    }
   ],
   "source": [
    "# this is from homework 2 for the complementary cum dist \n",
    "import scipy.stats.mstats  as mstats\n",
    "sns.ecdfplot(cent_values, complementary=True, label=\"CCDF\")\n",
    "plt.xscale(\"log\")  #log10 scale for the x axis\n",
    "plt.axvline(np.mean(cent_values), color=\"black\", label=\"arithmetic mean\")\n",
    "plt.axvline(mstats.gmean(cent_values), color=\"green\", label=\"geometric mean\")\n",
    "plt.legend()"
   ]
  },
  {
   "cell_type": "markdown",
   "id": "935be3bf",
   "metadata": {},
   "source": [
    "\n",
    "**1.6**\n",
    "**/Discuss:/** Why is the following statement false? Justify your answer. **\"From the graph obtained in task 1.5, one can conclude that around 40% of the users voted at least 11 times.\"**\n"
   ]
  },
  {
   "cell_type": "code",
   "execution_count": 274,
   "id": "e2db11ae",
   "metadata": {},
   "outputs": [
    {
     "data": {
      "text/plain": [
       "10.831"
      ]
     },
     "execution_count": 274,
     "metadata": {},
     "output_type": "execute_result"
    }
   ],
   "source": [
    "0.001 * 10831"
   ]
  },
  {
   "cell_type": "markdown",
   "id": "3316f395",
   "metadata": {},
   "source": [
    "**A1.6**\n",
    "40% of the users have a degree centrality of less than 0.001, meaning they gave votes to less than 0.001*total_num_nodes = 10.831 users."
   ]
  },
  {
   "cell_type": "markdown",
   "id": "9d1d5f4a",
   "metadata": {},
   "source": [
    "**1.7**\n",
    "What fraction of users voted at least 11 times? Use the data to measure the fraction."
   ]
  },
  {
   "cell_type": "code",
   "execution_count": 275,
   "id": "a167a11b",
   "metadata": {},
   "outputs": [
    {
     "name": "stdout",
     "output_type": "stream",
     "text": [
      "The fraction is:  0.3725417782291571\n"
     ]
    }
   ],
   "source": [
    "# 1.7\n",
    "degree_11 = 11/G.number_of_nodes()\n",
    "fraction = len([i for i in cent_values if i>=degree_11]) / len(cent_values)\n",
    "print('The fraction is: ', fraction)"
   ]
  },
  {
   "cell_type": "markdown",
   "id": "35b05b29",
   "metadata": {},
   "source": [
    "### Task 2: Triangles\n",
    "\n",
    "Next, you set out to investigate the social balance theory by looking at the RfA graph.\n",
    "\n",
    "**2.1**\n",
    "Considering _only_ the RfAs of 2004 (i.e., where `YEA == 2004`), generate all triangles in the undirected graph.\n",
    "Print the number of triangles found.\n",
    "- **Hint:** Note that you can generate a graph with only a subset of nodes and edges via ` G.edge_subgraph`.\n",
    "-  **Hint:** The function `nx.enumerate_all_cliques` generates all cliques in an undirected graph. First, all cliques of size 1 are generated, then all cliques of size 2, etc. Triangles are cliques of size 3.\n"
   ]
  },
  {
   "cell_type": "code",
   "execution_count": 276,
   "id": "b39a403e",
   "metadata": {},
   "outputs": [],
   "source": [
    "# 2.1\n",
    "RFA_2004 = RFA.copy()\n",
    "RFA_2004 = RFA_2004.loc[RFA['YEA'] == 2004].copy(deep=True)\n",
    "G_2004 = nx.from_pandas_edgelist(RFA_2004, \n",
    "                            'SRC', 'TGT', ['VOT', 'RES', 'YEA', 'DAT'], create_using=nx.Graph)"
   ]
  },
  {
   "cell_type": "code",
   "execution_count": 277,
   "id": "e647eaa0",
   "metadata": {},
   "outputs": [],
   "source": [
    "cliques = list(nx.enumerate_all_cliques(G_2004))"
   ]
  },
  {
   "cell_type": "code",
   "execution_count": 278,
   "id": "c5d138a0",
   "metadata": {},
   "outputs": [
    {
     "name": "stdout",
     "output_type": "stream",
     "text": [
      "The number of triangles found is:  8448\n"
     ]
    }
   ],
   "source": [
    "triangles = []\n",
    "for clic in cliques:\n",
    "    if len(clic)==3:\n",
    "        triangles.append(clic)\n",
    "        \n",
    "print('The number of triangles found is: ',len(triangles))"
   ]
  },
  {
   "cell_type": "markdown",
   "id": "9b8ac389",
   "metadata": {},
   "source": [
    "**2.2 ** **/True or false:/** Is the following statement true or false? Justify your answer. **\"The node with the highest clustering coefficient in an undirected graph is the node that belongs to the largest number of triangles.\"**"
   ]
  },
  {
   "cell_type": "markdown",
   "id": "f961eef7",
   "metadata": {},
   "source": [
    "**A2.2**\n",
    "The node with the highest clustering coefficient is the node for which more of his neighbors are connected between them. Here the node appearing most in the triangles is the one for which more of his neighbors are connected pairwise, hence it is true."
   ]
  },
  {
   "cell_type": "markdown",
   "id": "e2f5b22c",
   "metadata": {},
   "source": [
    "**2.3** Considering the set of triangles previously calculated, estimate the fraction of triangles of configurations\n",
    " $\\{+,+,+\\}$,  $\\{-,-,-\\}$,  $\\{+,+,-\\}$, and $\\{+,-,-\\}$. What fraction of triangles are \"balanced\" according to structural balance theory?"
   ]
  },
  {
   "cell_type": "code",
   "execution_count": 279,
   "id": "f858e94c",
   "metadata": {},
   "outputs": [
    {
     "name": "stdout",
     "output_type": "stream",
     "text": [
      "6696 44 1178 530\n",
      "8448\n",
      "[0.7926136363636364, 0.005208333333333333, 0.13944128787878787, 0.06273674242424243]\n"
     ]
    }
   ],
   "source": [
    "# 2.3\n",
    "#First from the edges I need to get the attributes (-1,1)\n",
    "#we can do this using conditions (if edge between node 1 and 2 vot == 1 and 2 and 3 the same then conf +++ sum 1)\n",
    "all_pos = 0\n",
    "all_neg = 0\n",
    "most_pos = 0\n",
    "most_neg = 0\n",
    "votes = nx.get_edge_attributes(G_2004,'VOT')\n",
    "\n",
    "for tri in triangles:\n",
    "    if ((votes[tri[0],tri[1]] == 1) and (votes[tri[0],tri[2]] == 1) and (votes[tri[1],tri[2]] == 1)):\n",
    "        all_pos +=1\n",
    "    elif ((votes[tri[0],tri[1]] == 1) and (votes[tri[0],tri[2]] == 1) and (votes[tri[1],tri[2]] != 1)): \n",
    "        most_pos += 1\n",
    "    elif ((votes[tri[0],tri[1]] != 1) and (votes[tri[0],tri[2]] == 1) and (votes[tri[1],tri[2]] == 1)): \n",
    "        most_pos += 1\n",
    "    elif ((votes[tri[0],tri[1]] == 1) and (votes[tri[0],tri[2]] != 1) and (votes[tri[1],tri[2]] == 1)): \n",
    "        most_pos += 1\n",
    "    elif ((votes[tri[0],tri[1]] != 1) and (votes[tri[0],tri[2]] == 1) and (votes[tri[1],tri[2]] != 1)): \n",
    "        most_neg += 1\n",
    "    elif ((votes[tri[0],tri[1]] != 1) and (votes[tri[0],tri[2]] != 1) and (votes[tri[1],tri[2]] == 1)): \n",
    "        most_neg += 1\n",
    "    elif ((votes[tri[0],tri[1]] == 1) and (votes[tri[0],tri[2]] != 1) and (votes[tri[1],tri[2]] != 1)): \n",
    "        most_neg += 1\n",
    "    elif ((votes[tri[0],tri[1]] != 1) and (votes[tri[0],tri[2]] != 1) and (votes[tri[1],tri[2]] != 1)): \n",
    "        all_neg += 1\n",
    "\n",
    "print(all_pos, all_neg, most_pos, most_neg)   \n",
    "print(np.sum([all_pos, all_neg, most_pos, most_neg])) #to make sure I did not forget any triangle\n",
    "fractions = [all_pos/len(triangles), all_neg/len(triangles), most_pos/len(triangles), most_neg/len(triangles)]\n",
    "print(fractions)"
   ]
  },
  {
   "cell_type": "code",
   "execution_count": 280,
   "id": "5fa4efcc",
   "metadata": {},
   "outputs": [
    {
     "name": "stdout",
     "output_type": "stream",
     "text": [
      "Number of balanced triangles =  0.8553503787878788\n"
     ]
    }
   ],
   "source": [
    "#According to the theory, the balanced ones are the ones having an even number of neg signs\n",
    "\n",
    "even_neg = (all_pos + most_neg)/len(triangles)\n",
    "\n",
    "print('Number of balanced triangles = ', even_neg)"
   ]
  },
  {
   "cell_type": "markdown",
   "id": "97e6f9f0",
   "metadata": {},
   "source": [
    "**2.4** To observe how triangle configurations would be distributed under a random null model, do the following:\n",
    "- Create a new column `VOT_RND` in the dataframe, where RfA votes (i.e., edge signs in the graph) are shuffled, i.e., permuted randomly.  For shuffling, use `numpy.random`, without replacement and with the seed 32 (see code provided below).\n",
    "- Create a new edge attribute with the values of `VOT_RND` in the graph you created in task **1.4**. You can do this easily using the  [`set_edge_attributes`](https://networkx.org/documentation/stable/reference/generated/networkx.classes.function.set_edge_attributes.html) function.\n",
    "- Considering the shuffled edge signs,  compute the fraction of triangles in each configuration ($\\{+,+,+\\}$,  $\\{-,-,-\\}$,  $\\{+,+,-\\}$, $\\{+,-,-\\}$). Moreover, compute the fraction of triangles that are \"balanced\" according to structural balance theory. (Reminder: consider only the RfAs of 2004.)\n"
   ]
  },
  {
   "cell_type": "code",
   "execution_count": 281,
   "id": "8b4cba61",
   "metadata": {},
   "outputs": [],
   "source": [
    "# PROVIDED STUB FOR 2.4\n",
    "import numpy as np\n",
    "np.random.seed(32)\n",
    "RFA_2004[\"VOT_RND\"] = np.random.choice(RFA_2004[\"VOT\"].values, size=len(RFA_2004), replace=False)"
   ]
  },
  {
   "cell_type": "code",
   "execution_count": 282,
   "id": "18451c33",
   "metadata": {},
   "outputs": [],
   "source": [
    "VOT_RND = list(RFA_2004[\"VOT_RND\"])"
   ]
  },
  {
   "cell_type": "code",
   "execution_count": 283,
   "id": "49cf240b",
   "metadata": {},
   "outputs": [],
   "source": [
    "# 2.4\n",
    "nx.set_edge_attributes(G_2004, VOT_RND, \"VOT_RND\")"
   ]
  },
  {
   "cell_type": "code",
   "execution_count": 284,
   "id": "a7f9e9af",
   "metadata": {},
   "outputs": [
    {
     "name": "stdout",
     "output_type": "stream",
     "text": [
      "0 8448 0 0\n",
      "8448\n",
      "[0.0, 1.0, 0.0, 0.0]\n"
     ]
    }
   ],
   "source": [
    "# Here repeat code of previous task\n",
    "votes_RND = nx.get_edge_attributes(G_2004,'VOT_RND')\n",
    "\n",
    "all_pos_RND = 0\n",
    "all_negs_RND = 0\n",
    "most_pos_RND = 0\n",
    "most_negs_RND = 0\n",
    "\n",
    "for tri in triangles:\n",
    "    if ((votes_RND[tri[0],tri[1]] == 1) and (votes_RND[tri[0],tri[2]] == 1) and (votes_RND[tri[1],tri[2]] == 1)):\n",
    "        all_pos_RND +=1\n",
    "    elif ((votes_RND[tri[0],tri[1]] == 1) and (votes_RND[tri[0],tri[2]] == 1) and (votes_RND[tri[1],tri[2]] != 1)): \n",
    "        most_pos_RND += 1\n",
    "    elif ((votes_RND[tri[0],tri[1]] != 1) and (votes_RND[tri[0],tri[2]] == 1) and (votes_RND[tri[1],tri[2]] == 1)): \n",
    "        most_pos_RND += 1\n",
    "    elif ((votes_RND[tri[0],tri[1]] == 1) and (votes_RND[tri[0],tri[2]] != 1) and (votes_RND[tri[1],tri[2]] == 1)): \n",
    "        most_pos_RND += 1\n",
    "    elif ((votes_RND[tri[0],tri[1]] != 1) and (votes_RND[tri[0],tri[2]] == 1) and (votes_RND[tri[1],tri[2]] != 1)): \n",
    "        most_negs_RND += 1\n",
    "    elif ((votes_RND[tri[0],tri[1]] != 1) and (votes_RND[tri[0],tri[2]] != 1) and (votes_RND[tri[1],tri[2]] == 1)): \n",
    "        most_negs_RND += 1\n",
    "    elif ((votes_RND[tri[0],tri[1]] == 1) and (votes_RND[tri[0],tri[2]] != 1) and (votes_RND[tri[1],tri[2]] != 1)): \n",
    "        most_negs_RND += 1\n",
    "    elif ((votes_RND[tri[0],tri[1]] != 1) and (votes_RND[tri[0],tri[2]] != 1) and (votes_RND[tri[1],tri[2]] != 1)): \n",
    "        all_negs_RND += 1\n",
    "\n",
    "print(all_pos_RND, all_negs_RND, most_pos_RND, most_negs_RND)   \n",
    "print(np.sum([all_pos_RND, all_negs_RND, most_pos_RND, most_negs_RND])) #to make sure I did not forget any triangle\n",
    "fractions_RND = [all_pos_RND/len(triangles), all_negs_RND/len(triangles), most_pos_RND/len(triangles), most_negs_RND/len(triangles)]\n",
    "print(fractions_RND)"
   ]
  },
  {
   "cell_type": "markdown",
   "id": "f055a145",
   "metadata": {},
   "source": [
    "**2.5** **/Discuss:/** Do the results of tasks **2.3** and **2.4** suggest that structural balance theory is correct? What kind of subsequent analysis would make you trust that the results are not obtained simply by chance? (No need to actually perform that subsequent analysis here.) Justify your answer."
   ]
  },
  {
   "cell_type": "markdown",
   "id": "dcd070a6",
   "metadata": {},
   "source": [
    "**A2.5** \n",
    "From the code above I imagine there is a bug because I only obtain values all negative votes between the triangles, hence I can not discuss."
   ]
  },
  {
   "cell_type": "markdown",
   "id": "d5252ffb",
   "metadata": {},
   "source": [
    "### Interlude: Additional data\n",
    "\n",
    "In the data provided in the file `wiki-RfA.csv.gz` (with which you’ve worked up to now), each column corresponds to a vote from a user $u$ to a user $v$ at a time $t$. \n",
    "\n",
    "In **Task 2**, we did not consider the temporal aspect of this network. For the next task, you are provided with a complimentary dataset (`data/wiki-RfA_extra.csv.gz`) containing, for each vote (uniquely determined by `SRC` and `TGT`), a variety of features. **Importantly, these features were calculated considering only data that was already available at the time when the respective vote was cast.** The features are described as follows.\n",
    "\n",
    "- `PP`, `NN`, `PN` — Each vote (signed edge) is part of zero or more triangles, and we computed the number of triangles in which the two remaining edges were both positive (`PP`), both negative (`NN`) and of different signs (i.e., one positive and one negative, `PN`). This considers only the votes the target (denoted by `TGT`) has received before the current vote. \n",
    "\n",
    "- `P`, `N` — The number of positive (`P`) and negative (`N`) votes that the target `TGT` received before the current vote.\n",
    "\n",
    "- `TXT_PROCESSED` — The text in the original dataset, processed so 1) it is entirely lower-case, 2) it does not contain non-alphanumeric characters, and 3) it does not contain words starting with “supp” or “opp” (since words such as \"support\" and \"oppose\"  are obvious give-away signals of the vote).\n",
    "\n",
    "### Interlude: Predicting edge signs with structural balance theory\n",
    "\n",
    "We can use structural balance theory to predict edge signs. \n",
    "\n",
    "Consider an edge whose sign we do not know, as well as the fractions `PP`, `NN`, and `PN` associated with the edge, as defined above. \n",
    "\n",
    "According to structural balance theory, if `PP` + `NN` $\\geq$ `PN`, the vote is predicted to be positive, as this will create more balanced triangles in the graph. Otherwise, it is predicted to be negative. \n",
    "\n",
    "According to the weak structural balance theory, if `PP` $\\geq$ `PN`, the vote is predicted to be positive, as this will create more balanced triangles in the graph. Otherwise, it is predicted to be negative. \n",
    "\n",
    "Note that in both cases we use “$\\geq$” rather than “<”, i.e., when both sides of the equation are equal, we break ties in favor of positive edges. We do so because there are more positive edges in the graph."
   ]
  },
  {
   "cell_type": "markdown",
   "id": "e2f20eed",
   "metadata": {},
   "source": [
    "### Task 3: Predict it!\n",
    "\n",
    "In the final part of the exam, you will leverage your machine learning and regression skills.\n",
    "\n",
    "**3.1** Merge the new dataset with the original dataframe from task **1** using the columns `SRC` and `TGT`. You may drop the old `TXT` column if you want to. \n"
   ]
  },
  {
   "cell_type": "code",
   "execution_count": 285,
   "id": "a2272113",
   "metadata": {},
   "outputs": [],
   "source": [
    "# 3.1\n",
    "RFA_total = RFA.copy()\n",
    "RFA_total = RFA_total.merge(pd.read_csv('./wiki-RfA_extra.csv'), on = ['SRC', 'TGT']).drop(columns = 'TXT')"
   ]
  },
  {
   "cell_type": "code",
   "execution_count": 286,
   "id": "de9b122d",
   "metadata": {},
   "outputs": [
    {
     "data": {
      "text/html": [
       "<div>\n",
       "<style scoped>\n",
       "    .dataframe tbody tr th:only-of-type {\n",
       "        vertical-align: middle;\n",
       "    }\n",
       "\n",
       "    .dataframe tbody tr th {\n",
       "        vertical-align: top;\n",
       "    }\n",
       "\n",
       "    .dataframe thead th {\n",
       "        text-align: right;\n",
       "    }\n",
       "</style>\n",
       "<table border=\"1\" class=\"dataframe\">\n",
       "  <thead>\n",
       "    <tr style=\"text-align: right;\">\n",
       "      <th></th>\n",
       "      <th>SRC</th>\n",
       "      <th>TGT</th>\n",
       "      <th>VOT</th>\n",
       "      <th>RES</th>\n",
       "      <th>YEA_x</th>\n",
       "      <th>DAT</th>\n",
       "      <th>YEA_y</th>\n",
       "      <th>PP</th>\n",
       "      <th>NN</th>\n",
       "      <th>PN</th>\n",
       "      <th>N</th>\n",
       "      <th>P</th>\n",
       "      <th>TXT_PROCESSED</th>\n",
       "    </tr>\n",
       "  </thead>\n",
       "  <tbody>\n",
       "    <tr>\n",
       "      <th>0</th>\n",
       "      <td>5943</td>\n",
       "      <td>9966</td>\n",
       "      <td>-1</td>\n",
       "      <td>-1</td>\n",
       "      <td>2012</td>\n",
       "      <td>2012-12-30 22:27:00</td>\n",
       "      <td>2012</td>\n",
       "      <td>2</td>\n",
       "      <td>0</td>\n",
       "      <td>4</td>\n",
       "      <td>12</td>\n",
       "      <td>0</td>\n",
       "      <td></td>\n",
       "    </tr>\n",
       "    <tr>\n",
       "      <th>1</th>\n",
       "      <td>9153</td>\n",
       "      <td>9966</td>\n",
       "      <td>-1</td>\n",
       "      <td>-1</td>\n",
       "      <td>2012</td>\n",
       "      <td>2012-12-30 22:25:00</td>\n",
       "      <td>2012</td>\n",
       "      <td>2</td>\n",
       "      <td>1</td>\n",
       "      <td>3</td>\n",
       "      <td>11</td>\n",
       "      <td>0</td>\n",
       "      <td>this joke really isn t funny not even if you ...</td>\n",
       "    </tr>\n",
       "    <tr>\n",
       "      <th>2</th>\n",
       "      <td>4189</td>\n",
       "      <td>9966</td>\n",
       "      <td>-1</td>\n",
       "      <td>-1</td>\n",
       "      <td>2012</td>\n",
       "      <td>2012-12-30 22:17:00</td>\n",
       "      <td>2012</td>\n",
       "      <td>0</td>\n",
       "      <td>0</td>\n",
       "      <td>2</td>\n",
       "      <td>10</td>\n",
       "      <td>0</td>\n",
       "      <td>as per nomination and answers</td>\n",
       "    </tr>\n",
       "    <tr>\n",
       "      <th>3</th>\n",
       "      <td>3750</td>\n",
       "      <td>9966</td>\n",
       "      <td>-1</td>\n",
       "      <td>-1</td>\n",
       "      <td>2012</td>\n",
       "      <td>2012-12-30 22:14:00</td>\n",
       "      <td>2012</td>\n",
       "      <td>0</td>\n",
       "      <td>0</td>\n",
       "      <td>0</td>\n",
       "      <td>9</td>\n",
       "      <td>0</td>\n",
       "      <td>and speeedy close this as wp snow as it s cle...</td>\n",
       "    </tr>\n",
       "    <tr>\n",
       "      <th>4</th>\n",
       "      <td>4225</td>\n",
       "      <td>9966</td>\n",
       "      <td>-1</td>\n",
       "      <td>-1</td>\n",
       "      <td>2012</td>\n",
       "      <td>2012-12-30 22:08:00</td>\n",
       "      <td>2012</td>\n",
       "      <td>0</td>\n",
       "      <td>0</td>\n",
       "      <td>1</td>\n",
       "      <td>8</td>\n",
       "      <td>0</td>\n",
       "      <td>per nomination and answers i am particularly ...</td>\n",
       "    </tr>\n",
       "  </tbody>\n",
       "</table>\n",
       "</div>"
      ],
      "text/plain": [
       "    SRC   TGT  VOT  RES  YEA_x                  DAT  YEA_y  PP  NN  PN   N  P  \\\n",
       "0  5943  9966   -1   -1   2012  2012-12-30 22:27:00   2012   2   0   4  12  0   \n",
       "1  9153  9966   -1   -1   2012  2012-12-30 22:25:00   2012   2   1   3  11  0   \n",
       "2  4189  9966   -1   -1   2012  2012-12-30 22:17:00   2012   0   0   2  10  0   \n",
       "3  3750  9966   -1   -1   2012  2012-12-30 22:14:00   2012   0   0   0   9  0   \n",
       "4  4225  9966   -1   -1   2012  2012-12-30 22:08:00   2012   0   0   1   8  0   \n",
       "\n",
       "                                       TXT_PROCESSED  \n",
       "0                                                     \n",
       "1   this joke really isn t funny not even if you ...  \n",
       "2                     as per nomination and answers   \n",
       "3   and speeedy close this as wp snow as it s cle...  \n",
       "4   per nomination and answers i am particularly ...  "
      ]
     },
     "execution_count": 286,
     "metadata": {},
     "output_type": "execute_result"
    }
   ],
   "source": [
    "RFA_total.head(5)"
   ]
  },
  {
   "cell_type": "markdown",
   "id": "c5d42a2d",
   "metadata": {},
   "source": [
    "**3.2**  Create the following two rule-based classifiers, and for each, estimate its area under the ROC curve (a.k.a. “AUC/ROC”) on the entire dataset:\n",
    "\n",
    "- **A)** a classifier inspired by structural balance theory. The classifier should predict a positive vote if  `PP` + `NN` $\\geq$ `PN`, and a negative vote otherwise.\n",
    "- **B)** a classifier inspired by weak structural balance theory. The classifier should predict a positive vote if `PP`  $\\geq$ `PN` and a negative vote otherwise."
   ]
  },
  {
   "cell_type": "code",
   "execution_count": 287,
   "id": "44643421",
   "metadata": {},
   "outputs": [
    {
     "name": "stdout",
     "output_type": "stream",
     "text": [
      "The AUC/ROC for the structural predictor is  0.525390127858417  and for the weak predictor is  0.528036104766419\n"
     ]
    }
   ],
   "source": [
    "# 3.2\n",
    "y_true = np.where(RFA_total['VOT']==1,1,0)\n",
    "y_pred_struct = np.where((RFA_total['PP']+ RFA_total['NN']>= RFA_total['PN']),1,0)\n",
    "y_pred_weak = np.where((RFA_total['PP']>= RFA_total['PN']),1,0)\n",
    "from sklearn.metrics import roc_auc_score\n",
    "auc_roc_struct = roc_auc_score(y_true, y_pred_struct)\n",
    "auc_roc_weak = roc_auc_score(y_true, y_pred_weak)\n",
    "print('The AUC/ROC for the structural predictor is ', auc_roc_struct, ' and for the weak predictor is ', auc_roc_weak)"
   ]
  },
  {
   "cell_type": "markdown",
   "id": "0161ec09",
   "metadata": {},
   "source": [
    "**3.3** To determine if the differences in the classifiers from task **3.2** occur solely due to chance, follow the following bootstrap procedure, using 200 iterations:\n",
    "\n",
    "- **A)** Randomly sample the entire dataset (i.e., votes from the dataframe constructed in task **3.1**) with replacement;\n",
    "- **B)** Compute the difference of the AUC/ROC for the two classifiers on the entire dataset.\n",
    "\n",
    "Then use the distribution of AUC/ROC differences (one difference per bootstrap iteration) to estimate the 95% confidence interval for the AUC/ROC difference."
   ]
  },
  {
   "cell_type": "code",
   "execution_count": 288,
   "id": "bf0e2c30",
   "metadata": {},
   "outputs": [],
   "source": [
    "def bootstrap_CI_ROC_diff(data,alpha = 0.05, n_samples = 1000):\n",
    "    #create an empty list to store the results\n",
    "    results = []\n",
    "    #run the bootstrap\n",
    "    for i in range(n_samples):\n",
    "        #make a sample with replacement\n",
    "        sample = data.sample(n = len(data), replace = True)\n",
    "        #calculate the statistic of interest\n",
    "        y_true = np.where(data['VOT']==1,1,0)\n",
    "        y_pred_struct = np.where((data['PP']+ data['NN']>= data['PN']),1,0)\n",
    "        y_pred_weak = np.where((data['PP']>= data['PN']),1,0)\n",
    "        auc_roc_struct = roc_auc_score(y_true, y_pred_struct)\n",
    "        auc_roc_weak = roc_auc_score(y_true, y_pred_weak)\n",
    "        results.append(auc_roc_struct - auc_roc_weak )\n",
    "    #calculate the confidence interval\n",
    "    results = pd.Series(results)\n",
    "    CI = results.quantile([alpha/2, 1-alpha/2])\n",
    "    return CI"
   ]
  },
  {
   "cell_type": "code",
   "execution_count": 289,
   "id": "88123008",
   "metadata": {},
   "outputs": [
    {
     "data": {
      "text/plain": [
       "0.025   -0.002646\n",
       "0.975   -0.002646\n",
       "dtype: float64"
      ]
     },
     "execution_count": 289,
     "metadata": {},
     "output_type": "execute_result"
    }
   ],
   "source": [
    "bootstrap_CI_ROC_diff(RFA_total, alpha = 0.05, n_samples = 200)"
   ]
  },
  {
   "cell_type": "markdown",
   "id": "4d0e1569",
   "metadata": {},
   "source": [
    "**3.4 ** **/Discuss:**/ According to the results in tasks **3.2** and **3.3**, which theory better predicts actual edge signs, structural balance theory or the weak structural balance theory? \n"
   ]
  },
  {
   "cell_type": "markdown",
   "id": "94b39801",
   "metadata": {},
   "source": [
    "**A3.4**  As 0 is not in the 95% range of the differences, it seems that the weak theory predicts better the actual results (only slightly better)"
   ]
  },
  {
   "cell_type": "markdown",
   "id": "28d37dc1",
   "metadata": {},
   "source": [
    "**3.5** How accurately can we predict the vote with more sophisticated features and algorithms?\n",
    "\n",
    "- Create a TF-IDF representation of the text of each vote  using `sklearn`'s vectorizer ([`sklearn.feature_extraction.text.TfidfVectorizer`](https://scikit-learn.org/stable/modules/generated/sklearn.feature_extraction.text.TfidfVectorizer.html)) with the parameters `max_features=150` and `stop_words='english'`.\n",
    "- Split the  dataset into training and test sets using sklearn [`sklearn.model_selection.train_test_split`](https://scikit-learn.org/stable/modules/generated/sklearn.model_selection.train_test_split.html) using parameters `test_size=0.1` and  `random_state=42`.\n",
    "\n",
    "- Then, train two logistic regression models ([`sklearn.linear_model.SGDClassifier`](https://scikit-learn.org/stable/modules/generated/sklearn.linear_model.SGDClassifier.html)) using parameters `loss='log_loss'` and `max_iter=2000` considering:\n",
    "\n",
    "    - **1)** the TF-IDF feature vector\n",
    "\n",
    "    - **2)** the TF-IDF feature vector and the features `PP`, `NN`, `PN`, `P`, and `N` related to the graph.\n",
    "\n",
    "- Last, report the AUC/ROC of each model in the test set."
   ]
  },
  {
   "cell_type": "code",
   "execution_count": 290,
   "id": "764a00f3",
   "metadata": {},
   "outputs": [],
   "source": [
    "# 3.5\n",
    "from sklearn.feature_extraction.text import TfidfVectorizer\n",
    "from sklearn.model_selection import train_test_split\n",
    "\n",
    "X_train, X_test, y_train, y_test = train_test_split(\n",
    "   RFA_total.fillna(0) , y_true, test_size=0.1, random_state=42)\n"
   ]
  },
  {
   "cell_type": "code",
   "execution_count": 291,
   "id": "d7d21a51",
   "metadata": {},
   "outputs": [],
   "source": [
    "vectorizer = TfidfVectorizer(max_features=150,stop_words='english' )\n",
    "text_feats_train = vectorizer.fit_transform(X_train['TXT_PROCESSED'].values.astype('U'))\n",
    "text_feats_test = vectorizer.fit_transform(X_test['TXT_PROCESSED'].values.astype('U'))"
   ]
  },
  {
   "cell_type": "code",
   "execution_count": 292,
   "id": "a55488e2",
   "metadata": {},
   "outputs": [],
   "source": [
    "X_train_onlytext = pd.DataFrame(text_feats_train.toarray())\n",
    "\n",
    "X_train_complete = pd.concat([pd.DataFrame(X_train[['PP', 'NN', 'PN', 'N']].fillna(0)), X_train_onlytext], axis = 1)\n",
    "X_test_onlytext = pd.DataFrame(text_feats_test.toarray())\n",
    "X_test_complete = pd.concat([X_test[['PP', 'NN', 'PN', 'N']].fillna(0), X_test_onlytext], axis = 1)\n"
   ]
  },
  {
   "cell_type": "code",
   "execution_count": 293,
   "id": "d4f33bbe",
   "metadata": {},
   "outputs": [],
   "source": [
    "from sklearn.preprocessing import StandardScaler\n",
    "from sklearn.linear_model import SGDClassifier\n",
    "from sklearn.pipeline import make_pipeline\n",
    "\n",
    "clf = make_pipeline(StandardScaler(),\n",
    "                SGDClassifier(loss='log_loss', max_iter=2000, tol=1e-3))"
   ]
  },
  {
   "cell_type": "code",
   "execution_count": 294,
   "id": "c8727a07",
   "metadata": {},
   "outputs": [],
   "source": [
    "X_train_complete.columns = X_train_complete.columns.astype(str) \n",
    "mod_text = clf.fit(X_train_onlytext, y_train)\n",
    "#gives bug, no time to find where it comes from"
   ]
  },
  {
   "cell_type": "code",
   "execution_count": 295,
   "id": "e119d006",
   "metadata": {},
   "outputs": [
    {
     "name": "stdout",
     "output_type": "stream",
     "text": [
      "Model auc roc only for text:  0.637990886687668\n"
     ]
    }
   ],
   "source": [
    "y_pred_text = mod_text.predict(X_test_onlytext)\n",
    "\n",
    "auc_roc_text = roc_auc_score(y_test, y_pred_text)\n",
    "print('Model auc roc only for text: ',auc_roc_text)"
   ]
  },
  {
   "cell_type": "code",
   "execution_count": 296,
   "id": "cc30c94e",
   "metadata": {},
   "outputs": [
    {
     "data": {
      "text/plain": [
       "(150302, 13)"
      ]
     },
     "execution_count": 296,
     "metadata": {},
     "output_type": "execute_result"
    }
   ],
   "source": [
    "X_train.shape "
   ]
  },
  {
   "cell_type": "code",
   "execution_count": 297,
   "id": "3ec39d0c",
   "metadata": {},
   "outputs": [
    {
     "ename": "ValueError",
     "evalue": "Input X contains NaN.\nSGDClassifier does not accept missing values encoded as NaN natively. For supervised learning, you might want to consider sklearn.ensemble.HistGradientBoostingClassifier and Regressor which accept missing values encoded as NaNs natively. Alternatively, it is possible to preprocess the data, for instance by using an imputer transformer in a pipeline or drop samples with missing values. See https://scikit-learn.org/stable/modules/impute.html You can find a list of all estimators that handle NaN values at the following page: https://scikit-learn.org/stable/modules/impute.html#estimators-that-handle-nan-values",
     "output_type": "error",
     "traceback": [
      "\u001b[1;31m---------------------------------------------------------------------------\u001b[0m",
      "\u001b[1;31mValueError\u001b[0m                                Traceback (most recent call last)",
      "\u001b[1;32m~\\AppData\\Local\\Temp/ipykernel_4656/572917919.py\u001b[0m in \u001b[0;36m<module>\u001b[1;34m\u001b[0m\n\u001b[1;32m----> 1\u001b[1;33m \u001b[0mmod_complete\u001b[0m \u001b[1;33m=\u001b[0m \u001b[0mclf\u001b[0m\u001b[1;33m.\u001b[0m\u001b[0mfit\u001b[0m\u001b[1;33m(\u001b[0m\u001b[0mX_train_complete\u001b[0m\u001b[1;33m,\u001b[0m \u001b[0my_train\u001b[0m\u001b[1;33m)\u001b[0m \u001b[1;31m#bug due to nans\u001b[0m\u001b[1;33m\u001b[0m\u001b[1;33m\u001b[0m\u001b[0m\n\u001b[0m",
      "\u001b[1;32m~\\anaconda3\\envs\\adaexam\\lib\\site-packages\\sklearn\\pipeline.py\u001b[0m in \u001b[0;36mfit\u001b[1;34m(self, X, y, **fit_params)\u001b[0m\n\u001b[0;32m    404\u001b[0m             \u001b[1;32mif\u001b[0m \u001b[0mself\u001b[0m\u001b[1;33m.\u001b[0m\u001b[0m_final_estimator\u001b[0m \u001b[1;33m!=\u001b[0m \u001b[1;34m\"passthrough\"\u001b[0m\u001b[1;33m:\u001b[0m\u001b[1;33m\u001b[0m\u001b[1;33m\u001b[0m\u001b[0m\n\u001b[0;32m    405\u001b[0m                 \u001b[0mfit_params_last_step\u001b[0m \u001b[1;33m=\u001b[0m \u001b[0mfit_params_steps\u001b[0m\u001b[1;33m[\u001b[0m\u001b[0mself\u001b[0m\u001b[1;33m.\u001b[0m\u001b[0msteps\u001b[0m\u001b[1;33m[\u001b[0m\u001b[1;33m-\u001b[0m\u001b[1;36m1\u001b[0m\u001b[1;33m]\u001b[0m\u001b[1;33m[\u001b[0m\u001b[1;36m0\u001b[0m\u001b[1;33m]\u001b[0m\u001b[1;33m]\u001b[0m\u001b[1;33m\u001b[0m\u001b[1;33m\u001b[0m\u001b[0m\n\u001b[1;32m--> 406\u001b[1;33m                 \u001b[0mself\u001b[0m\u001b[1;33m.\u001b[0m\u001b[0m_final_estimator\u001b[0m\u001b[1;33m.\u001b[0m\u001b[0mfit\u001b[0m\u001b[1;33m(\u001b[0m\u001b[0mXt\u001b[0m\u001b[1;33m,\u001b[0m \u001b[0my\u001b[0m\u001b[1;33m,\u001b[0m \u001b[1;33m**\u001b[0m\u001b[0mfit_params_last_step\u001b[0m\u001b[1;33m)\u001b[0m\u001b[1;33m\u001b[0m\u001b[1;33m\u001b[0m\u001b[0m\n\u001b[0m\u001b[0;32m    407\u001b[0m \u001b[1;33m\u001b[0m\u001b[0m\n\u001b[0;32m    408\u001b[0m         \u001b[1;32mreturn\u001b[0m \u001b[0mself\u001b[0m\u001b[1;33m\u001b[0m\u001b[1;33m\u001b[0m\u001b[0m\n",
      "\u001b[1;32m~\\anaconda3\\envs\\adaexam\\lib\\site-packages\\sklearn\\linear_model\\_stochastic_gradient.py\u001b[0m in \u001b[0;36mfit\u001b[1;34m(self, X, y, coef_init, intercept_init, sample_weight)\u001b[0m\n\u001b[0;32m    894\u001b[0m         \u001b[0mself\u001b[0m\u001b[1;33m.\u001b[0m\u001b[0m_more_validate_params\u001b[0m\u001b[1;33m(\u001b[0m\u001b[1;33m)\u001b[0m\u001b[1;33m\u001b[0m\u001b[1;33m\u001b[0m\u001b[0m\n\u001b[0;32m    895\u001b[0m \u001b[1;33m\u001b[0m\u001b[0m\n\u001b[1;32m--> 896\u001b[1;33m         return self._fit(\n\u001b[0m\u001b[0;32m    897\u001b[0m             \u001b[0mX\u001b[0m\u001b[1;33m,\u001b[0m\u001b[1;33m\u001b[0m\u001b[1;33m\u001b[0m\u001b[0m\n\u001b[0;32m    898\u001b[0m             \u001b[0my\u001b[0m\u001b[1;33m,\u001b[0m\u001b[1;33m\u001b[0m\u001b[1;33m\u001b[0m\u001b[0m\n",
      "\u001b[1;32m~\\anaconda3\\envs\\adaexam\\lib\\site-packages\\sklearn\\linear_model\\_stochastic_gradient.py\u001b[0m in \u001b[0;36m_fit\u001b[1;34m(self, X, y, alpha, C, loss, learning_rate, coef_init, intercept_init, sample_weight)\u001b[0m\n\u001b[0;32m    683\u001b[0m         \u001b[0mself\u001b[0m\u001b[1;33m.\u001b[0m\u001b[0mt_\u001b[0m \u001b[1;33m=\u001b[0m \u001b[1;36m1.0\u001b[0m\u001b[1;33m\u001b[0m\u001b[1;33m\u001b[0m\u001b[0m\n\u001b[0;32m    684\u001b[0m \u001b[1;33m\u001b[0m\u001b[0m\n\u001b[1;32m--> 685\u001b[1;33m         self._partial_fit(\n\u001b[0m\u001b[0;32m    686\u001b[0m             \u001b[0mX\u001b[0m\u001b[1;33m,\u001b[0m\u001b[1;33m\u001b[0m\u001b[1;33m\u001b[0m\u001b[0m\n\u001b[0;32m    687\u001b[0m             \u001b[0my\u001b[0m\u001b[1;33m,\u001b[0m\u001b[1;33m\u001b[0m\u001b[1;33m\u001b[0m\u001b[0m\n",
      "\u001b[1;32m~\\anaconda3\\envs\\adaexam\\lib\\site-packages\\sklearn\\linear_model\\_stochastic_gradient.py\u001b[0m in \u001b[0;36m_partial_fit\u001b[1;34m(self, X, y, alpha, C, loss, learning_rate, max_iter, classes, sample_weight, coef_init, intercept_init)\u001b[0m\n\u001b[0;32m    579\u001b[0m     ):\n\u001b[0;32m    580\u001b[0m         \u001b[0mfirst_call\u001b[0m \u001b[1;33m=\u001b[0m \u001b[1;32mnot\u001b[0m \u001b[0mhasattr\u001b[0m\u001b[1;33m(\u001b[0m\u001b[0mself\u001b[0m\u001b[1;33m,\u001b[0m \u001b[1;34m\"classes_\"\u001b[0m\u001b[1;33m)\u001b[0m\u001b[1;33m\u001b[0m\u001b[1;33m\u001b[0m\u001b[0m\n\u001b[1;32m--> 581\u001b[1;33m         X, y = self._validate_data(\n\u001b[0m\u001b[0;32m    582\u001b[0m             \u001b[0mX\u001b[0m\u001b[1;33m,\u001b[0m\u001b[1;33m\u001b[0m\u001b[1;33m\u001b[0m\u001b[0m\n\u001b[0;32m    583\u001b[0m             \u001b[0my\u001b[0m\u001b[1;33m,\u001b[0m\u001b[1;33m\u001b[0m\u001b[1;33m\u001b[0m\u001b[0m\n",
      "\u001b[1;32m~\\anaconda3\\envs\\adaexam\\lib\\site-packages\\sklearn\\base.py\u001b[0m in \u001b[0;36m_validate_data\u001b[1;34m(self, X, y, reset, validate_separately, **check_params)\u001b[0m\n\u001b[0;32m    552\u001b[0m                 \u001b[0my\u001b[0m \u001b[1;33m=\u001b[0m \u001b[0mcheck_array\u001b[0m\u001b[1;33m(\u001b[0m\u001b[0my\u001b[0m\u001b[1;33m,\u001b[0m \u001b[0minput_name\u001b[0m\u001b[1;33m=\u001b[0m\u001b[1;34m\"y\"\u001b[0m\u001b[1;33m,\u001b[0m \u001b[1;33m**\u001b[0m\u001b[0mcheck_y_params\u001b[0m\u001b[1;33m)\u001b[0m\u001b[1;33m\u001b[0m\u001b[1;33m\u001b[0m\u001b[0m\n\u001b[0;32m    553\u001b[0m             \u001b[1;32melse\u001b[0m\u001b[1;33m:\u001b[0m\u001b[1;33m\u001b[0m\u001b[1;33m\u001b[0m\u001b[0m\n\u001b[1;32m--> 554\u001b[1;33m                 \u001b[0mX\u001b[0m\u001b[1;33m,\u001b[0m \u001b[0my\u001b[0m \u001b[1;33m=\u001b[0m \u001b[0mcheck_X_y\u001b[0m\u001b[1;33m(\u001b[0m\u001b[0mX\u001b[0m\u001b[1;33m,\u001b[0m \u001b[0my\u001b[0m\u001b[1;33m,\u001b[0m \u001b[1;33m**\u001b[0m\u001b[0mcheck_params\u001b[0m\u001b[1;33m)\u001b[0m\u001b[1;33m\u001b[0m\u001b[1;33m\u001b[0m\u001b[0m\n\u001b[0m\u001b[0;32m    555\u001b[0m             \u001b[0mout\u001b[0m \u001b[1;33m=\u001b[0m \u001b[0mX\u001b[0m\u001b[1;33m,\u001b[0m \u001b[0my\u001b[0m\u001b[1;33m\u001b[0m\u001b[1;33m\u001b[0m\u001b[0m\n\u001b[0;32m    556\u001b[0m \u001b[1;33m\u001b[0m\u001b[0m\n",
      "\u001b[1;32m~\\anaconda3\\envs\\adaexam\\lib\\site-packages\\sklearn\\utils\\validation.py\u001b[0m in \u001b[0;36mcheck_X_y\u001b[1;34m(X, y, accept_sparse, accept_large_sparse, dtype, order, copy, force_all_finite, ensure_2d, allow_nd, multi_output, ensure_min_samples, ensure_min_features, y_numeric, estimator)\u001b[0m\n\u001b[0;32m   1102\u001b[0m         )\n\u001b[0;32m   1103\u001b[0m \u001b[1;33m\u001b[0m\u001b[0m\n\u001b[1;32m-> 1104\u001b[1;33m     X = check_array(\n\u001b[0m\u001b[0;32m   1105\u001b[0m         \u001b[0mX\u001b[0m\u001b[1;33m,\u001b[0m\u001b[1;33m\u001b[0m\u001b[1;33m\u001b[0m\u001b[0m\n\u001b[0;32m   1106\u001b[0m         \u001b[0maccept_sparse\u001b[0m\u001b[1;33m=\u001b[0m\u001b[0maccept_sparse\u001b[0m\u001b[1;33m,\u001b[0m\u001b[1;33m\u001b[0m\u001b[1;33m\u001b[0m\u001b[0m\n",
      "\u001b[1;32m~\\anaconda3\\envs\\adaexam\\lib\\site-packages\\sklearn\\utils\\validation.py\u001b[0m in \u001b[0;36mcheck_array\u001b[1;34m(array, accept_sparse, accept_large_sparse, dtype, order, copy, force_all_finite, ensure_2d, allow_nd, ensure_min_samples, ensure_min_features, estimator, input_name)\u001b[0m\n\u001b[0;32m    917\u001b[0m \u001b[1;33m\u001b[0m\u001b[0m\n\u001b[0;32m    918\u001b[0m         \u001b[1;32mif\u001b[0m \u001b[0mforce_all_finite\u001b[0m\u001b[1;33m:\u001b[0m\u001b[1;33m\u001b[0m\u001b[1;33m\u001b[0m\u001b[0m\n\u001b[1;32m--> 919\u001b[1;33m             _assert_all_finite(\n\u001b[0m\u001b[0;32m    920\u001b[0m                 \u001b[0marray\u001b[0m\u001b[1;33m,\u001b[0m\u001b[1;33m\u001b[0m\u001b[1;33m\u001b[0m\u001b[0m\n\u001b[0;32m    921\u001b[0m                 \u001b[0minput_name\u001b[0m\u001b[1;33m=\u001b[0m\u001b[0minput_name\u001b[0m\u001b[1;33m,\u001b[0m\u001b[1;33m\u001b[0m\u001b[1;33m\u001b[0m\u001b[0m\n",
      "\u001b[1;32m~\\anaconda3\\envs\\adaexam\\lib\\site-packages\\sklearn\\utils\\validation.py\u001b[0m in \u001b[0;36m_assert_all_finite\u001b[1;34m(X, allow_nan, msg_dtype, estimator_name, input_name)\u001b[0m\n\u001b[0;32m    159\u001b[0m                 \u001b[1;34m\"#estimators-that-handle-nan-values\"\u001b[0m\u001b[1;33m\u001b[0m\u001b[1;33m\u001b[0m\u001b[0m\n\u001b[0;32m    160\u001b[0m             )\n\u001b[1;32m--> 161\u001b[1;33m         \u001b[1;32mraise\u001b[0m \u001b[0mValueError\u001b[0m\u001b[1;33m(\u001b[0m\u001b[0mmsg_err\u001b[0m\u001b[1;33m)\u001b[0m\u001b[1;33m\u001b[0m\u001b[1;33m\u001b[0m\u001b[0m\n\u001b[0m\u001b[0;32m    162\u001b[0m \u001b[1;33m\u001b[0m\u001b[0m\n\u001b[0;32m    163\u001b[0m \u001b[1;33m\u001b[0m\u001b[0m\n",
      "\u001b[1;31mValueError\u001b[0m: Input X contains NaN.\nSGDClassifier does not accept missing values encoded as NaN natively. For supervised learning, you might want to consider sklearn.ensemble.HistGradientBoostingClassifier and Regressor which accept missing values encoded as NaNs natively. Alternatively, it is possible to preprocess the data, for instance by using an imputer transformer in a pipeline or drop samples with missing values. See https://scikit-learn.org/stable/modules/impute.html You can find a list of all estimators that handle NaN values at the following page: https://scikit-learn.org/stable/modules/impute.html#estimators-that-handle-nan-values"
     ]
    }
   ],
   "source": [
    "mod_complete = clf.fit(X_train_complete, y_train) #bug due to nans"
   ]
  },
  {
   "cell_type": "code",
   "execution_count": null,
   "id": "7d6c37ec",
   "metadata": {},
   "outputs": [],
   "source": []
  },
  {
   "cell_type": "markdown",
   "id": "898cbdd1",
   "metadata": {},
   "source": [
    "**3.6** **/Discuss:**/  According to the results in task **3.5**, does information from the graph help in the task of predicting the vote even when using the text?  What kind of subsequent analysis would make you trust that the results are not obtained simply by chance? (No need to actually perform that subsequent analysis here.) "
   ]
  },
  {
   "cell_type": "markdown",
   "id": "6b6767ad",
   "metadata": {},
   "source": [
    "**A3.6** *YOUR ANSWER HERE*"
   ]
  },
  {
   "cell_type": "markdown",
   "id": "7f51071d",
   "metadata": {},
   "source": [
    "**3.7** Putting on your observational studies hat, run two logistic regressions using `statsmodels`.\n",
    "- In the first regression, the vote is the outcome, and `PP`, `NN` and `PN` are the predictors.\n",
    "- In the second regression, the vote is the outcome, and `PP`, `NN`, `PN`, and `N` are the predictors."
   ]
  },
  {
   "cell_type": "code",
   "execution_count": 298,
   "id": "9f8df411",
   "metadata": {},
   "outputs": [
    {
     "name": "stdout",
     "output_type": "stream",
     "text": [
      "Optimization terminated successfully.\n",
      "         Current function value: 0.514594\n",
      "         Iterations 7\n"
     ]
    },
    {
     "data": {
      "text/html": [
       "<table class=\"simpletable\">\n",
       "<caption>Logit Regression Results</caption>\n",
       "<tr>\n",
       "  <th>Dep. Variable:</th>           <td>y</td>        <th>  No. Observations:  </th>  <td>167003</td> \n",
       "</tr>\n",
       "<tr>\n",
       "  <th>Model:</th>                 <td>Logit</td>      <th>  Df Residuals:      </th>  <td>166999</td> \n",
       "</tr>\n",
       "<tr>\n",
       "  <th>Method:</th>                 <td>MLE</td>       <th>  Df Model:          </th>  <td>     3</td> \n",
       "</tr>\n",
       "<tr>\n",
       "  <th>Date:</th>            <td>Tue, 17 Jan 2023</td> <th>  Pseudo R-squ.:     </th>  <td>0.01804</td>\n",
       "</tr>\n",
       "<tr>\n",
       "  <th>Time:</th>                <td>18:33:01</td>     <th>  Log-Likelihood:    </th> <td> -85939.</td>\n",
       "</tr>\n",
       "<tr>\n",
       "  <th>converged:</th>             <td>True</td>       <th>  LL-Null:           </th> <td> -87517.</td>\n",
       "</tr>\n",
       "<tr>\n",
       "  <th>Covariance Type:</th>     <td>nonrobust</td>    <th>  LLR p-value:       </th>  <td> 0.000</td> \n",
       "</tr>\n",
       "</table>\n",
       "<table class=\"simpletable\">\n",
       "<tr>\n",
       "      <td></td>         <th>coef</th>     <th>std err</th>      <th>z</th>      <th>P>|z|</th>  <th>[0.025</th>    <th>0.975]</th>  \n",
       "</tr>\n",
       "<tr>\n",
       "  <th>Intercept</th> <td>    1.2781</td> <td>    0.006</td> <td>  206.255</td> <td> 0.000</td> <td>    1.266</td> <td>    1.290</td>\n",
       "</tr>\n",
       "<tr>\n",
       "  <th>PP</th>        <td>    0.2493</td> <td>    0.007</td> <td>   34.272</td> <td> 0.000</td> <td>    0.235</td> <td>    0.264</td>\n",
       "</tr>\n",
       "<tr>\n",
       "  <th>PN</th>        <td>   -0.5509</td> <td>    0.014</td> <td>  -40.304</td> <td> 0.000</td> <td>   -0.578</td> <td>   -0.524</td>\n",
       "</tr>\n",
       "<tr>\n",
       "  <th>NN</th>        <td>   -0.6765</td> <td>    0.040</td> <td>  -16.946</td> <td> 0.000</td> <td>   -0.755</td> <td>   -0.598</td>\n",
       "</tr>\n",
       "</table>"
      ],
      "text/plain": [
       "<class 'statsmodels.iolib.summary.Summary'>\n",
       "\"\"\"\n",
       "                           Logit Regression Results                           \n",
       "==============================================================================\n",
       "Dep. Variable:                      y   No. Observations:               167003\n",
       "Model:                          Logit   Df Residuals:                   166999\n",
       "Method:                           MLE   Df Model:                            3\n",
       "Date:                Tue, 17 Jan 2023   Pseudo R-squ.:                 0.01804\n",
       "Time:                        18:33:01   Log-Likelihood:                -85939.\n",
       "converged:                       True   LL-Null:                       -87517.\n",
       "Covariance Type:            nonrobust   LLR p-value:                     0.000\n",
       "==============================================================================\n",
       "                 coef    std err          z      P>|z|      [0.025      0.975]\n",
       "------------------------------------------------------------------------------\n",
       "Intercept      1.2781      0.006    206.255      0.000       1.266       1.290\n",
       "PP             0.2493      0.007     34.272      0.000       0.235       0.264\n",
       "PN            -0.5509      0.014    -40.304      0.000      -0.578      -0.524\n",
       "NN            -0.6765      0.040    -16.946      0.000      -0.755      -0.598\n",
       "==============================================================================\n",
       "\"\"\""
      ]
     },
     "execution_count": 298,
     "metadata": {},
     "output_type": "execute_result"
    }
   ],
   "source": [
    "# 3.7\n",
    "import statsmodels.formula.api as smf\n",
    "\n",
    "RFA_total['y'] = y_true\n",
    "\n",
    "\n",
    "\n",
    "res = smf.logit(formula = 'y ~ PP + PN + NN', data = RFA_total).fit()\n",
    "res.summary()"
   ]
  },
  {
   "cell_type": "code",
   "execution_count": 299,
   "id": "19fbed8f",
   "metadata": {},
   "outputs": [
    {
     "name": "stdout",
     "output_type": "stream",
     "text": [
      "Optimization terminated successfully.\n",
      "         Current function value: 0.487994\n",
      "         Iterations 7\n"
     ]
    },
    {
     "data": {
      "text/html": [
       "<table class=\"simpletable\">\n",
       "<caption>Logit Regression Results</caption>\n",
       "<tr>\n",
       "  <th>Dep. Variable:</th>           <td>y</td>        <th>  No. Observations:  </th>  <td>167003</td> \n",
       "</tr>\n",
       "<tr>\n",
       "  <th>Model:</th>                 <td>Logit</td>      <th>  Df Residuals:      </th>  <td>166998</td> \n",
       "</tr>\n",
       "<tr>\n",
       "  <th>Method:</th>                 <td>MLE</td>       <th>  Df Model:          </th>  <td>     4</td> \n",
       "</tr>\n",
       "<tr>\n",
       "  <th>Date:</th>            <td>Tue, 17 Jan 2023</td> <th>  Pseudo R-squ.:     </th>  <td>0.06880</td>\n",
       "</tr>\n",
       "<tr>\n",
       "  <th>Time:</th>                <td>18:33:01</td>     <th>  Log-Likelihood:    </th> <td> -81496.</td>\n",
       "</tr>\n",
       "<tr>\n",
       "  <th>converged:</th>             <td>True</td>       <th>  LL-Null:           </th> <td> -87517.</td>\n",
       "</tr>\n",
       "<tr>\n",
       "  <th>Covariance Type:</th>     <td>nonrobust</td>    <th>  LLR p-value:       </th>  <td> 0.000</td> \n",
       "</tr>\n",
       "</table>\n",
       "<table class=\"simpletable\">\n",
       "<tr>\n",
       "      <td></td>         <th>coef</th>     <th>std err</th>      <th>z</th>      <th>P>|z|</th>  <th>[0.025</th>    <th>0.975]</th>  \n",
       "</tr>\n",
       "<tr>\n",
       "  <th>Intercept</th> <td>    1.6227</td> <td>    0.008</td> <td>  212.945</td> <td> 0.000</td> <td>    1.608</td> <td>    1.638</td>\n",
       "</tr>\n",
       "<tr>\n",
       "  <th>PP</th>        <td>    0.2535</td> <td>    0.008</td> <td>   33.344</td> <td> 0.000</td> <td>    0.239</td> <td>    0.268</td>\n",
       "</tr>\n",
       "<tr>\n",
       "  <th>PN</th>        <td>   -0.4561</td> <td>    0.014</td> <td>  -33.013</td> <td> 0.000</td> <td>   -0.483</td> <td>   -0.429</td>\n",
       "</tr>\n",
       "<tr>\n",
       "  <th>NN</th>        <td>   -0.5466</td> <td>    0.040</td> <td>  -13.631</td> <td> 0.000</td> <td>   -0.625</td> <td>   -0.468</td>\n",
       "</tr>\n",
       "<tr>\n",
       "  <th>N</th>         <td>   -0.0438</td> <td>    0.000</td> <td>  -89.263</td> <td> 0.000</td> <td>   -0.045</td> <td>   -0.043</td>\n",
       "</tr>\n",
       "</table>"
      ],
      "text/plain": [
       "<class 'statsmodels.iolib.summary.Summary'>\n",
       "\"\"\"\n",
       "                           Logit Regression Results                           \n",
       "==============================================================================\n",
       "Dep. Variable:                      y   No. Observations:               167003\n",
       "Model:                          Logit   Df Residuals:                   166998\n",
       "Method:                           MLE   Df Model:                            4\n",
       "Date:                Tue, 17 Jan 2023   Pseudo R-squ.:                 0.06880\n",
       "Time:                        18:33:01   Log-Likelihood:                -81496.\n",
       "converged:                       True   LL-Null:                       -87517.\n",
       "Covariance Type:            nonrobust   LLR p-value:                     0.000\n",
       "==============================================================================\n",
       "                 coef    std err          z      P>|z|      [0.025      0.975]\n",
       "------------------------------------------------------------------------------\n",
       "Intercept      1.6227      0.008    212.945      0.000       1.608       1.638\n",
       "PP             0.2535      0.008     33.344      0.000       0.239       0.268\n",
       "PN            -0.4561      0.014    -33.013      0.000      -0.483      -0.429\n",
       "NN            -0.5466      0.040    -13.631      0.000      -0.625      -0.468\n",
       "N             -0.0438      0.000    -89.263      0.000      -0.045      -0.043\n",
       "==============================================================================\n",
       "\"\"\""
      ]
     },
     "execution_count": 299,
     "metadata": {},
     "output_type": "execute_result"
    }
   ],
   "source": [
    "res2 = smf.logit(formula = 'y ~ PP + PN + NN + N', data = RFA_total).fit()\n",
    "res2.summary()"
   ]
  },
  {
   "cell_type": "markdown",
   "id": "db15d090",
   "metadata": {},
   "source": [
    "**3.8** **/Discuss:**/   Explain what the coefficient associated with `PP` means in the first regression. Is it in accordance with structural balance theory?"
   ]
  },
  {
   "cell_type": "markdown",
   "id": "48845787",
   "metadata": {},
   "source": [
    "**A3.8** Data has not been standardized. The coefficient here means that an increase of 1 in triangle with two neighbors having voted positive in the past, has a increase in 25% in the probabilities for having a positive vote for the current RFA.  It is in accordance with the theory and both weak and structural say that having a number of PP higher than PN leads to positive vote. However. here only the PP is checked and not the proportion (although higher number of triangles with PP is higher PP proportion)"
   ]
  },
  {
   "cell_type": "markdown",
   "id": "49752dbb",
   "metadata": {},
   "source": [
    "**3.9** **/Discuss:**/   Compare the coefficients associated with `PN` and `NN` in the first vs. the second regression. Present a reason that may explain this difference."
   ]
  },
  {
   "cell_type": "markdown",
   "id": "8ab7612b",
   "metadata": {},
   "source": [
    "**A3.9**  Both PN and NN coefficients decrease when including the N feature. This means that part of the correlation between the two variables and the result (positive or negative vote) is explained through the number of negative votes received by the target in the past (N)"
   ]
  },
  {
   "cell_type": "markdown",
   "id": "207c9147",
   "metadata": {},
   "source": [
    "---"
   ]
  }
 ],
 "metadata": {
  "kernelspec": {
   "display_name": "Python 3 (ipykernel)",
   "language": "python",
   "name": "python3"
  },
  "language_info": {
   "codemirror_mode": {
    "name": "ipython",
    "version": 3
   },
   "file_extension": ".py",
   "mimetype": "text/x-python",
   "name": "python",
   "nbconvert_exporter": "python",
   "pygments_lexer": "ipython3",
   "version": "3.9.7"
  }
 },
 "nbformat": 4,
 "nbformat_minor": 5
}
