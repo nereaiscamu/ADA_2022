{
 "cells": [
  {
   "cell_type": "markdown",
   "metadata": {},
   "source": [
    "# Scaling up\n",
    "\n",
    "Originally released as part of a homework in ADA2019.\n",
    "\n",
    "## Description\n",
    "\n",
    "[Reddit](https://www.reddit.com/) aka *'the front page of the internet'* is a network of over a million *communities* aka *'subreddits'*, each of which covers a different topic based on people's interests. In other words, it is a *massive* collection of forums (corresponding to the aforementioned communities), where people can share content specific to a given topic or comment on other people’s posts.   \n",
    "\n",
    "You are reddit's community manager and want to *appoint new moderators*. Because moderating a specific subreddit isn't a full-time job, you want the chosen moderators to moderate multiple subreddits at the same time. To make this choice effective, the moderators shouldn't have to spend too much time getting to know the community and the prevalent communication style, so it makes sense to let moderators moderate subreddits that are similar in communication style and language. At the same time, it also makes sense to let them moderate subreddits that are similar with respect to the participating users, because this allows moderators to track the behavior of individual users over multiple subreddits. For example, some users might only post offensive content once a month on a given subreddit, and therefore fly under the radar with someone moderating only that subreddit. However, considering all the subreddits these users post to, they might post something offensive every day but on different subreddits. Thus, a moderator in charge of all these subreddits would be able to ban such users much more effectively. In the light of the above description, your task is to find out ways to choose moderators considering both the textual content and the users of a subreddit.\n",
    "\n",
    "### Dataset:\n",
    "The dataset provided to you includes all the posts of the 15 largest subreddits written as of May 2015.\n",
    "\n",
    "Reddit posts (provided to you via a [google drive folder](https://drive.google.com/a/epfl.ch/file/d/19SVHKbUTUPtC9HMmADJcAAIY1Xjq6WFv/view?usp=sharing))\n",
    "```\n",
    "reddit_posts\n",
    " |-- id: id of the post \n",
    " |-- author: user name of the author \n",
    " |-- body: text of the message\n",
    " |-- subreddit: name of the subreddit\n",
    "```\n",
    "\n",
    "Reddit scores (provided to you via a [google drive folder](https://drive.google.com/a/epfl.ch/file/d/1vr4PolJzTXr6ODSe3ucib5EAyp3rjxec/view?usp=sharing))\n",
    "```\n",
    "reddit_scores\n",
    " |-- id: id of the post \n",
    " |-- score: score computed as sum of UP/DOWN votes\n",
    "```\n",
    "\n",
    "*Note: Jaccard similarity between subreddits represented using either the set of top-1000 words or the set of users can be computed locally (on the driver), however, all the other tasks have to be implemented in Spark.*\n",
    "\n",
    "## B1. Getting a sense of the data\n",
    "\n",
    "Start a PySpark instance..."
   ]
  },
  {
   "cell_type": "code",
   "execution_count": 1,
   "metadata": {},
   "outputs": [],
   "source": [
    "import pyspark\n",
    "import pyspark.sql\n",
    "from pyspark.sql import *\n",
    "from pyspark.sql.functions import *\n",
    "import numpy as np \n",
    "import pandas as pd\n",
    "\n"
   ]
  },
  {
   "cell_type": "code",
   "execution_count": 2,
   "metadata": {},
   "outputs": [],
   "source": [
    "conf = pyspark.SparkConf().setMaster(\"local[*]\").setAll([\n",
    "                                   ('spark.executor.memory', '1g'),  # find\n",
    "                                   ('spark.driver.memory','1g'), # your\n",
    "                                   ('spark.driver.maxResultSize', '1G') # setup\n",
    "                                  ])\n"
   ]
  },
  {
   "cell_type": "code",
   "execution_count": 3,
   "metadata": {},
   "outputs": [],
   "source": [
    "# create the session\n",
    "spark = SparkSession.builder.config(conf=conf).getOrCreate()\n",
    "\n"
   ]
  },
  {
   "cell_type": "code",
   "execution_count": 4,
   "metadata": {},
   "outputs": [
    {
     "data": {
      "text/html": [
       "\n",
       "            <div>\n",
       "                <p><b>SparkSession - in-memory</b></p>\n",
       "                \n",
       "        <div>\n",
       "            <p><b>SparkContext</b></p>\n",
       "\n",
       "            <p><a href=\"http://192.168.1.45:4041\">Spark UI</a></p>\n",
       "\n",
       "            <dl>\n",
       "              <dt>Version</dt>\n",
       "                <dd><code>v3.3.1</code></dd>\n",
       "              <dt>Master</dt>\n",
       "                <dd><code>local[*]</code></dd>\n",
       "              <dt>AppName</dt>\n",
       "                <dd><code>pyspark-shell</code></dd>\n",
       "            </dl>\n",
       "        </div>\n",
       "        \n",
       "            </div>\n",
       "        "
      ],
      "text/plain": [
       "<pyspark.sql.session.SparkSession at 0x203997613a0>"
      ]
     },
     "execution_count": 4,
     "metadata": {},
     "output_type": "execute_result"
    }
   ],
   "source": [
    "# create the context\n",
    "sc = spark.sparkContext\n",
    "\n",
    "# FIX for Spark 2.x\n",
    "locale = sc._jvm.java.util.Locale\n",
    "locale.setDefault(locale.forLanguageTag(\"en-US\"))\n",
    "\n",
    "spark"
   ]
  },
  {
   "cell_type": "markdown",
   "metadata": {},
   "source": [
    "... and load the data in a Spark dataframe."
   ]
  },
  {
   "cell_type": "code",
   "execution_count": 5,
   "metadata": {
    "jupyter": {
     "outputs_hidden": true
    }
   },
   "outputs": [],
   "source": [
    "reddit = spark.read.json(\"data/messages.json.gz\")"
   ]
  },
  {
   "cell_type": "markdown",
   "metadata": {},
   "source": [
    "### B1.1. Identify the most active subreddit\n",
    "\n",
    "Print the list of subreddits along with the following information:\n",
    "1. The total number of posts\n",
    "2. The number of users with at least 1 message\n",
    "3. The mean message length\n",
    "\n",
    "*Note: Keep everything in one single dataframe and print the list sorted by number of posts in descending order.*"
   ]
  },
  {
   "cell_type": "code",
   "execution_count": 6,
   "metadata": {
    "jupyter": {
     "outputs_hidden": true
    }
   },
   "outputs": [
    {
     "name": "stdout",
     "output_type": "stream",
     "text": [
      "root\n",
      " |-- author: string (nullable = true)\n",
      " |-- body: string (nullable = true)\n",
      " |-- id: string (nullable = true)\n",
      " |-- subreddit: string (nullable = true)\n",
      "\n"
     ]
    }
   ],
   "source": [
    "reddit.printSchema()"
   ]
  },
  {
   "cell_type": "code",
   "execution_count": 7,
   "metadata": {},
   "outputs": [
    {
     "data": {
      "text/plain": [
       "[Row(author='WyaOfWade', body=\"gg this one's over. off to watch the NFL draft I guess\", id='cqug90h', subreddit='nba'),\n",
       " Row(author='BEE_REAL_', body=\"Nihilum and LG are significantly better off in theory. I can't really think of a replacement for Ptr that would leave CLG in a better place than they were before. Cloud9 should be much better, but you never know.\", id='cqug90p', subreddit='GlobalOffensive'),\n",
       " Row(author='SlowRolla', body='Me too. Same hammock fabric, too.', id='cqug916', subreddit='pics')]"
      ]
     },
     "execution_count": 7,
     "metadata": {},
     "output_type": "execute_result"
    }
   ],
   "source": [
    "reddit.take(3)"
   ]
  },
  {
   "cell_type": "code",
   "execution_count": 8,
   "metadata": {},
   "outputs": [
    {
     "data": {
      "text/html": [
       "<div>\n",
       "<style scoped>\n",
       "    .dataframe tbody tr th:only-of-type {\n",
       "        vertical-align: middle;\n",
       "    }\n",
       "\n",
       "    .dataframe tbody tr th {\n",
       "        vertical-align: top;\n",
       "    }\n",
       "\n",
       "    .dataframe thead th {\n",
       "        text-align: right;\n",
       "    }\n",
       "</style>\n",
       "<table border=\"1\" class=\"dataframe\">\n",
       "  <thead>\n",
       "    <tr style=\"text-align: right;\">\n",
       "      <th></th>\n",
       "      <th>subreddit</th>\n",
       "      <th>MessageCount</th>\n",
       "    </tr>\n",
       "  </thead>\n",
       "  <tbody>\n",
       "    <tr>\n",
       "      <th>0</th>\n",
       "      <td>leagueoflegends</td>\n",
       "      <td>1151287</td>\n",
       "    </tr>\n",
       "    <tr>\n",
       "      <th>1</th>\n",
       "      <td>nba</td>\n",
       "      <td>704862</td>\n",
       "    </tr>\n",
       "    <tr>\n",
       "      <th>2</th>\n",
       "      <td>funny</td>\n",
       "      <td>691139</td>\n",
       "    </tr>\n",
       "    <tr>\n",
       "      <th>3</th>\n",
       "      <td>pics</td>\n",
       "      <td>564502</td>\n",
       "    </tr>\n",
       "    <tr>\n",
       "      <th>4</th>\n",
       "      <td>nfl</td>\n",
       "      <td>534345</td>\n",
       "    </tr>\n",
       "    <tr>\n",
       "      <th>5</th>\n",
       "      <td>videos</td>\n",
       "      <td>511492</td>\n",
       "    </tr>\n",
       "    <tr>\n",
       "      <th>6</th>\n",
       "      <td>news</td>\n",
       "      <td>477658</td>\n",
       "    </tr>\n",
       "    <tr>\n",
       "      <th>7</th>\n",
       "      <td>DestinyTheGame</td>\n",
       "      <td>471160</td>\n",
       "    </tr>\n",
       "    <tr>\n",
       "      <th>8</th>\n",
       "      <td>soccer</td>\n",
       "      <td>455215</td>\n",
       "    </tr>\n",
       "    <tr>\n",
       "      <th>9</th>\n",
       "      <td>DotA2</td>\n",
       "      <td>445154</td>\n",
       "    </tr>\n",
       "    <tr>\n",
       "      <th>10</th>\n",
       "      <td>worldnews</td>\n",
       "      <td>439417</td>\n",
       "    </tr>\n",
       "    <tr>\n",
       "      <th>11</th>\n",
       "      <td>AdviceAnimals</td>\n",
       "      <td>411902</td>\n",
       "    </tr>\n",
       "    <tr>\n",
       "      <th>12</th>\n",
       "      <td>hockey</td>\n",
       "      <td>389329</td>\n",
       "    </tr>\n",
       "    <tr>\n",
       "      <th>13</th>\n",
       "      <td>GlobalOffensive</td>\n",
       "      <td>382017</td>\n",
       "    </tr>\n",
       "    <tr>\n",
       "      <th>14</th>\n",
       "      <td>movies</td>\n",
       "      <td>354601</td>\n",
       "    </tr>\n",
       "  </tbody>\n",
       "</table>\n",
       "</div>"
      ],
      "text/plain": [
       "          subreddit  MessageCount\n",
       "0   leagueoflegends       1151287\n",
       "1               nba        704862\n",
       "2             funny        691139\n",
       "3              pics        564502\n",
       "4               nfl        534345\n",
       "5            videos        511492\n",
       "6              news        477658\n",
       "7    DestinyTheGame        471160\n",
       "8            soccer        455215\n",
       "9             DotA2        445154\n",
       "10        worldnews        439417\n",
       "11    AdviceAnimals        411902\n",
       "12           hockey        389329\n",
       "13  GlobalOffensive        382017\n",
       "14           movies        354601"
      ]
     },
     "execution_count": 8,
     "metadata": {},
     "output_type": "execute_result"
    }
   ],
   "source": [
    "message_counts = reddit.groupBy(\"subreddit\")\\\n",
    "                                    .agg(count(\"*\").alias(\"MessageCount\"))\\\n",
    "                                    .sort(desc(\"MessageCount\"))\n",
    "message_counts.toPandas()\n"
   ]
  },
  {
   "cell_type": "code",
   "execution_count": 9,
   "metadata": {},
   "outputs": [],
   "source": [
    "reddit_2 = reddit.na.drop(subset=[\"body\"]) \n",
    "authors = reddit_2.selectExpr([\"subreddit\", \"author\"])\n",
    "authors = authors.groupBy('subreddit').agg(count(\"*\").alias('Num_Authors')).toPandas()"
   ]
  },
  {
   "cell_type": "code",
   "execution_count": 10,
   "metadata": {},
   "outputs": [
    {
     "data": {
      "text/html": [
       "<div>\n",
       "<style scoped>\n",
       "    .dataframe tbody tr th:only-of-type {\n",
       "        vertical-align: middle;\n",
       "    }\n",
       "\n",
       "    .dataframe tbody tr th {\n",
       "        vertical-align: top;\n",
       "    }\n",
       "\n",
       "    .dataframe thead th {\n",
       "        text-align: right;\n",
       "    }\n",
       "</style>\n",
       "<table border=\"1\" class=\"dataframe\">\n",
       "  <thead>\n",
       "    <tr style=\"text-align: right;\">\n",
       "      <th></th>\n",
       "      <th>subreddit</th>\n",
       "      <th>Num_Authors</th>\n",
       "    </tr>\n",
       "  </thead>\n",
       "  <tbody>\n",
       "    <tr>\n",
       "      <th>0</th>\n",
       "      <td>hockey</td>\n",
       "      <td>389329</td>\n",
       "    </tr>\n",
       "    <tr>\n",
       "      <th>1</th>\n",
       "      <td>videos</td>\n",
       "      <td>511492</td>\n",
       "    </tr>\n",
       "    <tr>\n",
       "      <th>2</th>\n",
       "      <td>DotA2</td>\n",
       "      <td>445154</td>\n",
       "    </tr>\n",
       "    <tr>\n",
       "      <th>3</th>\n",
       "      <td>news</td>\n",
       "      <td>477658</td>\n",
       "    </tr>\n",
       "    <tr>\n",
       "      <th>4</th>\n",
       "      <td>AdviceAnimals</td>\n",
       "      <td>411902</td>\n",
       "    </tr>\n",
       "    <tr>\n",
       "      <th>5</th>\n",
       "      <td>DestinyTheGame</td>\n",
       "      <td>471160</td>\n",
       "    </tr>\n",
       "    <tr>\n",
       "      <th>6</th>\n",
       "      <td>pics</td>\n",
       "      <td>564502</td>\n",
       "    </tr>\n",
       "    <tr>\n",
       "      <th>7</th>\n",
       "      <td>worldnews</td>\n",
       "      <td>439417</td>\n",
       "    </tr>\n",
       "    <tr>\n",
       "      <th>8</th>\n",
       "      <td>nfl</td>\n",
       "      <td>534345</td>\n",
       "    </tr>\n",
       "    <tr>\n",
       "      <th>9</th>\n",
       "      <td>soccer</td>\n",
       "      <td>455215</td>\n",
       "    </tr>\n",
       "    <tr>\n",
       "      <th>10</th>\n",
       "      <td>GlobalOffensive</td>\n",
       "      <td>382017</td>\n",
       "    </tr>\n",
       "    <tr>\n",
       "      <th>11</th>\n",
       "      <td>leagueoflegends</td>\n",
       "      <td>1151287</td>\n",
       "    </tr>\n",
       "    <tr>\n",
       "      <th>12</th>\n",
       "      <td>movies</td>\n",
       "      <td>354601</td>\n",
       "    </tr>\n",
       "    <tr>\n",
       "      <th>13</th>\n",
       "      <td>nba</td>\n",
       "      <td>704862</td>\n",
       "    </tr>\n",
       "    <tr>\n",
       "      <th>14</th>\n",
       "      <td>funny</td>\n",
       "      <td>691139</td>\n",
       "    </tr>\n",
       "  </tbody>\n",
       "</table>\n",
       "</div>"
      ],
      "text/plain": [
       "          subreddit  Num_Authors\n",
       "0            hockey       389329\n",
       "1            videos       511492\n",
       "2             DotA2       445154\n",
       "3              news       477658\n",
       "4     AdviceAnimals       411902\n",
       "5    DestinyTheGame       471160\n",
       "6              pics       564502\n",
       "7         worldnews       439417\n",
       "8               nfl       534345\n",
       "9            soccer       455215\n",
       "10  GlobalOffensive       382017\n",
       "11  leagueoflegends      1151287\n",
       "12           movies       354601\n",
       "13              nba       704862\n",
       "14            funny       691139"
      ]
     },
     "execution_count": 10,
     "metadata": {},
     "output_type": "execute_result"
    }
   ],
   "source": [
    "authors"
   ]
  },
  {
   "cell_type": "code",
   "execution_count": 11,
   "metadata": {},
   "outputs": [],
   "source": [
    "import pyspark.sql.functions as f\n",
    "\n",
    "reddit = reddit.withColumn('wordCount', f.size(f.split(f.col('body'), ' ')))"
   ]
  },
  {
   "cell_type": "code",
   "execution_count": 12,
   "metadata": {},
   "outputs": [],
   "source": [
    "reddit_words = reddit.selectExpr([\"subreddit\", \"wordCount\"])\n",
    "mean_words = reddit_words.groupBy(\"subreddit\")\\\n",
    "                                    .mean(\"wordCount\")"
   ]
  },
  {
   "cell_type": "code",
   "execution_count": 13,
   "metadata": {},
   "outputs": [],
   "source": [
    "mean_words = mean_words.toPandas()"
   ]
  },
  {
   "cell_type": "code",
   "execution_count": 14,
   "metadata": {},
   "outputs": [],
   "source": [
    "message_counts = message_counts.toPandas()"
   ]
  },
  {
   "cell_type": "code",
   "execution_count": 15,
   "metadata": {},
   "outputs": [
    {
     "data": {
      "text/html": [
       "<div>\n",
       "<style scoped>\n",
       "    .dataframe tbody tr th:only-of-type {\n",
       "        vertical-align: middle;\n",
       "    }\n",
       "\n",
       "    .dataframe tbody tr th {\n",
       "        vertical-align: top;\n",
       "    }\n",
       "\n",
       "    .dataframe thead th {\n",
       "        text-align: right;\n",
       "    }\n",
       "</style>\n",
       "<table border=\"1\" class=\"dataframe\">\n",
       "  <thead>\n",
       "    <tr style=\"text-align: right;\">\n",
       "      <th></th>\n",
       "      <th>subreddit</th>\n",
       "      <th>MessageCount</th>\n",
       "      <th>Num_Authors</th>\n",
       "      <th>avg(wordCount)</th>\n",
       "    </tr>\n",
       "  </thead>\n",
       "  <tbody>\n",
       "    <tr>\n",
       "      <th>0</th>\n",
       "      <td>leagueoflegends</td>\n",
       "      <td>1151287</td>\n",
       "      <td>1151287</td>\n",
       "      <td>27.667200</td>\n",
       "    </tr>\n",
       "    <tr>\n",
       "      <th>1</th>\n",
       "      <td>nba</td>\n",
       "      <td>704862</td>\n",
       "      <td>704862</td>\n",
       "      <td>19.457404</td>\n",
       "    </tr>\n",
       "    <tr>\n",
       "      <th>2</th>\n",
       "      <td>funny</td>\n",
       "      <td>691139</td>\n",
       "      <td>691139</td>\n",
       "      <td>19.040045</td>\n",
       "    </tr>\n",
       "    <tr>\n",
       "      <th>3</th>\n",
       "      <td>pics</td>\n",
       "      <td>564502</td>\n",
       "      <td>564502</td>\n",
       "      <td>20.508239</td>\n",
       "    </tr>\n",
       "    <tr>\n",
       "      <th>4</th>\n",
       "      <td>nfl</td>\n",
       "      <td>534345</td>\n",
       "      <td>534345</td>\n",
       "      <td>26.924921</td>\n",
       "    </tr>\n",
       "    <tr>\n",
       "      <th>5</th>\n",
       "      <td>videos</td>\n",
       "      <td>511492</td>\n",
       "      <td>511492</td>\n",
       "      <td>29.190676</td>\n",
       "    </tr>\n",
       "    <tr>\n",
       "      <th>6</th>\n",
       "      <td>news</td>\n",
       "      <td>477658</td>\n",
       "      <td>477658</td>\n",
       "      <td>40.495436</td>\n",
       "    </tr>\n",
       "    <tr>\n",
       "      <th>7</th>\n",
       "      <td>DestinyTheGame</td>\n",
       "      <td>471160</td>\n",
       "      <td>471160</td>\n",
       "      <td>30.598828</td>\n",
       "    </tr>\n",
       "    <tr>\n",
       "      <th>8</th>\n",
       "      <td>soccer</td>\n",
       "      <td>455215</td>\n",
       "      <td>455215</td>\n",
       "      <td>23.663759</td>\n",
       "    </tr>\n",
       "    <tr>\n",
       "      <th>9</th>\n",
       "      <td>DotA2</td>\n",
       "      <td>445154</td>\n",
       "      <td>445154</td>\n",
       "      <td>25.035965</td>\n",
       "    </tr>\n",
       "    <tr>\n",
       "      <th>10</th>\n",
       "      <td>worldnews</td>\n",
       "      <td>439417</td>\n",
       "      <td>439417</td>\n",
       "      <td>37.914864</td>\n",
       "    </tr>\n",
       "    <tr>\n",
       "      <th>11</th>\n",
       "      <td>AdviceAnimals</td>\n",
       "      <td>411902</td>\n",
       "      <td>411902</td>\n",
       "      <td>29.027050</td>\n",
       "    </tr>\n",
       "    <tr>\n",
       "      <th>12</th>\n",
       "      <td>hockey</td>\n",
       "      <td>389329</td>\n",
       "      <td>389329</td>\n",
       "      <td>17.071646</td>\n",
       "    </tr>\n",
       "    <tr>\n",
       "      <th>13</th>\n",
       "      <td>GlobalOffensive</td>\n",
       "      <td>382017</td>\n",
       "      <td>382017</td>\n",
       "      <td>25.909104</td>\n",
       "    </tr>\n",
       "    <tr>\n",
       "      <th>14</th>\n",
       "      <td>movies</td>\n",
       "      <td>354601</td>\n",
       "      <td>354601</td>\n",
       "      <td>29.459232</td>\n",
       "    </tr>\n",
       "  </tbody>\n",
       "</table>\n",
       "</div>"
      ],
      "text/plain": [
       "          subreddit  MessageCount  Num_Authors  avg(wordCount)\n",
       "0   leagueoflegends       1151287      1151287       27.667200\n",
       "1               nba        704862       704862       19.457404\n",
       "2             funny        691139       691139       19.040045\n",
       "3              pics        564502       564502       20.508239\n",
       "4               nfl        534345       534345       26.924921\n",
       "5            videos        511492       511492       29.190676\n",
       "6              news        477658       477658       40.495436\n",
       "7    DestinyTheGame        471160       471160       30.598828\n",
       "8            soccer        455215       455215       23.663759\n",
       "9             DotA2        445154       445154       25.035965\n",
       "10        worldnews        439417       439417       37.914864\n",
       "11    AdviceAnimals        411902       411902       29.027050\n",
       "12           hockey        389329       389329       17.071646\n",
       "13  GlobalOffensive        382017       382017       25.909104\n",
       "14           movies        354601       354601       29.459232"
      ]
     },
     "execution_count": 15,
     "metadata": {},
     "output_type": "execute_result"
    }
   ],
   "source": [
    "'''subreddits_join = message_counts.join(authors, \n",
    "                                          message_counts.subreddit == authors.subreddit)\n",
    "subreddits_join = subreddits_join.join(mean_words, \n",
    "                                          subreddits_join.subreddit == mean_words.subreddit)\n",
    "'''\n",
    "#This would be for spark dataframe, but here we have pandas, we need to merge\n",
    "\n",
    "subreddits_join = message_counts.merge(authors, on = 'subreddit', how = 'inner')\n",
    "subreddits_join = subreddits_join.merge(mean_words, on = 'subreddit', how = 'inner')\n",
    "subreddits_join"
   ]
  },
  {
   "cell_type": "markdown",
   "metadata": {},
   "source": [
    "### B1.2. Identify the largest subreddit\n",
    "\n",
    "Print *two* different lists of subreddits: ordered by (1) the number of posts, and (2) the number of users. For each subreddit, print the name and the corresponding counts.\n",
    "\n",
    "Additionally, (3) plot the mean of message length for each subreddit in descending order."
   ]
  },
  {
   "cell_type": "code",
   "execution_count": 16,
   "metadata": {
    "jupyter": {
     "outputs_hidden": true
    }
   },
   "outputs": [
    {
     "data": {
      "text/plain": [
       "['leagueoflegends',\n",
       " 'nba',\n",
       " 'funny',\n",
       " 'pics',\n",
       " 'nfl',\n",
       " 'videos',\n",
       " 'news',\n",
       " 'DestinyTheGame',\n",
       " 'soccer',\n",
       " 'DotA2',\n",
       " 'worldnews',\n",
       " 'AdviceAnimals',\n",
       " 'hockey',\n",
       " 'GlobalOffensive',\n",
       " 'movies']"
      ]
     },
     "execution_count": 16,
     "metadata": {},
     "output_type": "execute_result"
    }
   ],
   "source": [
    "subreddits_join.sort_values('MessageCount', ascending = False)['subreddit'].tolist()"
   ]
  },
  {
   "cell_type": "code",
   "execution_count": 17,
   "metadata": {},
   "outputs": [
    {
     "data": {
      "text/plain": [
       "['leagueoflegends',\n",
       " 'nba',\n",
       " 'funny',\n",
       " 'pics',\n",
       " 'nfl',\n",
       " 'videos',\n",
       " 'news',\n",
       " 'DestinyTheGame',\n",
       " 'soccer',\n",
       " 'DotA2',\n",
       " 'worldnews',\n",
       " 'AdviceAnimals',\n",
       " 'hockey',\n",
       " 'GlobalOffensive',\n",
       " 'movies']"
      ]
     },
     "execution_count": 17,
     "metadata": {},
     "output_type": "execute_result"
    }
   ],
   "source": [
    "subreddits_join.sort_values('Num_Authors', ascending = False)['subreddit'].tolist()"
   ]
  },
  {
   "cell_type": "code",
   "execution_count": 18,
   "metadata": {},
   "outputs": [
    {
     "data": {
      "text/plain": [
       "<BarContainer object of 15 artists>"
      ]
     },
     "execution_count": 18,
     "metadata": {},
     "output_type": "execute_result"
    },
    {
     "data": {
      "image/png": "[encoded data removed]",
      "text/plain": [
       "<Figure size 640x480 with 1 Axes>"
      ]
     },
     "metadata": {},
     "output_type": "display_data"
    }
   ],
   "source": [
    "import matplotlib.pyplot as plt\n",
    "\n",
    "plt.barh(subreddits_join['subreddit'], subreddits_join['avg(wordCount)'])"
   ]
  },
  {
   "cell_type": "markdown",
   "metadata": {},
   "source": [
    "### B1.3. Identify the subreddit with the highest average score\n",
    "\n",
    "Print the list of subreddits sorted by their average content scores."
   ]
  },
  {
   "cell_type": "code",
   "execution_count": 19,
   "metadata": {
    "jupyter": {
     "outputs_hidden": true
    }
   },
   "outputs": [],
   "source": [
    "scores = spark.read.json(\"data/score.json.gz\")"
   ]
  },
  {
   "cell_type": "code",
   "execution_count": 20,
   "metadata": {},
   "outputs": [],
   "source": [
    "reddit_score = reddit.join(scores,reddit.id == scores.id)\n",
    "reddit_mean_score = reddit_score.groupBy(\"subreddit\")\\\n",
    "                                    .mean(\"score\")"
   ]
  },
  {
   "cell_type": "code",
   "execution_count": 21,
   "metadata": {},
   "outputs": [],
   "source": [
    "reddit_mean_score_pd = reddit_mean_score.toPandas()"
   ]
  },
  {
   "cell_type": "code",
   "execution_count": 22,
   "metadata": {},
   "outputs": [
    {
     "data": {
      "text/html": [
       "<div>\n",
       "<style scoped>\n",
       "    .dataframe tbody tr th:only-of-type {\n",
       "        vertical-align: middle;\n",
       "    }\n",
       "\n",
       "    .dataframe tbody tr th {\n",
       "        vertical-align: top;\n",
       "    }\n",
       "\n",
       "    .dataframe thead th {\n",
       "        text-align: right;\n",
       "    }\n",
       "</style>\n",
       "<table border=\"1\" class=\"dataframe\">\n",
       "  <thead>\n",
       "    <tr style=\"text-align: right;\">\n",
       "      <th></th>\n",
       "      <th>subreddit</th>\n",
       "      <th>avg(score)</th>\n",
       "    </tr>\n",
       "  </thead>\n",
       "  <tbody>\n",
       "    <tr>\n",
       "      <th>1</th>\n",
       "      <td>videos</td>\n",
       "      <td>12.649445</td>\n",
       "    </tr>\n",
       "    <tr>\n",
       "      <th>6</th>\n",
       "      <td>pics</td>\n",
       "      <td>12.216559</td>\n",
       "    </tr>\n",
       "    <tr>\n",
       "      <th>14</th>\n",
       "      <td>funny</td>\n",
       "      <td>12.041505</td>\n",
       "    </tr>\n",
       "    <tr>\n",
       "      <th>4</th>\n",
       "      <td>AdviceAnimals</td>\n",
       "      <td>11.251696</td>\n",
       "    </tr>\n",
       "    <tr>\n",
       "      <th>9</th>\n",
       "      <td>soccer</td>\n",
       "      <td>10.634628</td>\n",
       "    </tr>\n",
       "    <tr>\n",
       "      <th>12</th>\n",
       "      <td>movies</td>\n",
       "      <td>9.820150</td>\n",
       "    </tr>\n",
       "    <tr>\n",
       "      <th>8</th>\n",
       "      <td>nfl</td>\n",
       "      <td>9.048349</td>\n",
       "    </tr>\n",
       "    <tr>\n",
       "      <th>13</th>\n",
       "      <td>nba</td>\n",
       "      <td>9.032795</td>\n",
       "    </tr>\n",
       "    <tr>\n",
       "      <th>3</th>\n",
       "      <td>news</td>\n",
       "      <td>8.673421</td>\n",
       "    </tr>\n",
       "    <tr>\n",
       "      <th>7</th>\n",
       "      <td>worldnews</td>\n",
       "      <td>7.866837</td>\n",
       "    </tr>\n",
       "    <tr>\n",
       "      <th>0</th>\n",
       "      <td>hockey</td>\n",
       "      <td>6.520121</td>\n",
       "    </tr>\n",
       "    <tr>\n",
       "      <th>11</th>\n",
       "      <td>leagueoflegends</td>\n",
       "      <td>5.983558</td>\n",
       "    </tr>\n",
       "    <tr>\n",
       "      <th>2</th>\n",
       "      <td>DotA2</td>\n",
       "      <td>4.880538</td>\n",
       "    </tr>\n",
       "    <tr>\n",
       "      <th>10</th>\n",
       "      <td>GlobalOffensive</td>\n",
       "      <td>4.351442</td>\n",
       "    </tr>\n",
       "    <tr>\n",
       "      <th>5</th>\n",
       "      <td>DestinyTheGame</td>\n",
       "      <td>3.028882</td>\n",
       "    </tr>\n",
       "  </tbody>\n",
       "</table>\n",
       "</div>"
      ],
      "text/plain": [
       "          subreddit  avg(score)\n",
       "1            videos   12.649445\n",
       "6              pics   12.216559\n",
       "14            funny   12.041505\n",
       "4     AdviceAnimals   11.251696\n",
       "9            soccer   10.634628\n",
       "12           movies    9.820150\n",
       "8               nfl    9.048349\n",
       "13              nba    9.032795\n",
       "3              news    8.673421\n",
       "7         worldnews    7.866837\n",
       "0            hockey    6.520121\n",
       "11  leagueoflegends    5.983558\n",
       "2             DotA2    4.880538\n",
       "10  GlobalOffensive    4.351442\n",
       "5    DestinyTheGame    3.028882"
      ]
     },
     "execution_count": 22,
     "metadata": {},
     "output_type": "execute_result"
    }
   ],
   "source": [
    "reddit_mean_score_pd.sort_values('avg(score)', ascending = False)"
   ]
  },
  {
   "cell_type": "markdown",
   "metadata": {},
   "source": [
    "## B2. Moderator assignment based on Subreddit Textual Content\n",
    "\n",
    "Different subreddits follow different communication styles inherent in the topic and the community. Having said that, the goal is to discover similar subreddits by only looking at the *words* present in the posted messages. Once such a list of similar subreddits is identified, an appropriately chosen moderator can then be assigned to all these subreddits.\n",
    "\n",
    "Specifically, the task boils down to computing a similarity score between two subreddits based on the *words* present in their textual content. Your first idea is to use the *Jaccard similarity*, which is defined as the size of the intersection of two sets divided by the size of their union.\n",
    "\n",
    "$Jaccard(A,B) = \\frac{|A \\cap B|}{|A \\cup B|}$"
   ]
  },
  {
   "cell_type": "code",
   "execution_count": 23,
   "metadata": {},
   "outputs": [],
   "source": [
    "def jaccard_similarity(list1, list2):\n",
    "    s1 = set(list1)\n",
    "    s2 = set(list2)\n",
    "    return len(s1.intersection(s2)) / len(s1.union(s2))"
   ]
  },
  {
   "cell_type": "markdown",
   "metadata": {},
   "source": [
    "### B2.1.\n",
    "The first step requires constructing a set representation of each subreddit. The goal is to represent each subreddit as a *set of words* existing in the messages posted on that subreddit. Compute the 50,000 most frequent words across all the provided subreddits. Construct a representation for each subreddit by retaining only the words found in the previously identified set of 50,000 frequent words.\n",
    "\n",
    "Some rules:\n",
    " * Words are defined as tokens matching the regular expression `\\W`\n",
    " * Remove all the stop-words (English language)\n",
    "\n",
    "*Note: You might find the [RegexTokenizer](https://spark.apache.org/docs/2.2.0/ml-features.html#tokenizer) and the [StopWordsRemover](https://spark.apache.org/docs/2.2.0/ml-features.html#stopwordsremover) utilities available in the package pyspark.ml useful for this task as they help you in transforming the features and removing stopwords.*"
   ]
  },
  {
   "cell_type": "code",
   "execution_count": 24,
   "metadata": {
    "jupyter": {
     "outputs_hidden": true
    }
   },
   "outputs": [],
   "source": [
    "from pyspark.ml.feature import Tokenizer, RegexTokenizer\n",
    "from pyspark.sql.functions import col, udf\n",
    "from pyspark.sql.types import IntegerType\n",
    "from pyspark.ml.feature import StopWordsRemover\n",
    "\n",
    "\n",
    "regexTokenizer = RegexTokenizer(inputCol=\"body\", outputCol=\"words\", pattern=\"\\\\W\")\n",
    "tokenized = regexTokenizer.transform(reddit)\n",
    "remover = StopWordsRemover(inputCol=\"words\", outputCol=\"filtered\")\n",
    "words_filtered = remover.transform(tokenized)"
   ]
  },
  {
   "cell_type": "code",
   "execution_count": 25,
   "metadata": {},
   "outputs": [
    {
     "name": "stdout",
     "output_type": "stream",
     "text": [
      "root\n",
      " |-- author: string (nullable = true)\n",
      " |-- body: string (nullable = true)\n",
      " |-- id: string (nullable = true)\n",
      " |-- subreddit: string (nullable = true)\n",
      " |-- wordCount: integer (nullable = false)\n",
      " |-- words: array (nullable = true)\n",
      " |    |-- element: string (containsNull = true)\n",
      " |-- filtered: array (nullable = true)\n",
      " |    |-- element: string (containsNull = true)\n",
      "\n"
     ]
    }
   ],
   "source": [
    "words_filtered.printSchema()"
   ]
  },
  {
   "cell_type": "code",
   "execution_count": 26,
   "metadata": {},
   "outputs": [],
   "source": [
    "word_list = words_filtered.select(explode('filtered').alias('words'))\n",
    "word_list = word_list.groupBy('words').agg(count(\"*\").alias('Frequency')).sort(col(\"Frequency\").desc()).limit(50000)"
   ]
  },
  {
   "cell_type": "code",
   "execution_count": 27,
   "metadata": {},
   "outputs": [
    {
     "data": {
      "text/plain": [
       "DataFrame[subreddit: string, word: string]"
      ]
     },
     "execution_count": 27,
     "metadata": {},
     "output_type": "execute_result"
    }
   ],
   "source": [
    "# Get all the words in a subreddit\n",
    "tokens = words_filtered.select(\"subreddit\", explode(\"filtered\").alias(\"word\")).distinct()\n",
    "# Join with the whitelist of the top 50k\n",
    "filtered_tokens = tokens.alias(\"t\").join(word_list, tokens.word==word_list.words).select(\"t.*\")\n",
    "\n",
    "filtered_tokens"
   ]
  },
  {
   "cell_type": "code",
   "execution_count": 28,
   "metadata": {},
   "outputs": [
    {
     "name": "stdout",
     "output_type": "stream",
     "text": [
      "root\n",
      " |-- subreddit: string (nullable = true)\n",
      " |-- word: string (nullable = true)\n",
      "\n"
     ]
    }
   ],
   "source": [
    "filtered_tokens.printSchema()"
   ]
  },
  {
   "cell_type": "code",
   "execution_count": null,
   "metadata": {},
   "outputs": [],
   "source": [
    "subreddit_50k = filtered_tokens.rdd.map(lambda r: (r.subreddit, [r.word])).reduceByKey(lambda a,b: a+b).collect()"
   ]
  },
  {
   "cell_type": "code",
   "execution_count": null,
   "metadata": {},
   "outputs": [],
   "source": [
    "for sr in subreddit_50k:\n",
    "    print(\"Subreddit: {} - Words: {}\".format(sr[0], len(sr[1])))"
   ]
  },
  {
   "cell_type": "code",
   "execution_count": null,
   "metadata": {},
   "outputs": [],
   "source": [
    "# Note: similarity is computed 2 times! It can be optimized\n",
    "similarity = []\n",
    "for sr1 in subreddit_50k:\n",
    "    for sr2 in subreddit_50k:\n",
    "        similarity.append((sr1[0], sr2[0], jaccard_similarity(sr1[1], sr2[1])))\n",
    "\n",
    "\n",
    "similarity_matrix_50k_words = pd.DataFrame(similarity).pivot(index=0, columns=1, values=2)"
   ]
  },
  {
   "cell_type": "code",
   "execution_count": null,
   "metadata": {},
   "outputs": [],
   "source": []
  },
  {
   "cell_type": "code",
   "execution_count": null,
   "metadata": {},
   "outputs": [],
   "source": []
  },
  {
   "cell_type": "markdown",
   "metadata": {},
   "source": [
    "### B2.2.\n",
    "* Compute the Jaccard similarity between all the subreddits using the set representation obtained in step **B2.1.**, and plot in a heatmap the similarity values of all the pairs of subreddits.\n",
    "* Analyze this plot and discuss your observations. Do you observe that subreddits corresponding to similar topics possess higher Jaccard similarity?\n",
    "* Provide detailed interpretations of the obtained results. Specifically,\n",
    "    - Explain the limitations of your conclusions, and discuss the potential reasons.\n",
    "    - Explain the potential problems with the Jaccard similarity function."
   ]
  },
  {
   "cell_type": "code",
   "execution_count": null,
   "metadata": {
    "jupyter": {
     "outputs_hidden": true
    }
   },
   "outputs": [],
   "source": []
  },
  {
   "cell_type": "markdown",
   "metadata": {},
   "source": [
    "### B2.3.\n",
    "\n",
    "* Alternatively, compute the 1000 most frequent words for each subreddit, construct its representation as the set of top-1000 words, and print a heatmap with the Jaccard similarity like in step **B2.2.**.\n",
    "* Explain your observations in detail: how and why is this new result different from the one obtained in **B2.2.**?\n",
    "\n",
    "*Note: Use the same rules specified in B2.1: words tokenized with the regex \\W and stop-words removed*"
   ]
  },
  {
   "cell_type": "code",
   "execution_count": null,
   "metadata": {
    "jupyter": {
     "outputs_hidden": true
    }
   },
   "outputs": [],
   "source": []
  },
  {
   "cell_type": "markdown",
   "metadata": {},
   "source": [
    "## B3. Moderator assignment based on Subreddit Users\n",
    "\n",
    "Subreddits can be seen as communities of people interacting about a common topic. As an alternative to the *textual content* based similarity in **B2**, your task here is to validate if similarity between two subreddits can be measured based on their participating users.\n",
    "\n",
    "Of course users are not monothematic, and they interact with multiple subreddits. In this task, we are specifically interested in observing the amount of overlap across different subreddits based on their participating users. Similar to **B2**, the overlap is measured using the *Jaccard similarity*.\n",
    "\n",
    "\n",
    "### B3.1.\n",
    "Construct a set representation of each subreddit as the users that posted at least one time in that subreddit.\n",
    "\n",
    "Some users are very talkative and active across different topics. Print the username of the person that posted in the maximum number of subreddits. *Note that users who posted at least once in a subreddit are considered as participant of that subreddit.*"
   ]
  },
  {
   "cell_type": "code",
   "execution_count": null,
   "metadata": {
    "jupyter": {
     "outputs_hidden": true
    }
   },
   "outputs": [],
   "source": []
  },
  {
   "cell_type": "markdown",
   "metadata": {},
   "source": [
    "### B3.2.\n",
    "\n",
    "* Compute the Jaccard similarity between all the subreddits using the set representation obtained in step **B3.1.**, and visualise it similar to **B2**.\n",
    "* Analyze this plot, identify highly similar pairs of subreddits, and clearly describe your observations."
   ]
  },
  {
   "cell_type": "code",
   "execution_count": null,
   "metadata": {
    "jupyter": {
     "outputs_hidden": true
    }
   },
   "outputs": [],
   "source": []
  },
  {
   "cell_type": "markdown",
   "metadata": {},
   "source": [
    "## B4. Language vs. Users similarity\n",
    "    \n",
    "* Visualize the similarity scores based on word (**B2.3.**) and user (**B3**) similarity on the x and y axes respectively for the subreddit `NBA` compared to all the other subreddits. Do some semantically meaningful groups emerge? Provide clear explanataions of your observations.\n",
    "* Furthermore, do you observe differences in similarities between various sports-related subreddits in the dataset? Please provide explanations of the reasons behind these differences, if any!"
   ]
  },
  {
   "cell_type": "code",
   "execution_count": null,
   "metadata": {
    "jupyter": {
     "outputs_hidden": true
    }
   },
   "outputs": [],
   "source": []
  }
 ],
 "metadata": {
  "kernelspec": {
   "display_name": "Python 3 (ipykernel)",
   "language": "python",
   "name": "python3"
  },
  "language_info": {
   "codemirror_mode": {
    "name": "ipython",
    "version": 3
   },
   "file_extension": ".py",
   "mimetype": "text/x-python",
   "name": "python",
   "nbconvert_exporter": "python",
   "pygments_lexer": "ipython3",
   "version": "3.9.13"
  },
  "varInspector": {
   "cols": {
    "lenName": 16,
    "lenType": 16,
    "lenVar": 40
   },
   "kernels_config": {
    "python": {
     "delete_cmd_postfix": "",
     "delete_cmd_prefix": "del ",
     "library": "var_list.py",
     "varRefreshCmd": "print(var_dic_list())"
    },
    "r": {
     "delete_cmd_postfix": ") ",
     "delete_cmd_prefix": "rm(",
     "library": "var_list.r",
     "varRefreshCmd": "cat(var_dic_list()) "
    }
   },
   "types_to_exclude": [
    "module",
    "function",
    "builtin_function_or_method",
    "instance",
    "_Feature"
   ],
   "window_display": false
  }
 },
 "nbformat": 4,
 "nbformat_minor": 4
}
