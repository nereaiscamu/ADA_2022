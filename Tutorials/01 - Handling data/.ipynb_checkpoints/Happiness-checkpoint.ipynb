{
 "cells": [
  {
   "cell_type": "markdown",
   "metadata": {},
   "source": [
    "## Data from World Happiness Report\n",
    "\n",
    "The World Happiness Report is an annual publication of the United Nations Sustainable Development Solutions Network. It contains articles, and rankings of national happiness based on respondent ratings of their own lives, which the report also correlates with various life factors.\n",
    "\n",
    "In this notebook we will explore the happiness of different countries and the features associated.\n",
    "The datasets that we will use are available in *Data*: **happiness2020.pkl** and **countries_info.csv**.\n",
    "\n",
    "Although the features are self-explanatory, here a summary: \n",
    "\n",
    "**happiness2020.pkl**\n",
    "* country: *Name of the country*\n",
    "* happiness_score: *Happiness score*\n",
    "* social_support: *Social support (mitigation the effects of inequality)*\n",
    "* healthy_life_expectancy: *Healthy Life Expectancy*\n",
    "* freedom_of_choices: *Freedom to make life choices*\n",
    "* generosity: *Generosity (charity, volunteers)*\n",
    "* perception_of_corruption: *Corruption Perception*\n",
    "* world_region: *Area of the world of the country*\n",
    "\n",
    "**countries_info.csv**\n",
    "* country_name: *Name of the country*\n",
    "* area: *Area in sq mi*\n",
    "* population: *Number of people*\n",
    "* literacy: *Literacy percentage*"
   ]
  },
  {
   "cell_type": "code",
   "execution_count": 2,
   "metadata": {},
   "outputs": [
    {
     "name": "stderr",
     "output_type": "stream",
     "text": [
      "\"head\" no se reconoce como un comando interno o externo,\n",
      "programa o archivo por lotes ejecutable.\n"
     ]
    }
   ],
   "source": [
    "!head Data/countries_info.csv"
   ]
  },
  {
   "cell_type": "code",
   "execution_count": 3,
   "metadata": {},
   "outputs": [],
   "source": [
    "import pandas as pd\n",
    "%matplotlib inline\n",
    "\n",
    "DATA_FOLDER = 'Data/'\n",
    "\n",
    "HAPPINESS_DATASET = DATA_FOLDER+\"happiness2020.csv\"\n",
    "COUNTRIES_DATASET = DATA_FOLDER+\"countries_info.csv\""
   ]
  },
  {
   "cell_type": "markdown",
   "metadata": {},
   "source": [
    "## Task 1: Load the data\n",
    "\n",
    "Load the 2 datasets in Pandas dataframes (called *happiness* and *countries*), and show the first rows.\n",
    "\n",
    "\n",
    "**Hint**: Use the correct reader and verify the data has the expected format."
   ]
  },
  {
   "cell_type": "code",
   "execution_count": 9,
   "metadata": {},
   "outputs": [],
   "source": [
    "# Write your code here\n",
    "happiness = pd.read_csv(HAPPINESS_DATASET)\n",
    "countries = pd.read_csv(COUNTRIES_DATASET)\n"
   ]
  },
  {
   "cell_type": "markdown",
   "metadata": {},
   "source": [
    "## Task 2: Let's merge the data\n",
    "\n",
    "Create a dataframe called *country_features* by merging *happiness* and *countries*. A row of this dataframe must describe all the features that we have about a country.\n",
    "\n",
    "**Hint**: Verify to have all the rows in the final dataframe"
   ]
  },
  {
   "cell_type": "code",
   "execution_count": 23,
   "metadata": {},
   "outputs": [
    {
     "data": {
      "text/html": [
       "<div>\n",
       "<style scoped>\n",
       "    .dataframe tbody tr th:only-of-type {\n",
       "        vertical-align: middle;\n",
       "    }\n",
       "\n",
       "    .dataframe tbody tr th {\n",
       "        vertical-align: top;\n",
       "    }\n",
       "\n",
       "    .dataframe thead th {\n",
       "        text-align: right;\n",
       "    }\n",
       "</style>\n",
       "<table border=\"1\" class=\"dataframe\">\n",
       "  <thead>\n",
       "    <tr style=\"text-align: right;\">\n",
       "      <th></th>\n",
       "      <th>country</th>\n",
       "      <th>happiness_score</th>\n",
       "      <th>social_support</th>\n",
       "      <th>healthy_life_expectancy</th>\n",
       "      <th>freedom_of_choices</th>\n",
       "      <th>generosity</th>\n",
       "      <th>perception_of_corruption</th>\n",
       "      <th>world_region</th>\n",
       "      <th>country_name</th>\n",
       "      <th>area</th>\n",
       "      <th>population</th>\n",
       "      <th>literacy</th>\n",
       "    </tr>\n",
       "  </thead>\n",
       "  <tbody>\n",
       "    <tr>\n",
       "      <th>0</th>\n",
       "      <td>afghanistan</td>\n",
       "      <td>2.5669</td>\n",
       "      <td>0.470367</td>\n",
       "      <td>52.590000</td>\n",
       "      <td>0.396573</td>\n",
       "      <td>-0.096429</td>\n",
       "      <td>0.933687</td>\n",
       "      <td>South Asia</td>\n",
       "      <td>afghanistan</td>\n",
       "      <td>647500</td>\n",
       "      <td>31056997</td>\n",
       "      <td>36,0</td>\n",
       "    </tr>\n",
       "    <tr>\n",
       "      <th>1</th>\n",
       "      <td>albania</td>\n",
       "      <td>4.8827</td>\n",
       "      <td>0.671070</td>\n",
       "      <td>68.708138</td>\n",
       "      <td>0.781994</td>\n",
       "      <td>-0.042309</td>\n",
       "      <td>0.896304</td>\n",
       "      <td>Central and Eastern Europe</td>\n",
       "      <td>albania</td>\n",
       "      <td>28748</td>\n",
       "      <td>3581655</td>\n",
       "      <td>86,5</td>\n",
       "    </tr>\n",
       "    <tr>\n",
       "      <th>2</th>\n",
       "      <td>algeria</td>\n",
       "      <td>5.0051</td>\n",
       "      <td>0.803385</td>\n",
       "      <td>65.905174</td>\n",
       "      <td>0.466611</td>\n",
       "      <td>-0.121105</td>\n",
       "      <td>0.735485</td>\n",
       "      <td>Middle East and North Africa</td>\n",
       "      <td>algeria</td>\n",
       "      <td>2381740</td>\n",
       "      <td>32930091</td>\n",
       "      <td>70,0</td>\n",
       "    </tr>\n",
       "    <tr>\n",
       "      <th>3</th>\n",
       "      <td>argentina</td>\n",
       "      <td>5.9747</td>\n",
       "      <td>0.900568</td>\n",
       "      <td>68.803802</td>\n",
       "      <td>0.831132</td>\n",
       "      <td>-0.194914</td>\n",
       "      <td>0.842010</td>\n",
       "      <td>Latin America and Caribbean</td>\n",
       "      <td>argentina</td>\n",
       "      <td>2766890</td>\n",
       "      <td>39921833</td>\n",
       "      <td>97,1</td>\n",
       "    </tr>\n",
       "    <tr>\n",
       "      <th>4</th>\n",
       "      <td>armenia</td>\n",
       "      <td>4.6768</td>\n",
       "      <td>0.757479</td>\n",
       "      <td>66.750656</td>\n",
       "      <td>0.712018</td>\n",
       "      <td>-0.138780</td>\n",
       "      <td>0.773545</td>\n",
       "      <td>Commonwealth of Independent States</td>\n",
       "      <td>armenia</td>\n",
       "      <td>29800</td>\n",
       "      <td>2976372</td>\n",
       "      <td>98,6</td>\n",
       "    </tr>\n",
       "    <tr>\n",
       "      <th>...</th>\n",
       "      <td>...</td>\n",
       "      <td>...</td>\n",
       "      <td>...</td>\n",
       "      <td>...</td>\n",
       "      <td>...</td>\n",
       "      <td>...</td>\n",
       "      <td>...</td>\n",
       "      <td>...</td>\n",
       "      <td>...</td>\n",
       "      <td>...</td>\n",
       "      <td>...</td>\n",
       "      <td>...</td>\n",
       "    </tr>\n",
       "    <tr>\n",
       "      <th>130</th>\n",
       "      <td>venezuela</td>\n",
       "      <td>5.0532</td>\n",
       "      <td>0.890408</td>\n",
       "      <td>66.505341</td>\n",
       "      <td>0.623278</td>\n",
       "      <td>-0.169091</td>\n",
       "      <td>0.837038</td>\n",
       "      <td>Latin America and Caribbean</td>\n",
       "      <td>venezuela</td>\n",
       "      <td>912050</td>\n",
       "      <td>25730435</td>\n",
       "      <td>93,4</td>\n",
       "    </tr>\n",
       "    <tr>\n",
       "      <th>131</th>\n",
       "      <td>vietnam</td>\n",
       "      <td>5.3535</td>\n",
       "      <td>0.849987</td>\n",
       "      <td>67.952736</td>\n",
       "      <td>0.939593</td>\n",
       "      <td>-0.094533</td>\n",
       "      <td>0.796421</td>\n",
       "      <td>Southeast Asia</td>\n",
       "      <td>vietnam</td>\n",
       "      <td>329560</td>\n",
       "      <td>84402966</td>\n",
       "      <td>90,3</td>\n",
       "    </tr>\n",
       "    <tr>\n",
       "      <th>132</th>\n",
       "      <td>yemen</td>\n",
       "      <td>3.5274</td>\n",
       "      <td>0.817981</td>\n",
       "      <td>56.727283</td>\n",
       "      <td>0.599920</td>\n",
       "      <td>-0.157735</td>\n",
       "      <td>0.800288</td>\n",
       "      <td>Middle East and North Africa</td>\n",
       "      <td>yemen</td>\n",
       "      <td>527970</td>\n",
       "      <td>21456188</td>\n",
       "      <td>50,2</td>\n",
       "    </tr>\n",
       "    <tr>\n",
       "      <th>133</th>\n",
       "      <td>zambia</td>\n",
       "      <td>3.7594</td>\n",
       "      <td>0.698824</td>\n",
       "      <td>55.299377</td>\n",
       "      <td>0.806500</td>\n",
       "      <td>0.078037</td>\n",
       "      <td>0.801290</td>\n",
       "      <td>Sub-Saharan Africa</td>\n",
       "      <td>zambia</td>\n",
       "      <td>752614</td>\n",
       "      <td>11502010</td>\n",
       "      <td>80,6</td>\n",
       "    </tr>\n",
       "    <tr>\n",
       "      <th>134</th>\n",
       "      <td>zimbabwe</td>\n",
       "      <td>3.2992</td>\n",
       "      <td>0.763093</td>\n",
       "      <td>55.617260</td>\n",
       "      <td>0.711458</td>\n",
       "      <td>-0.072064</td>\n",
       "      <td>0.810237</td>\n",
       "      <td>Sub-Saharan Africa</td>\n",
       "      <td>zimbabwe</td>\n",
       "      <td>390580</td>\n",
       "      <td>12236805</td>\n",
       "      <td>90,7</td>\n",
       "    </tr>\n",
       "  </tbody>\n",
       "</table>\n",
       "<p>135 rows × 12 columns</p>\n",
       "</div>"
      ],
      "text/plain": [
       "         country  happiness_score  social_support  healthy_life_expectancy  \\\n",
       "0    afghanistan           2.5669        0.470367                52.590000   \n",
       "1        albania           4.8827        0.671070                68.708138   \n",
       "2        algeria           5.0051        0.803385                65.905174   \n",
       "3      argentina           5.9747        0.900568                68.803802   \n",
       "4        armenia           4.6768        0.757479                66.750656   \n",
       "..           ...              ...             ...                      ...   \n",
       "130    venezuela           5.0532        0.890408                66.505341   \n",
       "131      vietnam           5.3535        0.849987                67.952736   \n",
       "132        yemen           3.5274        0.817981                56.727283   \n",
       "133       zambia           3.7594        0.698824                55.299377   \n",
       "134     zimbabwe           3.2992        0.763093                55.617260   \n",
       "\n",
       "     freedom_of_choices  generosity  perception_of_corruption  \\\n",
       "0              0.396573   -0.096429                  0.933687   \n",
       "1              0.781994   -0.042309                  0.896304   \n",
       "2              0.466611   -0.121105                  0.735485   \n",
       "3              0.831132   -0.194914                  0.842010   \n",
       "4              0.712018   -0.138780                  0.773545   \n",
       "..                  ...         ...                       ...   \n",
       "130            0.623278   -0.169091                  0.837038   \n",
       "131            0.939593   -0.094533                  0.796421   \n",
       "132            0.599920   -0.157735                  0.800288   \n",
       "133            0.806500    0.078037                  0.801290   \n",
       "134            0.711458   -0.072064                  0.810237   \n",
       "\n",
       "                           world_region country_name     area  population  \\\n",
       "0                            South Asia  afghanistan   647500    31056997   \n",
       "1            Central and Eastern Europe      albania    28748     3581655   \n",
       "2          Middle East and North Africa      algeria  2381740    32930091   \n",
       "3           Latin America and Caribbean    argentina  2766890    39921833   \n",
       "4    Commonwealth of Independent States      armenia    29800     2976372   \n",
       "..                                  ...          ...      ...         ...   \n",
       "130         Latin America and Caribbean    venezuela   912050    25730435   \n",
       "131                      Southeast Asia      vietnam   329560    84402966   \n",
       "132        Middle East and North Africa        yemen   527970    21456188   \n",
       "133                  Sub-Saharan Africa       zambia   752614    11502010   \n",
       "134                  Sub-Saharan Africa     zimbabwe   390580    12236805   \n",
       "\n",
       "    literacy  \n",
       "0       36,0  \n",
       "1       86,5  \n",
       "2       70,0  \n",
       "3       97,1  \n",
       "4       98,6  \n",
       "..       ...  \n",
       "130     93,4  \n",
       "131     90,3  \n",
       "132     50,2  \n",
       "133     80,6  \n",
       "134     90,7  \n",
       "\n",
       "[135 rows x 12 columns]"
      ]
     },
     "execution_count": 23,
     "metadata": {},
     "output_type": "execute_result"
    }
   ],
   "source": [
    "# Write your code here\n",
    "happiness['country'] = happiness['country'].str.lower()\n",
    "country_features = pd.merge(happiness, countries,\n",
    "    left_on='country',\n",
    "    right_on='country_name')\n",
    "\n",
    "\n",
    "country_features"
   ]
  },
  {
   "cell_type": "markdown",
   "metadata": {},
   "source": [
    "## Task 3: Where do people are happier?\n",
    "\n",
    "Print the top 10 countries based on their happiness score (high is better)."
   ]
  },
  {
   "cell_type": "code",
   "execution_count": 34,
   "metadata": {},
   "outputs": [
    {
     "data": {
      "text/plain": [
       "72      luxembourg\n",
       "6          austria\n",
       "88     new zealand\n",
       "114         sweden\n",
       "87     netherlands\n",
       "92          norway\n",
       "50         iceland\n",
       "115    switzerland\n",
       "31         denmark\n",
       "38         finland\n",
       "Name: country, dtype: object"
      ]
     },
     "execution_count": 34,
     "metadata": {},
     "output_type": "execute_result"
    }
   ],
   "source": [
    "# Write your code here\n",
    "sorted_country_feats = country_features.sort_values('happiness_score')\n",
    "countries = sorted_country_feats.tail(10)\n",
    "countries['country']"
   ]
  },
  {
   "cell_type": "markdown",
   "metadata": {},
   "source": [
    "We are interested to know in what world region the people are happier. \n",
    "\n",
    "Create and print a dataframe with the (1) average happiness score and (2) the number of contries for each world region.\n",
    "Sort the result to show the happiness ranking."
   ]
  },
  {
   "cell_type": "code",
   "execution_count": 55,
   "metadata": {},
   "outputs": [
    {
     "data": {
      "text/html": [
       "<div>\n",
       "<style scoped>\n",
       "    .dataframe tbody tr th:only-of-type {\n",
       "        vertical-align: middle;\n",
       "    }\n",
       "\n",
       "    .dataframe tbody tr th {\n",
       "        vertical-align: top;\n",
       "    }\n",
       "\n",
       "    .dataframe thead tr th {\n",
       "        text-align: left;\n",
       "    }\n",
       "\n",
       "    .dataframe thead tr:last-of-type th {\n",
       "        text-align: right;\n",
       "    }\n",
       "</style>\n",
       "<table border=\"1\" class=\"dataframe\">\n",
       "  <thead>\n",
       "    <tr>\n",
       "      <th></th>\n",
       "      <th>country</th>\n",
       "      <th>happiness_score</th>\n",
       "    </tr>\n",
       "    <tr>\n",
       "      <th></th>\n",
       "      <th>count</th>\n",
       "      <th>mean</th>\n",
       "    </tr>\n",
       "    <tr>\n",
       "      <th>world_region</th>\n",
       "      <th></th>\n",
       "      <th></th>\n",
       "    </tr>\n",
       "  </thead>\n",
       "  <tbody>\n",
       "    <tr>\n",
       "      <th>North America and ANZ</th>\n",
       "      <td>4</td>\n",
       "      <td>7.173525</td>\n",
       "    </tr>\n",
       "    <tr>\n",
       "      <th>Western Europe</th>\n",
       "      <td>20</td>\n",
       "      <td>6.967405</td>\n",
       "    </tr>\n",
       "    <tr>\n",
       "      <th>Latin America and Caribbean</th>\n",
       "      <td>20</td>\n",
       "      <td>5.971280</td>\n",
       "    </tr>\n",
       "    <tr>\n",
       "      <th>Central and Eastern Europe</th>\n",
       "      <td>14</td>\n",
       "      <td>5.891393</td>\n",
       "    </tr>\n",
       "    <tr>\n",
       "      <th>Southeast Asia</th>\n",
       "      <td>8</td>\n",
       "      <td>5.517788</td>\n",
       "    </tr>\n",
       "    <tr>\n",
       "      <th>East Asia</th>\n",
       "      <td>3</td>\n",
       "      <td>5.483633</td>\n",
       "    </tr>\n",
       "    <tr>\n",
       "      <th>Commonwealth of Independent States</th>\n",
       "      <td>12</td>\n",
       "      <td>5.358342</td>\n",
       "    </tr>\n",
       "    <tr>\n",
       "      <th>Middle East and North Africa</th>\n",
       "      <td>16</td>\n",
       "      <td>5.269306</td>\n",
       "    </tr>\n",
       "    <tr>\n",
       "      <th>Sub-Saharan Africa</th>\n",
       "      <td>32</td>\n",
       "      <td>4.393856</td>\n",
       "    </tr>\n",
       "    <tr>\n",
       "      <th>South Asia</th>\n",
       "      <td>6</td>\n",
       "      <td>4.355083</td>\n",
       "    </tr>\n",
       "  </tbody>\n",
       "</table>\n",
       "</div>"
      ],
      "text/plain": [
       "                                   country happiness_score\n",
       "                                     count            mean\n",
       "world_region                                              \n",
       "North America and ANZ                    4        7.173525\n",
       "Western Europe                          20        6.967405\n",
       "Latin America and Caribbean             20        5.971280\n",
       "Central and Eastern Europe              14        5.891393\n",
       "Southeast Asia                           8        5.517788\n",
       "East Asia                                3        5.483633\n",
       "Commonwealth of Independent States      12        5.358342\n",
       "Middle East and North Africa            16        5.269306\n",
       "Sub-Saharan Africa                      32        4.393856\n",
       "South Asia                               6        4.355083"
      ]
     },
     "execution_count": 55,
     "metadata": {},
     "output_type": "execute_result"
    }
   ],
   "source": [
    "# Write your code here\n",
    "f = {'country':['count'], 'happiness_score':['mean']}\n",
    "country_features.groupby('world_region').agg(f).sort_values(('happiness_score',  'mean'), ascending = False)\n",
    "\n"
   ]
  },
  {
   "cell_type": "markdown",
   "metadata": {},
   "source": [
    "The first region has only a few countries! What are them and what is their score?"
   ]
  },
  {
   "cell_type": "code",
   "execution_count": 61,
   "metadata": {},
   "outputs": [
    {
     "data": {
      "text/html": [
       "<div>\n",
       "<style scoped>\n",
       "    .dataframe tbody tr th:only-of-type {\n",
       "        vertical-align: middle;\n",
       "    }\n",
       "\n",
       "    .dataframe tbody tr th {\n",
       "        vertical-align: top;\n",
       "    }\n",
       "\n",
       "    .dataframe thead th {\n",
       "        text-align: right;\n",
       "    }\n",
       "</style>\n",
       "<table border=\"1\" class=\"dataframe\">\n",
       "  <thead>\n",
       "    <tr style=\"text-align: right;\">\n",
       "      <th></th>\n",
       "      <th>world_region</th>\n",
       "      <th>country</th>\n",
       "      <th>happiness_score</th>\n",
       "    </tr>\n",
       "  </thead>\n",
       "  <tbody>\n",
       "    <tr>\n",
       "      <th>5</th>\n",
       "      <td>North America and ANZ</td>\n",
       "      <td>australia</td>\n",
       "      <td>7.2228</td>\n",
       "    </tr>\n",
       "    <tr>\n",
       "      <th>21</th>\n",
       "      <td>North America and ANZ</td>\n",
       "      <td>canada</td>\n",
       "      <td>7.2321</td>\n",
       "    </tr>\n",
       "    <tr>\n",
       "      <th>88</th>\n",
       "      <td>North America and ANZ</td>\n",
       "      <td>new zealand</td>\n",
       "      <td>7.2996</td>\n",
       "    </tr>\n",
       "    <tr>\n",
       "      <th>127</th>\n",
       "      <td>North America and ANZ</td>\n",
       "      <td>united states</td>\n",
       "      <td>6.9396</td>\n",
       "    </tr>\n",
       "  </tbody>\n",
       "</table>\n",
       "</div>"
      ],
      "text/plain": [
       "              world_region        country  happiness_score\n",
       "5    North America and ANZ      australia           7.2228\n",
       "21   North America and ANZ         canada           7.2321\n",
       "88   North America and ANZ    new zealand           7.2996\n",
       "127  North America and ANZ  united states           6.9396"
      ]
     },
     "execution_count": 61,
     "metadata": {},
     "output_type": "execute_result"
    }
   ],
   "source": [
    "# Write your code here\n",
    "country_features2 = country_features[country_features['world_region'] =='North America and ANZ']\n",
    "country_features2 = country_features2[['world_region', 'country', 'happiness_score']]\n",
    "country_features2"
   ]
  },
  {
   "cell_type": "markdown",
   "metadata": {},
   "source": [
    "## Task 4: How literate is the world?\n",
    "\n",
    "Print the name of countries with a level of literacy of 100%. \n",
    "\n",
    "For each country, print the name and the world region with the format: *{region name} - {country name} ({happiness score})*"
   ]
  },
  {
   "cell_type": "code",
   "execution_count": null,
   "metadata": {},
   "outputs": [],
   "source": [
    "# Write your code here"
   ]
  },
  {
   "cell_type": "markdown",
   "metadata": {},
   "source": [
    "What is the global average?"
   ]
  },
  {
   "cell_type": "code",
   "execution_count": null,
   "metadata": {},
   "outputs": [],
   "source": [
    "# Write your code here"
   ]
  },
  {
   "cell_type": "markdown",
   "metadata": {},
   "source": [
    "Calculate the proportion of countries with a literacy level below 50%. Print the value in percentage, formatted with 2 decimals."
   ]
  },
  {
   "cell_type": "code",
   "execution_count": null,
   "metadata": {},
   "outputs": [],
   "source": [
    "# Write your code here"
   ]
  },
  {
   "cell_type": "markdown",
   "metadata": {},
   "source": [
    "Print the raw number and the percentage of world population that is illiterate."
   ]
  },
  {
   "cell_type": "code",
   "execution_count": null,
   "metadata": {},
   "outputs": [],
   "source": [
    "# Write your code here"
   ]
  },
  {
   "cell_type": "markdown",
   "metadata": {},
   "source": [
    "## Task 5: Population density\n",
    "\n",
    "Add to the dataframe a new field called *population_density* computed by dividing *population* by *area*."
   ]
  },
  {
   "cell_type": "code",
   "execution_count": null,
   "metadata": {},
   "outputs": [],
   "source": [
    "# Write your code here"
   ]
  },
  {
   "cell_type": "markdown",
   "metadata": {},
   "source": [
    "What is the happiness score of the 3 countries with lowest population density?"
   ]
  },
  {
   "cell_type": "code",
   "execution_count": null,
   "metadata": {},
   "outputs": [],
   "source": [
    "# Write your code here"
   ]
  },
  {
   "cell_type": "markdown",
   "metadata": {},
   "source": [
    "## Task 6: Healty and happy?\n",
    "\n",
    "Plot in scatter plot the happiness score (x) and healty life expectancy (y)."
   ]
  },
  {
   "cell_type": "code",
   "execution_count": null,
   "metadata": {},
   "outputs": [],
   "source": [
    "# Write your code here"
   ]
  },
  {
   "cell_type": "markdown",
   "metadata": {},
   "source": [
    "Feel free to continue the exploration of the dataset! We'll release the solutions next week.\n",
    "\n",
    "----\n",
    "Enjoy EPFL and be happy, next year Switzerland must be #1."
   ]
  }
 ],
 "metadata": {
  "kernelspec": {
   "display_name": "Python 3 (ipykernel)",
   "language": "python",
   "name": "python3"
  },
  "language_info": {
   "codemirror_mode": {
    "name": "ipython",
    "version": 3
   },
   "file_extension": ".py",
   "mimetype": "text/x-python",
   "name": "python",
   "nbconvert_exporter": "python",
   "pygments_lexer": "ipython3",
   "version": "3.9.13"
  }
 },
 "nbformat": 4,
 "nbformat_minor": 4
}
