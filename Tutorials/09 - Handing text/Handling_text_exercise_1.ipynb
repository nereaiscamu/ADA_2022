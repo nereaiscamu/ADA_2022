{
 "cells": [
  {
   "cell_type": "markdown",
   "metadata": {},
   "source": [
    "# Handling text exercise"
   ]
  },
  {
   "cell_type": "markdown",
   "metadata": {},
   "source": [
    "## Welcome! This exercise consists of:\n",
    "\n",
    "## Part 1: Hands on tutorial\n",
    "1. Implementing the natural language processing pipeline\n",
    "2. Solving four typical language processing tasks:\n",
    "   * Sentiment analysis\n",
    "   * Document classification\n",
    "   * Topic detection\n",
    "   * Semantic analysis\n",
    "\n",
    "\n",
    "### We will be working with four books in plain text:\n",
    "1. Moby-Dick, by Herman Melville\n",
    "2. Frankenstein; or, The Modern Prometheus, by Mary Shelley\n",
    "3. Pride and Prejudice, by Jane Austen\n",
    "4. Dracula, Bram Stoker\n",
    "\n",
    "#### To run this notebook, you need to install the following libraries:\n",
    "\n",
    "conda install nltk gensim spacy <br>\n",
    "pip install pyLDAvis  <br>\n",
    "pip install vaderSentiment  <br>\n",
    "pip install empath <br>\n",
    "python -m spacy download en  <br>\n",
    "python -m nltk.downloader punkt <br>\n",
    "python -m nltk.downloader all-corpora <br>\n",
    "\n",
    "## Part 2: Handling text comprehension questions\n",
    "- You can test your understanding of important NLP concepts. Solutions will be released next week.\n",
    "\n",
    "## Part 3: Coding exercise\n",
    "- When you are done, in \"Handling_text_exercise_2.ipynb\", you will find additional exercises you can work on independently."
   ]
  },
  {
   "cell_type": "markdown",
   "metadata": {},
   "source": [
    "## Part 1"
   ]
  },
  {
   "cell_type": "code",
   "execution_count": 40,
   "metadata": {},
   "outputs": [
    {
     "name": "stdout",
     "output_type": "stream",
     "text": [
      "The autoreload extension is already loaded. To reload it, use:\n",
      "  %reload_ext autoreload\n"
     ]
    }
   ],
   "source": [
    "%load_ext autoreload\n",
    "%autoreload 2\n",
    "\n",
    "import warnings; warnings.simplefilter('ignore')\n",
    "import os, codecs, string, random\n",
    "import numpy as np\n",
    "from numpy.random import seed as random_seed\n",
    "from numpy.random import shuffle as random_shuffle\n",
    "import matplotlib.pyplot as plt\n",
    "%matplotlib inline  \n",
    "\n",
    "seed = 42\n",
    "random.seed(seed)\n",
    "np.random.seed(seed)\n",
    "\n",
    "#NLP libraries\n",
    "import spacy, nltk, gensim, sklearn\n",
    "#import pyLDAvis.gensim\n",
    "import pyLDAvis.gensim_models\n",
    "\n",
    "#Vader\n",
    "import vaderSentiment\n",
    "from vaderSentiment.vaderSentiment import SentimentIntensityAnalyzer\n",
    "\n",
    "#Scikit imports\n",
    "from sklearn.feature_extraction.text import CountVectorizer\n",
    "from sklearn.model_selection import train_test_split\n",
    "from sklearn.model_selection import cross_val_score\n",
    "from sklearn.linear_model import LogisticRegression\n",
    "from sklearn import preprocessing\n",
    "from sklearn.preprocessing import StandardScaler\n",
    "from sklearn.utils import shuffle\n",
    "\n",
    "#The data\n",
    "corpus_root = 'books/'"
   ]
  },
  {
   "cell_type": "markdown",
   "metadata": {},
   "source": [
    "#### In this tutorial we will be working with text in English. The same principles apply, but the methods cannot be applied directly to the text in unknown or other languages. We will be working mainly with the Spacy library."
   ]
  },
  {
   "cell_type": "markdown",
   "metadata": {},
   "source": [
    "Initialize the Spacy analyzer in English"
   ]
  },
  {
   "cell_type": "code",
   "execution_count": 41,
   "metadata": {},
   "outputs": [],
   "source": [
    "nlp = spacy.load('en_core_web_sm')"
   ]
  },
  {
   "cell_type": "markdown",
   "metadata": {},
   "source": [
    "Load the books"
   ]
  },
  {
   "cell_type": "code",
   "execution_count": 42,
   "metadata": {},
   "outputs": [
    {
     "name": "stdout",
     "output_type": "stream",
     "text": [
      "DRACULA.txt\n",
      "Frankenstein.txt\n",
      "Moby_Dick.txt\n",
      "PRIDE_AND_PREJUDICE.txt\n"
     ]
    }
   ],
   "source": [
    "books = list()\n",
    "\n",
    "for book_file in os.listdir(corpus_root):\n",
    "    if \".txt\" in book_file:\n",
    "        print(book_file)\n",
    "        with codecs.open(os.path.join(corpus_root,book_file),encoding=\"utf8\") as f:\n",
    "            books.append(f.read())"
   ]
  },
  {
   "cell_type": "markdown",
   "metadata": {},
   "source": [
    "Print the beginning of Pride and Prejudice"
   ]
  },
  {
   "cell_type": "code",
   "execution_count": 43,
   "metadata": {},
   "outputs": [
    {
     "name": "stdout",
     "output_type": "stream",
     "text": [
      "PRIDE AND PREJUDICE\r\n",
      "\r\n",
      "By Jane Austen\r\n",
      "\r\n",
      "\r\n",
      "\r\n",
      "Chapter 1\r\n",
      "\r\n",
      "\r\n",
      "It is a truth universally acknowledged, that a single man in possession\r\n",
      "of a good fortune, must be in want of a wife.\r\n",
      "\r\n",
      "However little known the feelings or views of such a man may be on his\r\n",
      "first entering a neighbourhood, this truth is so well fixed in the minds\r\n",
      "of the surrounding families, that he is considered the rightful property\r\n",
      "of some one or other of their daughters.\r\n",
      "\r\n",
      "“My dear Mr. Bennet,” said his lady to him one day, “have you heard that\r\n",
      "Netherfield Park is let at last?”\r\n",
      "\r\n",
      "Mr. Bennet replied that he had not.\r\n",
      "\r\n",
      "“But\n"
     ]
    }
   ],
   "source": [
    "print(books[3][0:600])"
   ]
  },
  {
   "cell_type": "markdown",
   "metadata": {},
   "source": [
    "#### Let's remove the new lines"
   ]
  },
  {
   "cell_type": "code",
   "execution_count": 44,
   "metadata": {},
   "outputs": [],
   "source": [
    "books = [\" \".join(b.split()) for b in books]"
   ]
  },
  {
   "cell_type": "code",
   "execution_count": 45,
   "metadata": {},
   "outputs": [
    {
     "name": "stdout",
     "output_type": "stream",
     "text": [
      "PRIDE AND PREJUDICE By Jane Austen Chapter 1 It is a truth universally acknowledged, that a single man in possession of a good fortune, must be in want of a wife. However little known the feelings or views of such a man may be on his first entering a neighbourhood, this truth is so well fixed in the minds of the surrounding families, that he is considered the rightful property of some one or other of their daughters. “My dear Mr. Bennet,” said his lady to him one day, “have you heard that Netherfield Park is let at last?” Mr. Bennet replied that he had not. “But it is,” returned she; “for Mrs.\n"
     ]
    }
   ],
   "source": [
    "print(books[3][0:600])"
   ]
  },
  {
   "cell_type": "markdown",
   "metadata": {},
   "source": [
    "### Load Frankenstein"
   ]
  },
  {
   "cell_type": "code",
   "execution_count": 46,
   "metadata": {},
   "outputs": [],
   "source": [
    "#index all books\n",
    "book = books[1]\n",
    "\n",
    "#put in raw text, get a Spacy object\n",
    "doc = nlp(book)"
   ]
  },
  {
   "cell_type": "markdown",
   "metadata": {},
   "source": [
    "## Let's create our own NLP pipeline with Spacy!"
   ]
  },
  {
   "cell_type": "markdown",
   "metadata": {},
   "source": [
    "### Step 1: Sentence splitting\n",
    "\n",
    "#### May sound trivial, but it's not! (e.g., U.K. or Yahoo!) Spacy uses a statistical model to generate accurate predictions. This works well out of the box for general-purpose text or web text. For social media use dedicated libraries."
   ]
  },
  {
   "cell_type": "code",
   "execution_count": 47,
   "metadata": {},
   "outputs": [
    {
     "name": "stdout",
     "output_type": "stream",
     "text": [
      "Sentence 1: Frankenstein, or the Modern Prometheus by Mary Wollstonecraft (Godwin) Shelley Letter 1 St. Petersburgh, Dec. 11th, 17-- TO Mrs. Saville, England You will rejoice to hear that no disaster has accompanied the commencement of an enterprise which you have regarded with such evil forebodings. \n",
      "\n",
      "Sentence 2: I arrived here yesterday, and my first task is to assure my dear sister of my welfare and increasing confidence in the success of my undertaking. \n",
      "\n",
      "Sentence 3: I am already far north of London, and as I walk in the streets of Petersburgh, I feel a cold northern breeze play upon my cheeks, which braces my nerves and fills me with delight. \n",
      "\n"
     ]
    }
   ],
   "source": [
    "sentences = [sent for sent in doc.sents]\n",
    "print('Sentence 1:',sentences[0],'\\n')\n",
    "print('Sentence 2:',sentences[1],'\\n')\n",
    "print('Sentence 3:',sentences[2],'\\n')"
   ]
  },
  {
   "cell_type": "markdown",
   "metadata": {},
   "source": [
    "### Step 2: Tokenization\n",
    "\n",
    "#### The task of splitting a text into meaningful segments called tokens. We segment the sentence into words, punctuation, etc. This is done by first splitting on whitespace characters and them applying rules specific to each language. For example, \"don't\" does not contain whitespace, but should be split into two tokens, \"do\" and \"n't\", while \"U.K.\" should always remain one token and \"but,\" shouldn't."
   ]
  },
  {
   "cell_type": "markdown",
   "metadata": {},
   "source": [
    "### We will analyze the methods on an example sentence first"
   ]
  },
  {
   "cell_type": "code",
   "execution_count": 48,
   "metadata": {},
   "outputs": [
    {
     "name": "stdout",
     "output_type": "stream",
     "text": [
      "I am already far north of London, and as I walk in the streets of Petersburgh, I feel a cold northern breeze play upon my cheeks, which braces my nerves and fills me with delight. \n",
      "\n",
      "['I', 'am', 'already', 'far', 'north', 'of', 'London', ',', 'and', 'as', 'I', 'walk', 'in', 'the', 'streets', 'of', 'Petersburgh', ',', 'I', 'feel', 'a', 'cold', 'northern', 'breeze', 'play', 'upon', 'my', 'cheeks', ',', 'which', 'braces', 'my', 'nerves', 'and', 'fills', 'me', 'with', 'delight', '.']\n"
     ]
    }
   ],
   "source": [
    "example = 'I am already far north of London, and as I walk in the streets of Petersburgh, I feel a cold northern breeze play upon my cheeks, which braces my nerves and fills me with delight.'\n",
    "\n",
    "doc = nlp(example)\n",
    "\n",
    "#strings are encoded to hashes\n",
    "tokens = [token.text for token in doc]\n",
    "\n",
    "print(example,'\\n')\n",
    "print(tokens)"
   ]
  },
  {
   "cell_type": "markdown",
   "metadata": {},
   "source": [
    "### Step 3: Part of speech tagging\n",
    "\n",
    "#### The model makes a prediction of which tag or label most likely applies in this context. For example, a word following \"the\" in English is most likely a noun."
   ]
  },
  {
   "cell_type": "code",
   "execution_count": 49,
   "metadata": {},
   "outputs": [
    {
     "name": "stdout",
     "output_type": "stream",
     "text": [
      "I am already far north of London, and as I walk in the streets of Petersburgh, I feel a cold northern breeze play upon my cheeks, which braces my nerves and fills me with delight. \n",
      "\n",
      "[('I', 'PRON'), ('am', 'AUX'), ('already', 'ADV'), ('far', 'ADV'), ('north', 'ADV'), ('of', 'ADP'), ('London', 'PROPN'), (',', 'PUNCT'), ('and', 'CCONJ'), ('as', 'SCONJ'), ('I', 'PRON'), ('walk', 'VERB'), ('in', 'ADP'), ('the', 'DET'), ('streets', 'NOUN'), ('of', 'ADP'), ('Petersburgh', 'PROPN'), (',', 'PUNCT'), ('I', 'PRON'), ('feel', 'VERB'), ('a', 'DET'), ('cold', 'ADJ'), ('northern', 'ADJ'), ('breeze', 'NOUN'), ('play', 'VERB'), ('upon', 'SCONJ'), ('my', 'PRON'), ('cheeks', 'NOUN'), (',', 'PUNCT'), ('which', 'PRON'), ('braces', 'VERB'), ('my', 'PRON'), ('nerves', 'NOUN'), ('and', 'CCONJ'), ('fills', 'VERB'), ('me', 'PRON'), ('with', 'ADP'), ('delight', 'NOUN'), ('.', 'PUNCT')]\n"
     ]
    }
   ],
   "source": [
    "pos_tagged = [(token.text, token.pos_) for token in doc]\n",
    "\n",
    "print(example,'\\n')\n",
    "print(pos_tagged)"
   ]
  },
  {
   "cell_type": "code",
   "execution_count": 50,
   "metadata": {},
   "outputs": [
    {
     "name": "stdout",
     "output_type": "stream",
     "text": [
      "coordinating conjunction\n",
      "adposition\n",
      "determiner\n"
     ]
    }
   ],
   "source": [
    "print(spacy.explain('CCONJ'))\n",
    "print(spacy.explain('ADP'))\n",
    "print(spacy.explain('DET'))"
   ]
  },
  {
   "cell_type": "markdown",
   "metadata": {},
   "source": [
    "### When unsure, see here for more details: http://universaldependencies.org/u/pos/all.html"
   ]
  },
  {
   "cell_type": "markdown",
   "metadata": {},
   "source": [
    "#### More detailed annotation:"
   ]
  },
  {
   "cell_type": "code",
   "execution_count": 51,
   "metadata": {},
   "outputs": [
    {
     "name": "stdout",
     "output_type": "stream",
     "text": [
      "[('I', 'PRP'), ('am', 'VBP'), ('already', 'RB'), ('far', 'RB'), ('north', 'RB'), ('of', 'IN'), ('London', 'NNP'), (',', ','), ('and', 'CC'), ('as', 'IN'), ('I', 'PRP'), ('walk', 'VBP'), ('in', 'IN'), ('the', 'DT'), ('streets', 'NNS'), ('of', 'IN'), ('Petersburgh', 'NNP'), (',', ','), ('I', 'PRP'), ('feel', 'VBP'), ('a', 'DT'), ('cold', 'JJ'), ('northern', 'JJ'), ('breeze', 'NN'), ('play', 'VB'), ('upon', 'IN'), ('my', 'PRP$'), ('cheeks', 'NNS'), (',', ','), ('which', 'WDT'), ('braces', 'VBZ'), ('my', 'PRP$'), ('nerves', 'NNS'), ('and', 'CC'), ('fills', 'VBZ'), ('me', 'PRP'), ('with', 'IN'), ('delight', 'NN'), ('.', '.')]\n"
     ]
    }
   ],
   "source": [
    "pos_tagged = [(token.text, token.tag_) for token in doc]\n",
    "\n",
    "print(pos_tagged)"
   ]
  },
  {
   "cell_type": "code",
   "execution_count": 52,
   "metadata": {},
   "outputs": [
    {
     "name": "stdout",
     "output_type": "stream",
     "text": [
      "pronoun, personal\n",
      "verb, non-3rd person singular present\n"
     ]
    }
   ],
   "source": [
    "print(spacy.explain('PRP'))\n",
    "print(spacy.explain('VBP'))"
   ]
  },
  {
   "cell_type": "markdown",
   "metadata": {},
   "source": [
    "### Step 4: Named entity recognition\n",
    "\n",
    "#### For example, a person, a country, a product or a book title. Spacy can recognise various types of named entities in a document. This doesn't always work perfectly and might need some tuning later, depending on your use case.\n",
    "\n",
    "Built in entity types: <br>\n",
    "\n",
    "PERSON  People, including fictional.  <br>\n",
    "NORP\tNationalities or religious or political groups. <br>\n",
    "FAC\tBuildings, airports, highways, bridges, etc. <br>\n",
    "ORG\tCompanies, agencies, institutions, etc. <br>\n",
    "GPE\tCountries, cities, states. <br>\n",
    "LOC\tNon-GPE locations, mountain ranges, bodies of water. <br>\n",
    "PRODUCT\tObjects, vehicles, foods, etc. (Not services.) <br>\n",
    "EVENT\tNamed hurricanes, battles, wars, sports events, etc. <br>\n",
    "WORK_OF_ART\tTitles of books, songs, etc. <br>\n",
    "LAW\tNamed documents made into laws. <br>\n",
    "LANGUAGE\tAny named language. <br>\n",
    "DATE\tAbsolute or relative dates or periods. <br>\n",
    "TIME\tTimes smaller than a day. <br>\n",
    "PERCENT\tPercentage, including \"%\". <br>\n",
    "MONEY\tMonetary values, including unit. <br>\n",
    "QUANTITY\tMeasurements, as of weight or distance. <br>\n",
    "ORDINAL\t\"first\", \"second\", etc. <br>\n",
    "CARDINAL\tNumerals that do not fall under another type. <br>"
   ]
  },
  {
   "cell_type": "code",
   "execution_count": 53,
   "metadata": {},
   "outputs": [
    {
     "name": "stdout",
     "output_type": "stream",
     "text": [
      "I am already far north of London, and as I walk in the streets of Petersburgh, I feel a cold northern breeze play upon my cheeks, which braces my nerves and fills me with delight. \n",
      "\n",
      "London GPE\n",
      "Petersburgh PERSON\n"
     ]
    }
   ],
   "source": [
    "print(example,'\\n')\n",
    "for ent in doc.ents:\n",
    "    print(ent.text, ent.label_)"
   ]
  },
  {
   "cell_type": "markdown",
   "metadata": {},
   "source": [
    "### Step 5: Removing stop words"
   ]
  },
  {
   "cell_type": "markdown",
   "metadata": {},
   "source": [
    "Let's check out all the stopwords:"
   ]
  },
  {
   "cell_type": "code",
   "execution_count": 54,
   "metadata": {},
   "outputs": [
    {
     "name": "stdout",
     "output_type": "stream",
     "text": [
      "Number of stop words: 326\n",
      "First ten stop words: ['see', 'nor', 'himself', 'an', 'take', 'whence', 'just', 'toward', 'used', 'could']\n"
     ]
    }
   ],
   "source": [
    "spacy_stopwords = spacy.lang.en.stop_words.STOP_WORDS\n",
    "print('Number of stop words: %d' % len(spacy_stopwords))\n",
    "print('First ten stop words:',list(spacy_stopwords)[:10])"
   ]
  },
  {
   "cell_type": "markdown",
   "metadata": {},
   "source": [
    "Detecting stopwords in the example:"
   ]
  },
  {
   "cell_type": "code",
   "execution_count": 55,
   "metadata": {},
   "outputs": [
    {
     "name": "stdout",
     "output_type": "stream",
     "text": [
      "I am already far north of London, and as I walk in the streets of Petersburgh, I feel a cold northern breeze play upon my cheeks, which braces my nerves and fills me with delight. \n",
      "\n",
      "['I', 'am', 'already', 'of', 'and', 'as', 'I', 'in', 'the', 'of', 'I', 'a', 'upon', 'my', 'which', 'my', 'and', 'me', 'with']\n"
     ]
    }
   ],
   "source": [
    "print(example,'\\n')\n",
    "\n",
    "stop_words = [token.text for token in doc if token.is_stop]\n",
    "\n",
    "print(stop_words)"
   ]
  },
  {
   "cell_type": "markdown",
   "metadata": {},
   "source": [
    "#### Sometimes it's useful to define a custom list of stopwords. Other solutions: https://www.ranks.nl/stopwords \n"
   ]
  },
  {
   "cell_type": "markdown",
   "metadata": {},
   "source": [
    "### Step 6: Lemmatization\n",
    "\n",
    "#### A rule-based deterministic lemmatizer maps the surface form of a token to a lemma."
   ]
  },
  {
   "cell_type": "code",
   "execution_count": 56,
   "metadata": {},
   "outputs": [
    {
     "name": "stdout",
     "output_type": "stream",
     "text": [
      "I am already far north of London, and as I walk in the streets of Petersburgh, I feel a cold northern breeze play upon my cheeks, which braces my nerves and fills me with delight. \n",
      "\n",
      "am ---> be\n",
      "streets ---> street\n",
      "cheeks ---> cheek\n",
      "braces ---> brace\n",
      "nerves ---> nerve\n",
      "fills ---> fill\n",
      "me ---> I\n"
     ]
    }
   ],
   "source": [
    "print(example,'\\n')\n",
    "for token in doc:\n",
    "    if token.text != token.lemma_:\n",
    "        print(token.text,'--->',token.lemma_)"
   ]
  },
  {
   "cell_type": "markdown",
   "metadata": {},
   "source": [
    "### Step 7: Chunking (shallow parsing)\n",
    "\n",
    "#### Noun chunks are \"base noun phrases\" – flat phrases that have a noun as their head -- a noun plus the words describing the noun – for example, \"the lavish green grass\" or \"the world’s largest tech fund\". "
   ]
  },
  {
   "cell_type": "code",
   "execution_count": 57,
   "metadata": {},
   "outputs": [
    {
     "name": "stdout",
     "output_type": "stream",
     "text": [
      "I am already far north of London, and as I walk in the streets of Petersburgh, I feel a cold northern breeze play upon my cheeks, which braces my nerves and fills me with delight. \n",
      "\n",
      "I\n",
      "London\n",
      "I\n",
      "the streets\n",
      "Petersburgh\n",
      "I\n",
      "a cold northern breeze\n",
      "my cheeks\n",
      "which\n",
      "my nerves\n",
      "me\n",
      "delight\n"
     ]
    }
   ],
   "source": [
    "print(example,'\\n')\n",
    "\n",
    "for chunk in doc.noun_chunks:\n",
    "    print(chunk.text)"
   ]
  },
  {
   "cell_type": "markdown",
   "metadata": {},
   "source": [
    "### Step 8: Dependancy parsing\n",
    "\n",
    "#### The terms head and child describe the words connected by an arc in the dependency tree. The type of syntactic relation that connects the child to the head can be obtain through .dep_."
   ]
  },
  {
   "cell_type": "code",
   "execution_count": 58,
   "metadata": {},
   "outputs": [
    {
     "name": "stdout",
     "output_type": "stream",
     "text": [
      "I am already far north of London, and as I walk in the streets of Petersburgh, I feel a cold northern breeze play upon my cheeks, which braces my nerves and fills me with delight. \n",
      "\n",
      "Token: I Head: am Children: []\n",
      "Token: am Head: am Children: [I, already, north, ,, and, feel]\n",
      "Token: already Head: am Children: []\n",
      "Token: far Head: north Children: []\n",
      "Token: north Head: am Children: [far, of]\n",
      "Token: of Head: north Children: [London]\n",
      "Token: London Head: of Children: []\n",
      "Token: , Head: am Children: []\n",
      "Token: and Head: am Children: []\n",
      "Token: as Head: walk Children: []\n",
      "Token: I Head: walk Children: []\n",
      "Token: walk Head: feel Children: [as, I, in]\n",
      "Token: in Head: walk Children: [streets]\n",
      "Token: the Head: streets Children: []\n",
      "Token: streets Head: in Children: [the, of]\n",
      "Token: of Head: streets Children: [Petersburgh]\n",
      "Token: Petersburgh Head: of Children: []\n",
      "Token: , Head: feel Children: []\n",
      "Token: I Head: feel Children: []\n",
      "Token: feel Head: am Children: [walk, ,, I, play, .]\n",
      "Token: a Head: breeze Children: []\n",
      "Token: cold Head: breeze Children: []\n",
      "Token: northern Head: breeze Children: []\n",
      "Token: breeze Head: play Children: [a, cold, northern]\n",
      "Token: play Head: feel Children: [breeze, upon]\n",
      "Token: upon Head: play Children: [cheeks]\n",
      "Token: my Head: cheeks Children: []\n",
      "Token: cheeks Head: upon Children: [my, ,, braces]\n",
      "Token: , Head: cheeks Children: []\n",
      "Token: which Head: braces Children: []\n",
      "Token: braces Head: cheeks Children: [which, nerves, and, fills]\n",
      "Token: my Head: nerves Children: []\n",
      "Token: nerves Head: braces Children: [my]\n",
      "Token: and Head: braces Children: []\n",
      "Token: fills Head: braces Children: [me, with]\n",
      "Token: me Head: fills Children: []\n",
      "Token: with Head: fills Children: [delight]\n",
      "Token: delight Head: with Children: []\n",
      "Token: . Head: feel Children: []\n"
     ]
    }
   ],
   "source": [
    "print(example,'\\n')\n",
    "\n",
    "for token in doc:\n",
    "    print('Token:',token.text,'Head:',token.head.text, 'Children:',[child for child in token.children])"
   ]
  },
  {
   "cell_type": "markdown",
   "metadata": {},
   "source": [
    "### Counting word occurences"
   ]
  },
  {
   "cell_type": "code",
   "execution_count": 59,
   "metadata": {},
   "outputs": [
    {
     "name": "stdout",
     "output_type": "stream",
     "text": [
      "I am already far north of London, and as I walk in the streets of Petersburgh, I feel a cold northern breeze play upon my cheeks, which braces my nerves and fills me with delight. \n",
      "\n",
      "[('I', 3), (',', 3), ('of', 2), ('and', 2), ('my', 2), ('am', 1), ('already', 1), ('far', 1), ('north', 1), ('London', 1), ('as', 1), ('walk', 1), ('in', 1), ('the', 1), ('streets', 1), ('Petersburgh', 1), ('feel', 1), ('a', 1), ('cold', 1), ('northern', 1), ('breeze', 1), ('play', 1), ('upon', 1), ('cheeks', 1), ('which', 1), ('braces', 1), ('nerves', 1), ('fills', 1), ('me', 1), ('with', 1), ('delight', 1), ('.', 1)]\n"
     ]
    }
   ],
   "source": [
    "from collections import Counter\n",
    "\n",
    "print(example,'\\n')\n",
    "words = [token.text for token in doc]\n",
    "\n",
    "# five most common tokens\n",
    "word_freq = Counter(words)\n",
    "common_words = word_freq.most_common()\n",
    "\n",
    "print(common_words)"
   ]
  },
  {
   "cell_type": "markdown",
   "metadata": {},
   "source": [
    "### Without stop words and punctuation"
   ]
  },
  {
   "cell_type": "code",
   "execution_count": 60,
   "metadata": {},
   "outputs": [
    {
     "name": "stdout",
     "output_type": "stream",
     "text": [
      "[('far', 1), ('north', 1), ('London', 1), ('walk', 1), ('streets', 1), ('Petersburgh', 1), ('feel', 1), ('cold', 1), ('northern', 1), ('breeze', 1), ('play', 1), ('cheeks', 1), ('braces', 1), ('nerves', 1), ('fills', 1), ('delight', 1)]\n"
     ]
    }
   ],
   "source": [
    "words = [token.text for token in doc if token.is_stop != True and token.is_punct != True]\n",
    "\n",
    "# five most common tokens\n",
    "word_freq = Counter(words)\n",
    "common_words = word_freq.most_common()\n",
    "\n",
    "print(common_words)"
   ]
  },
  {
   "cell_type": "markdown",
   "metadata": {},
   "source": [
    "## Putting all the components together"
   ]
  },
  {
   "cell_type": "markdown",
   "metadata": {},
   "source": [
    "### Under the hood: the pipeline [\"tokenizer\",\"tagger\", \"parser\", \"ner\"]."
   ]
  },
  {
   "cell_type": "markdown",
   "metadata": {},
   "source": [
    "#### The NLP pipeline with Spacy\n",
    "<img src=\"spacy.png\">"
   ]
  },
  {
   "cell_type": "code",
   "execution_count": 61,
   "metadata": {},
   "outputs": [],
   "source": [
    "nlp = spacy.load('en_core_web_sm')"
   ]
  },
  {
   "cell_type": "markdown",
   "metadata": {},
   "source": [
    "### If you don't need a particular component of the pipeline – for example, the tagger or the parser, you can disable loading it. This can sometimes make a big difference and improve loading speed. "
   ]
  },
  {
   "cell_type": "code",
   "execution_count": 62,
   "metadata": {},
   "outputs": [
    {
     "data": {
      "text/plain": [
       "('tagger', <spacy.pipeline.tagger.Tagger at 0x2bd0ab6b520>)"
      ]
     },
     "execution_count": 62,
     "metadata": {},
     "output_type": "execute_result"
    }
   ],
   "source": [
    "nlp.remove_pipe('parser')\n",
    "nlp.remove_pipe('tagger')"
   ]
  },
  {
   "cell_type": "markdown",
   "metadata": {},
   "source": [
    "# Task 1: Sentiment analysis"
   ]
  },
  {
   "cell_type": "markdown",
   "metadata": {},
   "source": [
    "### Initialize the analyzer. Typically used for data from social media (short sentences)."
   ]
  },
  {
   "cell_type": "code",
   "execution_count": 63,
   "metadata": {},
   "outputs": [],
   "source": [
    "analyzer = SentimentIntensityAnalyzer()\n",
    "vs = analyzer.polarity_scores(example)"
   ]
  },
  {
   "cell_type": "markdown",
   "metadata": {},
   "source": [
    "### The sentiment score consits of four values. Neutral, positive and negative sum to one. The final score is obtained by thresholding the compound value (e.g. +/-0.05)."
   ]
  },
  {
   "cell_type": "code",
   "execution_count": 64,
   "metadata": {},
   "outputs": [
    {
     "name": "stdout",
     "output_type": "stream",
     "text": [
      "I am already far north of London, and as I walk in the streets of Petersburgh, I feel a cold northern breeze play upon my cheeks, which braces my nerves and fills me with delight. \n",
      "\n",
      "Negative sentiment: 0.035\n",
      "Neutral sentiment: 0.806\n",
      "Positive sentiment: 0.159\n",
      "Compound sentiment: 0.7096\n"
     ]
    }
   ],
   "source": [
    "print(example, '\\n')\n",
    "print('Negative sentiment:',vs['neg'])\n",
    "print('Neutral sentiment:',vs['neu'])\n",
    "print('Positive sentiment:',vs['pos'])\n",
    "print('Compound sentiment:',vs['compound'])"
   ]
  },
  {
   "cell_type": "markdown",
   "metadata": {},
   "source": [
    "### We can now observe the distributions of sentiment across all sentences in the book Pride and Prejudice:"
   ]
  },
  {
   "cell_type": "code",
   "execution_count": 65,
   "metadata": {},
   "outputs": [],
   "source": [
    "nlp = spacy.load('en_core_web_sm')\n",
    "doc = nlp(books[3])"
   ]
  },
  {
   "cell_type": "code",
   "execution_count": 66,
   "metadata": {},
   "outputs": [
    {
     "data": {
      "text/plain": [
       "Text(0, 0.5, 'Number of sentences')"
      ]
     },
     "execution_count": 66,
     "metadata": {},
     "output_type": "execute_result"
    },
    {
     "data": {
      "image/png": "[encoded data removed]",
      "text/plain": [
       "<Figure size 640x480 with 1 Axes>"
      ]
     },
     "metadata": {},
     "output_type": "display_data"
    }
   ],
   "source": [
    "positive_sent = []\n",
    "#iterate through the sentences, get polarity scores, choose a value\n",
    "[positive_sent.append(analyzer.polarity_scores(sent.text)['pos']) for sent in doc.sents]\n",
    "plt.hist(positive_sent,bins=15)\n",
    "plt.xlim([0,1])\n",
    "plt.ylim([0,8000])\n",
    "plt.xlabel('Positive sentiment')\n",
    "plt.ylabel('Number of sentences')"
   ]
  },
  {
   "cell_type": "code",
   "execution_count": 67,
   "metadata": {},
   "outputs": [
    {
     "data": {
      "text/plain": [
       "Text(0, 0.5, 'Number of sentences')"
      ]
     },
     "execution_count": 67,
     "metadata": {},
     "output_type": "execute_result"
    },
    {
     "data": {
      "image/png": "[encoded data removed]",
      "text/plain": [
       "<Figure size 640x480 with 1 Axes>"
      ]
     },
     "metadata": {},
     "output_type": "display_data"
    }
   ],
   "source": [
    "negative_sent = []\n",
    "[negative_sent.append(analyzer.polarity_scores(sent.text)['neg']) for sent in doc.sents]\n",
    "plt.hist(negative_sent,bins=15)\n",
    "plt.xlim([0,1])\n",
    "plt.ylim([0,8000])\n",
    "plt.xlabel('Negative sentiment')\n",
    "plt.ylabel('Number of sentences')"
   ]
  },
  {
   "cell_type": "code",
   "execution_count": 68,
   "metadata": {},
   "outputs": [
    {
     "data": {
      "text/plain": [
       "Text(0, 0.5, 'Number of sentences')"
      ]
     },
     "execution_count": 68,
     "metadata": {},
     "output_type": "execute_result"
    },
    {
     "data": {
      "image/png": "[encoded data removed]",
      "text/plain": [
       "<Figure size 640x480 with 1 Axes>"
      ]
     },
     "metadata": {},
     "output_type": "display_data"
    }
   ],
   "source": [
    "total_sent = []\n",
    "[total_sent.append(analyzer.polarity_scores(sent.text)['compound']) for sent in doc.sents]\n",
    "plt.hist(total_sent,bins = 15)\n",
    "plt.xlim([-1,1])\n",
    "plt.ylim([0,8000])\n",
    "plt.xlabel('Compound sentiment')\n",
    "plt.ylabel('Number of sentences')"
   ]
  },
  {
   "cell_type": "code",
   "execution_count": 69,
   "metadata": {},
   "outputs": [
    {
     "name": "stdout",
     "output_type": "stream",
     "text": [
      "Number of positive sentences: 2734\n",
      "Number of negative sentences: 1341\n",
      "Number of neutral sentences: 1841\n"
     ]
    }
   ],
   "source": [
    "sents = [analyzer.polarity_scores(sent.text)['compound'] for sent in doc.sents]\n",
    "print('Number of positive sentences:',sum(np.array(sents)>=0.05))\n",
    "print('Number of negative sentences:',sum(np.array(sents)<=-0.05))\n",
    "print('Number of neutral sentences:',sum(np.abs(np.array(sents))<0.05))"
   ]
  },
  {
   "cell_type": "markdown",
   "metadata": {},
   "source": [
    "#### Most of the sentences are quite neutral in sentiment. This is not the case when working with data from other sources (e.g., in social media opinions are strong and polarized (bimodal distribution))."
   ]
  },
  {
   "cell_type": "markdown",
   "metadata": {},
   "source": [
    "# Task 2: Document classification: Can we detect paragraphs from Frankenstein?"
   ]
  },
  {
   "cell_type": "code",
   "execution_count": 70,
   "metadata": {},
   "outputs": [
    {
     "name": "stdout",
     "output_type": "stream",
     "text": [
      "['DRACULA.txt', 'Frankenstein.txt', 'Moby_Dick.txt', 'PRIDE_AND_PREJUDICE.txt']\n"
     ]
    }
   ],
   "source": [
    "# Let's load our corpus via NLTK this time\n",
    "from nltk.corpus import PlaintextCorpusReader\n",
    "?PlaintextCorpusReader\n",
    "our_books = PlaintextCorpusReader(corpus_root, '.*.txt')\n",
    "print(our_books.fileids())"
   ]
  },
  {
   "cell_type": "markdown",
   "metadata": {},
   "source": [
    "### We will segment the books into equally long chunks"
   ]
  },
  {
   "cell_type": "code",
   "execution_count": 71,
   "metadata": {},
   "outputs": [
    {
     "name": "stdout",
     "output_type": "stream",
     "text": [
      "DRACULA.txt :\n",
      "Number of sentences: 9303\n",
      "Number of chunks: 187 \n",
      "\n",
      "Frankenstein.txt :\n",
      "Number of sentences: 3378\n",
      "Number of chunks: 68 \n",
      "\n",
      "Moby_Dick.txt :\n",
      "Number of sentences: 9609\n",
      "Number of chunks: 193 \n",
      "\n",
      "PRIDE_AND_PREJUDICE.txt :\n",
      "Number of sentences: 6055\n",
      "Number of chunks: 122 \n",
      "\n"
     ]
    }
   ],
   "source": [
    "def get_chunks(l, n):\n",
    "    \"\"\"Yield successive n-sized chunks from l.\"\"\"\n",
    "    for i in range(0, len(l), n):\n",
    "        yield l[i:i + n]\n",
    "\n",
    "\n",
    "# Get the data\n",
    "book_id = {f:n for n,f in enumerate(our_books.fileids())} # dictionary of books\n",
    "\n",
    "chunks = list()\n",
    "chunk_class = list() # this list contains the original book of the chunk, for evaluation\n",
    "\n",
    "limit = 500 # how many chunks total\n",
    "size = 50 # how many sentences per chunk/page\n",
    "\n",
    "for f in our_books.fileids():\n",
    "    sentences = our_books.sents(f)\n",
    "    print(f,\":\")\n",
    "    print('Number of sentences:',len(sentences))\n",
    "    \n",
    "    # create chunks\n",
    "    chunks_of_sents = [x for x in get_chunks(sentences,size)] # this is a list of lists of sentences, which are a list of tokens\n",
    "    chs = list()\n",
    "    \n",
    "    # regroup so to have a list of chunks which are strings\n",
    "    for c in chunks_of_sents:\n",
    "        grouped_chunk = list()\n",
    "        for s in c:\n",
    "            grouped_chunk.extend(s)\n",
    "        chs.append(\" \".join(grouped_chunk))\n",
    "    print(\"Number of chunks:\",len(chs),'\\n')\n",
    "    \n",
    "    # filter to the limit, to have the same number of chunks per book\n",
    "    chunks.extend(chs[:limit])\n",
    "    chunk_class.extend([book_id[f] for _ in range(len(chs[:limit]))])"
   ]
  },
  {
   "cell_type": "markdown",
   "metadata": {},
   "source": [
    "### Representing the chunks with bag-of-words"
   ]
  },
  {
   "cell_type": "code",
   "execution_count": 72,
   "metadata": {},
   "outputs": [
    {
     "name": "stdout",
     "output_type": "stream",
     "text": [
      "Number of samples: 570\n",
      "Number of features: 23116\n"
     ]
    }
   ],
   "source": [
    "vectorizer = CountVectorizer()\n",
    "\n",
    "#initialize and specify minumum number of occurences to avoid untractable number of features\n",
    "#vectorizer = CountVectorizer(min_df = 2) if we want high frequency\n",
    "\n",
    "#create bag of words features\n",
    "X = vectorizer.fit_transform(chunks)\n",
    "\n",
    "print('Number of samples:',X.toarray().shape[0]) #the samples are the chunks\n",
    "print('Number of features:',X.toarray().shape[1]) #the features are the words\n",
    "\n",
    "#mask and convert to int Frankenstein\n",
    "Y = np.array(chunk_class) == 1\n",
    "Y = Y.astype(int)  \n",
    "\n",
    "#shuffle the data\n",
    "X, Y = shuffle(X, Y, random_state=0)\n",
    "\n",
    "#split into training and test set\n",
    "X_train, X_test, Y_train, Y_test = train_test_split(X, Y, test_size=0.2, random_state=42)"
   ]
  },
  {
   "cell_type": "markdown",
   "metadata": {},
   "source": [
    "### Let's fit the regularized logistic regression. We will crossvalidate the regularization parameter on the training set."
   ]
  },
  {
   "cell_type": "code",
   "execution_count": 78,
   "metadata": {},
   "outputs": [],
   "source": [
    "accs = []\n",
    "\n",
    "#the grid of regularization parameter \n",
    "grid = [0.01,0.1,1,10,100,1000,10000]\n",
    "\n",
    "for c in grid:\n",
    "    \n",
    "    #initialize the classifier\n",
    "    clf = LogisticRegression(random_state=0, solver='lbfgs',C = c)\n",
    "    \n",
    "    #crossvalidate\n",
    "    scores = cross_val_score(clf, X_train,Y_train, cv=10)\n",
    "    accs.append(np.mean(scores))"
   ]
  },
  {
   "cell_type": "code",
   "execution_count": 79,
   "metadata": {},
   "outputs": [
    {
     "data": {
      "text/plain": [
       "(0.986, 1.0)"
      ]
     },
     "execution_count": 79,
     "metadata": {},
     "output_type": "execute_result"
    },
    {
     "data": {
      "image/png": "[encoded data removed]",
      "text/plain": [
       "<Figure size 640x480 with 1 Axes>"
      ]
     },
     "metadata": {},
     "output_type": "display_data"
    }
   ],
   "source": [
    "plt.plot(accs)\n",
    "plt.xticks(range(len(grid)), grid)\n",
    "plt.xlabel('Regularization parameter \\n (Low - strong regularization, High - weak regularization)')\n",
    "plt.ylabel('Crossvalidation accuracy')\n",
    "plt.ylim([0.986,1])"
   ]
  },
  {
   "cell_type": "markdown",
   "metadata": {},
   "source": [
    "### Let's train again, on the entire training set, with the chosen regularization parameter. We will test on the test set"
   ]
  },
  {
   "cell_type": "code",
   "execution_count": 80,
   "metadata": {},
   "outputs": [
    {
     "name": "stdout",
     "output_type": "stream",
     "text": [
      "Accuracy: 0.9824561403508771\n"
     ]
    }
   ],
   "source": [
    "clf = LogisticRegression(random_state=0, solver='lbfgs',C = 10).fit(X_train,Y_train)\n",
    "\n",
    "#predict on the test set\n",
    "print('Accuracy:',clf.score(X_test,Y_test))"
   ]
  },
  {
   "cell_type": "markdown",
   "metadata": {},
   "source": [
    "### What features characterize Frankenstein? BOW are interpretable!"
   ]
  },
  {
   "cell_type": "code",
   "execution_count": 82,
   "metadata": {},
   "outputs": [
    {
     "name": "stdout",
     "output_type": "stream",
     "text": [
      "['frankenstein' 'towards' 'death' 'creature' 'poor' 'justine' 'but'\n",
      " 'misery' 'my' 'father' 'yet' 'had' 'who' 'me' 'and' 'this' 'will' 'of'\n",
      " 'which' 'by']\n"
     ]
    }
   ],
   "source": [
    "coefs=clf.coef_[0]\n",
    "top_three = np.argpartition(coefs, -20)[-20:]\n",
    "\n",
    "#Perform an indirect partition along the given axis \n",
    "#using the algorithm specified by the kind keyword. \n",
    "#It returns an array of indices of the same shape\n",
    "#as a that index data along the given axis in partitioned order.\n",
    "\n",
    "print(np.array(vectorizer.get_feature_names())[top_three])\n"
   ]
  },
  {
   "cell_type": "markdown",
   "metadata": {},
   "source": [
    "### We can perfectly predict paragraphs from Frankenstein! We saw issues of high dimensionality when using bag of words (more features than samples) and how regularization helps."
   ]
  },
  {
   "cell_type": "markdown",
   "metadata": {},
   "source": [
    "### Alternative text representation: word emdeddings, pretrained on intergraded in Spacy (300-dimensional word vectors trained on Common Crawl with GloVe.) Depending on the application, might be suitable or not"
   ]
  },
  {
   "cell_type": "code",
   "execution_count": 84,
   "metadata": {},
   "outputs": [
    {
     "name": "stdout",
     "output_type": "stream",
     "text": [
      "I am already far north of London, and as I walk in the streets of Petersburgh, I feel a cold northern breeze play upon my cheeks, which braces my nerves and fills me with delight. \n",
      "\n",
      "Embedding representation: [0.04903779, 0.13703473, 0.30768877, -0.20483714, -0.16568787, -0.069008745, -0.13494381, -0.13023746, 0.1546086, -0.10217005] ...\n"
     ]
    }
   ],
   "source": [
    "print(example,'\\n')\n",
    "print('Embedding representation:',list((nlp(example).vector)[0:10]),'...')"
   ]
  },
  {
   "cell_type": "markdown",
   "metadata": {},
   "source": [
    "# Task 3: Topic detection"
   ]
  },
  {
   "cell_type": "code",
   "execution_count": 85,
   "metadata": {},
   "outputs": [
    {
     "name": "stdout",
     "output_type": "stream",
     "text": [
      "DRACULA.txt\n",
      "Number of sentences: 9303\n",
      "Number of chunks: 187 \n",
      "\n",
      "Frankenstein.txt\n",
      "Number of sentences: 3378\n",
      "Number of chunks: 68 \n",
      "\n",
      "Moby_Dick.txt\n",
      "Number of sentences: 9609\n",
      "Number of chunks: 193 \n",
      "\n",
      "PRIDE_AND_PREJUDICE.txt\n",
      "Number of sentences: 6055\n",
      "Number of chunks: 122 \n",
      "\n"
     ]
    }
   ],
   "source": [
    "# Get the chunks again (into smaller chunks)\n",
    "book_id = {f:n for n,f in enumerate(our_books.fileids())} # dictionary of books\n",
    "chunks = list()\n",
    "chunk_class = list() # this list contains the original book of the chunk, for evaluation\n",
    "\n",
    "limit = 60 # how many chunks total\n",
    "size = 50 # how many sentences per chunk/page\n",
    "\n",
    "for f in our_books.fileids():\n",
    "    sentences = our_books.sents(f)\n",
    "    print(f)\n",
    "    print('Number of sentences:',len(sentences))\n",
    "    \n",
    "    # create chunks\n",
    "    chunks_of_sents = [x for x in get_chunks(sentences,size)] # this is a list of lists of sentences,\n",
    "    #which are a list of tokens\n",
    "    chs = list()\n",
    "    \n",
    "    # regroup so to have a list of chunks which are strings\n",
    "    for c in chunks_of_sents:\n",
    "        grouped_chunk = list()\n",
    "        for s in c:\n",
    "            grouped_chunk.extend(s)\n",
    "        chs.append(\" \".join(grouped_chunk))\n",
    "    print(\"Number of chunks:\",len(chs),'\\n')\n",
    "    \n",
    "    # filter to the limit, to have the same number of chunks per book\n",
    "    chunks.extend(chs[:limit])\n",
    "    chunk_class.extend([book_id[f] for _ in range(len(chs[:limit]))])"
   ]
  },
  {
   "cell_type": "code",
   "execution_count": 86,
   "metadata": {},
   "outputs": [],
   "source": [
    "STOPWORDS = spacy.lang.en.stop_words.STOP_WORDS\n",
    "\n",
    "processed_docs = list()\n",
    "for doc in nlp.pipe(chunks, n_process=5, batch_size=10):\n",
    "\n",
    "    # Process document using Spacy NLP pipeline.\n",
    "    ents = doc.ents  # Named entities\n",
    "\n",
    "    # Keep only words (no numbers, no punctuation).\n",
    "    # Lemmatize tokens, remove punctuation and remove stopwords.\n",
    "    doc = [token.lemma_ for token in doc if token.is_alpha and not token.is_stop]\n",
    "\n",
    "    # Remove common words from a stopword list and keep only words of length 3 or more.\n",
    "    doc = [token for token in doc if token not in STOPWORDS and len(token) > 2]\n",
    "\n",
    "    # Add named entities, but only if they are a compound of more than word.\n",
    "    doc.extend([str(entity) for entity in ents if len(entity) > 1])\n",
    "\n",
    "    processed_docs.append(doc)\n",
    "docs = processed_docs\n",
    "del processed_docs"
   ]
  },
  {
   "cell_type": "code",
   "execution_count": 102,
   "metadata": {},
   "outputs": [],
   "source": [
    "# Add bigrams too\n",
    "from gensim.models.phrases import Phrases\n",
    "\n",
    "# Add bigrams to docs (only ones that appear 15 times or more).\n",
    "bigram = Phrases(docs, min_count=15)\n",
    "\n",
    "for idx in range(len(docs)):\n",
    "    for token in bigram[docs[idx]]:\n",
    "        if '_' in token:\n",
    "            # Token is a bigram, add to document.\n",
    "            docs[idx].append(token)"
   ]
  },
  {
   "cell_type": "code",
   "execution_count": 103,
   "metadata": {},
   "outputs": [
    {
     "name": "stdout",
     "output_type": "stream",
     "text": [
      "Number of unique tokens: 3097\n",
      "Number of chunks: 240\n"
     ]
    }
   ],
   "source": [
    "# Create a dictionary representation of the documents, and filter out frequent and rare words.\n",
    "from gensim.corpora import Dictionary\n",
    "dictionary = Dictionary(docs)\n",
    "\n",
    "# Remove rare and common tokens.\n",
    "# Filter out words that occur too frequently or too rarely.\n",
    "max_freq = 0.5\n",
    "min_wordcount = 5\n",
    "dictionary.filter_extremes(no_below=min_wordcount, no_above=max_freq)\n",
    "\n",
    "# Bag-of-words representation of the documents.\n",
    "corpus = [dictionary.doc2bow(doc) for doc in docs]\n",
    "#MmCorpus.serialize(\"models/corpus.mm\", corpus)\n",
    "\n",
    "print('Number of unique tokens: %d' % len(dictionary))\n",
    "print('Number of chunks: %d' % len(corpus))"
   ]
  },
  {
   "cell_type": "code",
   "execution_count": 104,
   "metadata": {},
   "outputs": [],
   "source": [
    "# models\n",
    "from gensim.models import LdaMulticore\n",
    "params = {'passes': 10, 'random_state': seed}\n",
    "base_models = dict()\n",
    "model = LdaMulticore(corpus=corpus, num_topics=4, id2word=dictionary, workers=6,\n",
    "                passes=params['passes'], random_state=params['random_state'])"
   ]
  },
  {
   "cell_type": "code",
   "execution_count": 105,
   "metadata": {},
   "outputs": [
    {
     "data": {
      "text/plain": [
       "[(0,\n",
       "  '0.005*\"life\" + 0.005*\"old_man\" + 0.005*\"father\" + 0.004*\"dear\" + 0.004*\"pass\"'),\n",
       " (1,\n",
       "  '0.015*\"Mrs_Bennet\" + 0.014*\"Lady_Catherine\" + 0.014*\"Elizabeth\" + 0.013*\"Miss_Bingley\" + 0.010*\"Darcy\"'),\n",
       " (2,\n",
       "  '0.020*\"whale\" + 0.010*\"sea\" + 0.010*\"ship\" + 0.007*\"mast_head\" + 0.007*\"whale_ship\"'),\n",
       " (3,\n",
       "  '0.015*\"Captain_Ahab\" + 0.014*\"Captain_Peleg\" + 0.012*\"Queequeg\" + 0.009*\"old\" + 0.009*\"young_man\"')]"
      ]
     },
     "execution_count": 105,
     "metadata": {},
     "output_type": "execute_result"
    }
   ],
   "source": [
    "model.show_topics(num_words=5)"
   ]
  },
  {
   "cell_type": "code",
   "execution_count": 106,
   "metadata": {},
   "outputs": [
    {
     "data": {
      "text/plain": [
       "[('Mrs_Bennet', 0.015228227),\n",
       " ('Lady_Catherine', 0.014437118),\n",
       " ('Elizabeth', 0.014302322),\n",
       " ('Miss_Bingley', 0.013092339),\n",
       " ('Darcy', 0.010468635),\n",
       " ('Sir_William', 0.010427229),\n",
       " ('young_lady', 0.009462365),\n",
       " ('Bingley', 0.009328613),\n",
       " ('Miss_Bennet', 0.009202064),\n",
       " ('young_man', 0.00870526),\n",
       " ('Miss', 0.008519105),\n",
       " ('Mrs', 0.007830222),\n",
       " ('Bennet', 0.0074641914),\n",
       " ('sister', 0.0069840397),\n",
       " ('Collins', 0.006629536),\n",
       " ('Jane', 0.006486371),\n",
       " ('Miss_Lucas', 0.006048575),\n",
       " ('young', 0.005552598),\n",
       " ('Colonel_Fitzwilliam', 0.005181186),\n",
       " ('great_deal', 0.005108998)]"
      ]
     },
     "execution_count": 106,
     "metadata": {},
     "output_type": "execute_result"
    }
   ],
   "source": [
    "model.show_topic(1,20)"
   ]
  },
  {
   "cell_type": "code",
   "execution_count": 107,
   "metadata": {},
   "outputs": [
    {
     "data": {
      "text/plain": [
       "[(0, 0.7664041), (3, 0.23174937)]"
      ]
     },
     "execution_count": 107,
     "metadata": {},
     "output_type": "execute_result"
    }
   ],
   "source": [
    "sorted(model[corpus[0]],key=lambda x:x[1],reverse=True)"
   ]
  },
  {
   "cell_type": "code",
   "execution_count": 108,
   "metadata": {},
   "outputs": [
    {
     "data": {
      "text/html": [
       "\n",
       "<link rel=\"stylesheet\" type=\"text/css\" href=\"https://cdn.jsdelivr.net/gh/bmabey/pyLDAvis@3.3.1/pyLDAvis/js/ldavis.v1.0.0.css\">\n",
       "\n",
       "\n",
       "<div id=\"ldavis_el304803010801490288250107552\"></div>\n",
       "<script type=\"text/javascript\">\n",
       "\n",
       "var ldavis_el304803010801490288250107552_data = {\"mdsDat\": {\"x\": [-0.01651069470990793, -0.2010672899480269, 0.12356559706159224, 0.0940123875963424], \"y\": [0.10979225759249313, -0.03995427859861347, 0.011669902637578479, -0.08150788163145833], \"topics\": [1, 2, 3, 4], \"cluster\": [1, 1, 1, 1], \"Freq\": [39.169864441043345, 28.6364452782414, 18.624154807648694, 13.569535473066562]}, \"tinfo\": {\"Term\": [\"whale\", \"Mrs_Bennet\", \"Lady_Catherine\", \"Miss_Bingley\", \"Captain_Ahab\", \"Captain_Peleg\", \"Elizabeth\", \"Darcy\", \"Sir_William\", \"Queequeg\", \"Miss_Bennet\", \"Bingley\", \"ship\", \"young_lady\", \"young_man\", \"sea\", \"Bennet\", \"Miss\", \"old\", \"old_man\", \"Collins\", \"mast_head\", \"Jane\", \"Captain\", \"Miss_Lucas\", \"Mrs\", \"Van_Helsing\", \"whale_ship\", \"Bildad\", \"Peleg\", \"Felix\", \"Clerval\", \"Geneva\", \"Agatha\", \"labour\", \"Safie\", \"lake\", \"wretch\", \"tale\", \"mountain\", \"creator\", \"Count\", \"Victor\", \"horrible\", \"inhabit\", \"Dracula\", \"victim\", \"sensation\", \"thirst\", \"Frankenstein\", \"protector\", \"ardour\", \"Ingolstadt\", \"draw_near_draw_near\", \"Arabian\", \"abhor\", \"forever\", \"fiend\", \"desolate\", \"cottage\", \"horror\", \"despair\", \"weep\", \"crime\", \"gentle\", \"Justine\", \"attendant\", \"existence\", \"Jonathan\", \"miserable\", \"misery\", \"murder\", \"scene\", \"human\", \"destroy\", \"fear\", \"tear\", \"father\", \"life\", \"month\", \"death\", \"mind\", \"appear\", \"cause\", \"pass\", \"heart\", \"old_man\", \"feeling\", \"love\", \"dear\", \"work\", \"remain\", \"creature\", \"letter\", \"enter\", \"fall\", \"window\", \"return\", \"door\", \"happy\", \"word\", \"write\", \"room\", \"sleep\", \"hour\", \"wish\", \"hope\", \"old\", \"ask\", \"house\", \"Elizabeth\", \"Lady_Catherine\", \"Mrs_Bennet\", \"Collins\", \"Lady Catherine_Lady Catherine\", \"Mrs_Collins\", \"Colonel_Fitzwilliam\", \"Miss_Lucas\", \"Lady_Catherine_Lady_Catherine\", \"Catherine\", \"Miss_Bennet\", \"Bennet\", \"Lady Catherine\", \"Charlotte\", \"Wickham\", \"Mrs_Bennet_Mrs_Bennet\", \"Darcy\", \"Jane\", \"Lucas\", \"Sir_William\", \"Lady\", \"Bingley\", \"Longbourn\", \"Netherfield\", \"Lizzy\", \"Rosings\", \"Bourgh\", \"Lydia\", \"Colonel\", \"Fitzwilliam\", \"Hertfordshire\", \"Miss_Bingley\", \"young_lady\", \"Miss\", \"Mrs_Hurst\", \"Mrs\", \"Elizabeth\", \"sister\", \"great_deal\", \"dance\", \"lady\", \"young_man\", \"young\", \"wish\", \"hope\", \"dear\", \"room\", \"sperm_whale\", \"Whale\", \"Van_Helsing\", \"Jonah\", \"mast_head\", \"Van_Helsing_Van_Helsing\", \"oil\", \"Van\", \"Helsing\", \"whale_ship_whale_ship\", \"Van Helsing\", \"sperm\", \"Leviathan\", \"Sperm\", \"Folio\", \"fishery\", \"fin\", \"whale_ship\", \"New_Bedford\", \"Pacific\", \"royal\", \"New Bedford\", \"Bedford\", \"aloft\", \"southern\", \"leviathan\", \"whaler\", \"billow\", \"corn\", \"Indian\", \"whale\", \"Greenland\", \"american\", \"pulpit\", \"mast\", \"Flask\", \"harpooneer\", \"sea\", \"Nantucket\", \"ship\", \"fish\", \"whaleman\", \"New\", \"deck\", \"mate\", \"good_bye\", \"God\", \"head\", \"sail\", \"stand\", \"voyage\", \"old\", \"water\", \"world\", \"round\", \"chapter\", \"land\", \"foot\", \"sort\", \"Ahab\", \"Captain_Peleg\", \"Peleg\", \"Bildad\", \"Captain_Ahab_Captain_Ahab\", \"tomahawk\", \"Captain_Ahab\", \"dost\", \"pious\", \"didn\", \"fluke\", \"funny\", \"abbey\", \"don\", \"tombstone\", \"afore\", \"worship\", \"baby\", \"pit\", \"ain\", \"bedfellow\", \"Queequeg\", \"pot\", \"chap\", \"insult\", \"Swales\", \"queer\", \"pagan\", \"wasn\", \"smoking\", \"folk\", \"Captain\", \"leg\", \"thou\", \"supper\", \"bed\", \"Ahab\", \"open_door\", \"thee\", \"Pequod\", \"smoke\", \"boot\", \"aye\", \"kick\", \"sharp\", \"landlord\", \"board\", \"old_man\", \"old\", \"harpoon\", \"sort\", \"white\", \"lie\", \"young_man\", \"ship\", \"sit\", \"lay\", \"seat\", \"head\", \"sleep\", \"round\", \"room\", \"morning\", \"run\", \"half\", \"open\", \"sea\", \"cry\"], \"Freq\": [314.0, 338.0, 319.0, 298.0, 167.0, 147.0, 393.0, 234.0, 234.0, 159.0, 205.0, 210.0, 204.0, 218.0, 320.0, 213.0, 166.0, 197.0, 280.0, 248.0, 147.0, 106.0, 145.0, 123.0, 134.0, 196.0, 90.0, 104.0, 74.0, 69.0, 46.75089938473341, 51.30161432875775, 35.0010249123158, 25.424812030100206, 35.764661871419406, 23.466843262201333, 32.78110811541904, 20.59510009832201, 30.874205572605117, 62.64943213456883, 17.7443262420035, 86.76500545964299, 26.09474108107652, 18.61385820428918, 15.806832354848362, 15.781646393049785, 16.698268126444844, 44.47089394998347, 13.854605600516518, 14.775633343100566, 13.833541615480101, 12.897173491917517, 13.81291770537661, 13.806701427788244, 13.801668618644992, 12.873552338396367, 30.358893605731218, 30.31927634204861, 11.9326098901326, 54.049877025003916, 55.614779979905954, 42.40218409478061, 28.11369441627368, 23.58115228770651, 34.960664255121, 48.34519794252545, 25.248624261138207, 30.349225983499586, 33.698869485094576, 55.42253911896847, 50.5004219709959, 39.74546750430199, 60.71888827543803, 56.84401972461557, 40.007464625324275, 108.49449600498026, 49.49463509501619, 137.20290873757844, 139.22311567268412, 52.00807661231303, 74.46215842449813, 109.91941305233465, 88.8745598791382, 64.81598239438067, 110.63349862596304, 100.99143229960164, 137.94825190445047, 102.48427868241889, 108.69092722085674, 124.78084522777598, 75.78651396646308, 76.15035599865527, 63.305301580417215, 86.72309489710675, 76.16535010553321, 68.54438138386284, 68.59359263174049, 85.26553866667946, 87.18131283961526, 72.28125225412545, 84.27862767407764, 74.4019084842791, 96.69970233024594, 78.86617587992609, 71.32128576976731, 81.73980558017125, 76.85056956882036, 83.69054028761896, 69.88659239641301, 70.21287902994698, 73.29705039650752, 317.92176973583946, 335.34289557211997, 145.9899295114052, 95.00340844380248, 101.69779373259911, 114.09561058533332, 133.19650845167638, 79.46670154805373, 79.37383264267396, 202.63992077550057, 164.3699948592619, 61.1236186666302, 73.53037222239963, 77.29676955805594, 88.70128443005613, 230.53125302291141, 142.8372780736996, 58.97648731828336, 229.6194529535072, 89.10465121214844, 205.42667498118925, 41.646807590427805, 49.14983119680983, 36.791445046710365, 29.239933545546876, 31.121073644087225, 36.72819851757039, 30.12217789226231, 29.172690366942792, 24.380012924377738, 288.3082122735516, 208.37204412956157, 187.60037758974218, 89.74970377030169, 172.43039853180022, 314.9534102395556, 153.7965062072013, 112.50595415627308, 63.274467232246415, 99.42446670335389, 191.69973504881057, 122.27452427161579, 98.52611014247425, 86.58355755210917, 89.31614805678576, 87.09543631529007, 73.49280415382864, 59.74450241692587, 88.6506274025278, 57.845662175423875, 104.31377522726551, 42.07154715188048, 28.578288572639, 25.738047806309066, 24.82497262766344, 19.45591484637262, 22.07187035641104, 16.71930693322144, 15.772982943370469, 13.049670719967406, 11.226145488202318, 13.808263638727523, 11.193351009614236, 96.20329944254534, 66.93552235905082, 10.995208635666508, 8.443840883770617, 14.3431740213471, 14.334762615644012, 8.42260145914195, 7.539398024852986, 7.536672862787238, 8.334734364601138, 7.49118874915333, 6.619266935615592, 6.608501753499951, 281.27001734551214, 20.083665806825838, 13.804403061937533, 15.308088134803507, 41.66225098473688, 30.24788508003759, 54.29237429316714, 147.17228982872038, 38.937038900719614, 136.29890485731758, 41.75334092312785, 27.214575459592336, 24.616469802766456, 45.03666019601783, 40.258791687239096, 47.781802893270914, 59.539054041037424, 80.62275512309083, 46.78560235206061, 64.1184133752233, 42.884904240596285, 92.37335384097521, 46.351220355341454, 56.040262730993, 47.653759457158785, 46.406077059096255, 38.23347191419376, 39.273118324544015, 43.92836871220722, 39.01246645156355, 145.81214528871433, 68.55043885163006, 72.94904652200474, 51.64262811075421, 16.069195732438097, 152.4186744075744, 7.806634419094822, 6.904076088302555, 14.663335500206687, 4.975472089389731, 6.512094945958458, 7.33334778382074, 60.417088287661, 7.087767670774839, 4.711693433234424, 9.398577518232855, 5.4739476900629915, 6.140351953818131, 12.170012401950915, 5.267433523739966, 125.07369246278631, 8.066806408506132, 8.030197951450857, 8.838779472099722, 5.100570825652313, 18.60817371659473, 7.765512465816132, 4.91109084067577, 4.902255782666644, 6.999731717388432, 84.60195960895022, 25.91373656100756, 52.58309227821866, 24.37547922478102, 68.6906190185517, 64.89844642573561, 60.21672331199413, 25.201076705152534, 27.623544411746504, 15.95803410885786, 12.655125478480029, 16.854630324331993, 16.291346481559618, 17.266313901139174, 17.100539641381808, 24.723745476775, 89.66146800529503, 97.48365640249364, 20.67278452318399, 55.72651675338625, 39.96975870138691, 45.47941895200005, 89.95733858534489, 65.19201865163268, 52.58843728787632, 29.74407495232917, 30.536348727035026, 50.249188952102244, 45.55384578193311, 37.61610070548576, 48.36552008494888, 37.34114126094657, 33.73341523321692, 32.58304038874699, 33.260989265975205, 35.15000071323638, 32.39910645867772], \"Total\": [314.0, 338.0, 319.0, 298.0, 167.0, 147.0, 393.0, 234.0, 234.0, 159.0, 205.0, 210.0, 204.0, 218.0, 320.0, 213.0, 166.0, 197.0, 280.0, 248.0, 147.0, 106.0, 145.0, 123.0, 134.0, 196.0, 90.0, 104.0, 74.0, 69.0, 47.950073158808266, 52.8318254777742, 36.193138819052415, 26.40966485621875, 37.16469962927287, 24.450483100885155, 34.21676641431281, 21.510403737137327, 32.254267500731565, 65.4879341192729, 18.5770122149121, 90.87192327172555, 27.381586649590307, 19.550864178232807, 16.618146456744366, 16.615627611509993, 17.594341885136522, 46.94643775427657, 14.658845955116158, 15.635755606167978, 14.659590849327298, 13.680715559175852, 14.657790921536124, 14.655924205219643, 14.65935898215337, 13.67904665754072, 32.26928698045516, 32.25834860939788, 12.702086965442751, 57.596924902323885, 60.443648063727146, 45.87805462349687, 30.254550259315362, 25.37206406870305, 38.133006236491056, 53.76386489219532, 27.36183830882217, 33.18570785912837, 37.1185727211245, 63.386509274377616, 57.578572075441606, 44.91431256703814, 72.16237231326444, 69.13121827492344, 46.650104338075685, 150.61616382228283, 61.1972734005204, 214.23314886904788, 218.34104475349466, 65.36574516653565, 104.32463028693962, 172.51010643816326, 134.21545654465658, 88.219111031848, 182.4389277659781, 162.40248173930834, 248.33978200845982, 168.47652283037044, 184.5693831959698, 230.3763008869689, 113.86259957889192, 115.44622845140819, 90.12727255153946, 148.7052297939743, 123.70414202374928, 103.56842611199794, 104.509549699165, 157.393358103864, 166.65661572449332, 119.75615133619137, 171.00509472285273, 129.86897182417678, 257.7725221130424, 162.00081298854556, 123.88696058375993, 190.51427466913756, 173.9882870493704, 280.4336436097585, 140.50503182530622, 164.15968893259102, 393.1966609200052, 319.86486282361943, 338.2662500066279, 147.32346841857833, 95.94946475741942, 102.73712590909342, 115.33467310198223, 134.70933259718075, 80.43983142803934, 80.43840647823922, 205.45439046830225, 166.69319944591606, 62.02232381797807, 74.62135413965477, 78.49683321384241, 90.12755381344576, 234.52714753148922, 145.36659259829915, 60.07833818719395, 234.3719420973104, 91.09093384276842, 210.27810697194016, 42.63288630279053, 50.3842326651582, 37.78649658577122, 30.03372068112867, 31.972089228311425, 37.78477507485153, 31.001622206225676, 30.032930221129426, 25.18664595303126, 298.4191486422765, 218.8793836264051, 197.5489335781382, 93.95706387215169, 196.4330765277057, 393.1966609200052, 181.27587765780217, 129.56500026193177, 68.78408841055567, 127.80791665164087, 320.68596089657484, 223.44755126855608, 190.51427466913756, 173.9882870493704, 230.3763008869689, 257.7725221130424, 74.39388253184627, 60.62461381841974, 90.02019222367193, 58.79234111401231, 106.57925677911832, 43.19505970065234, 29.41364719030999, 26.663840427046644, 25.745789905639842, 20.232241218639658, 22.99189371952958, 17.477726187558996, 16.561304443459886, 13.806149862176857, 11.969708543744936, 14.730617077090447, 11.970835732681575, 104.05449866656457, 72.76236324976186, 11.9790104664247, 9.217073692013468, 15.664697596096307, 15.665125829094746, 9.21854904139943, 8.297983247685218, 8.298518942189615, 9.22169064859679, 8.301758424562841, 7.3806274251576305, 7.381420497359368, 314.38674854726594, 23.07649436301297, 15.706345826329748, 17.557427715204906, 51.83068365404899, 37.002690218873674, 71.39373929056438, 213.60984817301497, 50.03345697815818, 204.84306118554966, 55.81381501676162, 34.2603110014513, 30.541979995133662, 67.14323676596818, 64.51433504931552, 84.24391163704887, 116.08138092541074, 181.3158403509758, 83.52909687344204, 140.75648243444232, 75.97536897332611, 280.4336436097585, 94.59433000092555, 156.14145989642242, 122.22459031715633, 124.4641879432533, 75.59808043702957, 94.85432424458772, 147.29871224014732, 104.61586037094777, 147.44232931260885, 69.88290148775651, 74.65545248092423, 54.491551044675916, 17.216400020511735, 167.91037947575904, 8.611749476610184, 7.656614887460005, 16.26728254269167, 5.740509198214772, 7.639818055899543, 8.623953201835555, 72.66225483201697, 8.613472273429885, 5.729079323907412, 11.509901345128917, 6.705696934355436, 7.625187496763586, 15.218495215474471, 6.66993615515144, 159.44194923277234, 10.500713692896701, 10.455874074988298, 11.51846731067113, 6.716461727612408, 24.698593810925658, 10.445127883995395, 6.655244304716051, 6.654163774704584, 9.580273384975161, 123.08698947900929, 36.9022916703582, 78.62510660999597, 35.45429271695528, 110.23886800628408, 104.61586037094777, 107.4448714306236, 39.95719144410466, 45.23457401922563, 23.729658190788328, 18.00998938060955, 25.50968287426504, 24.570792455033278, 26.69381140622135, 26.440346538805446, 42.693565600959104, 248.33978200845982, 280.4336436097585, 34.84833192770176, 147.29871224014732, 93.26860573934034, 113.36684551133581, 320.68596089657484, 204.84306118554966, 151.88724890835238, 63.86979155073883, 70.01713144150116, 181.3158403509758, 162.00081298854556, 122.22459031715633, 257.7725221130424, 146.06442195237878, 115.57131915953973, 107.62544015165173, 142.8975076963482, 213.60984817301497, 126.0030167413049], \"Category\": [\"Default\", \"Default\", \"Default\", \"Default\", \"Default\", \"Default\", \"Default\", \"Default\", \"Default\", \"Default\", \"Default\", \"Default\", \"Default\", \"Default\", \"Default\", \"Default\", \"Default\", \"Default\", \"Default\", \"Default\", \"Default\", \"Default\", \"Default\", \"Default\", \"Default\", \"Default\", \"Default\", \"Default\", \"Default\", \"Default\", \"Topic1\", \"Topic1\", \"Topic1\", \"Topic1\", \"Topic1\", \"Topic1\", \"Topic1\", \"Topic1\", \"Topic1\", \"Topic1\", \"Topic1\", \"Topic1\", \"Topic1\", \"Topic1\", \"Topic1\", \"Topic1\", \"Topic1\", \"Topic1\", \"Topic1\", \"Topic1\", \"Topic1\", \"Topic1\", \"Topic1\", \"Topic1\", \"Topic1\", \"Topic1\", \"Topic1\", \"Topic1\", \"Topic1\", \"Topic1\", \"Topic1\", \"Topic1\", \"Topic1\", \"Topic1\", \"Topic1\", \"Topic1\", \"Topic1\", \"Topic1\", \"Topic1\", \"Topic1\", \"Topic1\", \"Topic1\", \"Topic1\", \"Topic1\", \"Topic1\", \"Topic1\", \"Topic1\", \"Topic1\", \"Topic1\", \"Topic1\", \"Topic1\", \"Topic1\", \"Topic1\", \"Topic1\", \"Topic1\", \"Topic1\", \"Topic1\", \"Topic1\", \"Topic1\", \"Topic1\", \"Topic1\", \"Topic1\", \"Topic1\", \"Topic1\", \"Topic1\", \"Topic1\", \"Topic1\", \"Topic1\", \"Topic1\", \"Topic1\", \"Topic1\", \"Topic1\", \"Topic1\", \"Topic1\", \"Topic1\", \"Topic1\", \"Topic1\", \"Topic1\", \"Topic1\", \"Topic1\", \"Topic1\", \"Topic2\", \"Topic2\", \"Topic2\", \"Topic2\", \"Topic2\", \"Topic2\", \"Topic2\", \"Topic2\", \"Topic2\", \"Topic2\", \"Topic2\", \"Topic2\", \"Topic2\", \"Topic2\", \"Topic2\", \"Topic2\", \"Topic2\", \"Topic2\", \"Topic2\", \"Topic2\", \"Topic2\", \"Topic2\", \"Topic2\", \"Topic2\", \"Topic2\", \"Topic2\", \"Topic2\", \"Topic2\", \"Topic2\", \"Topic2\", \"Topic2\", \"Topic2\", \"Topic2\", \"Topic2\", \"Topic2\", \"Topic2\", \"Topic2\", \"Topic2\", \"Topic2\", \"Topic2\", \"Topic2\", \"Topic2\", \"Topic2\", \"Topic2\", \"Topic2\", \"Topic2\", \"Topic3\", \"Topic3\", \"Topic3\", \"Topic3\", \"Topic3\", \"Topic3\", \"Topic3\", \"Topic3\", \"Topic3\", \"Topic3\", \"Topic3\", \"Topic3\", \"Topic3\", \"Topic3\", \"Topic3\", \"Topic3\", \"Topic3\", \"Topic3\", \"Topic3\", \"Topic3\", \"Topic3\", \"Topic3\", \"Topic3\", \"Topic3\", \"Topic3\", \"Topic3\", \"Topic3\", \"Topic3\", \"Topic3\", \"Topic3\", \"Topic3\", \"Topic3\", \"Topic3\", \"Topic3\", \"Topic3\", \"Topic3\", \"Topic3\", \"Topic3\", \"Topic3\", \"Topic3\", \"Topic3\", \"Topic3\", \"Topic3\", \"Topic3\", \"Topic3\", \"Topic3\", \"Topic3\", \"Topic3\", \"Topic3\", \"Topic3\", \"Topic3\", \"Topic3\", \"Topic3\", \"Topic3\", \"Topic3\", \"Topic3\", \"Topic3\", \"Topic3\", \"Topic3\", \"Topic3\", \"Topic4\", \"Topic4\", \"Topic4\", \"Topic4\", \"Topic4\", \"Topic4\", \"Topic4\", \"Topic4\", \"Topic4\", \"Topic4\", \"Topic4\", \"Topic4\", \"Topic4\", \"Topic4\", \"Topic4\", \"Topic4\", \"Topic4\", \"Topic4\", \"Topic4\", \"Topic4\", \"Topic4\", \"Topic4\", \"Topic4\", \"Topic4\", \"Topic4\", \"Topic4\", \"Topic4\", \"Topic4\", \"Topic4\", \"Topic4\", \"Topic4\", \"Topic4\", \"Topic4\", \"Topic4\", \"Topic4\", \"Topic4\", \"Topic4\", \"Topic4\", \"Topic4\", \"Topic4\", \"Topic4\", \"Topic4\", \"Topic4\", \"Topic4\", \"Topic4\", \"Topic4\", \"Topic4\", \"Topic4\", \"Topic4\", \"Topic4\", \"Topic4\", \"Topic4\", \"Topic4\", \"Topic4\", \"Topic4\", \"Topic4\", \"Topic4\", \"Topic4\", \"Topic4\", \"Topic4\", \"Topic4\", \"Topic4\", \"Topic4\", \"Topic4\", \"Topic4\", \"Topic4\", \"Topic4\"], \"logprob\": [30.0, 29.0, 28.0, 27.0, 26.0, 25.0, 24.0, 23.0, 22.0, 21.0, 20.0, 19.0, 18.0, 17.0, 16.0, 15.0, 14.0, 13.0, 12.0, 11.0, 10.0, 9.0, 8.0, 7.0, 6.0, 5.0, 4.0, 3.0, 2.0, 1.0, -6.4682, -6.3753, -6.7576, -7.0773, -6.736, -7.1574, -6.8231, -7.2879, -6.8831, -6.1754, -7.4369, -5.8498, -7.0513, -7.3891, -7.5525, -7.5541, -7.4977, -6.5182, -7.6844, -7.62, -7.6859, -7.756, -7.6874, -7.6878, -7.6882, -7.7578, -6.8999, -6.9012, -7.8337, -6.3231, -6.2945, -6.5658, -6.9767, -7.1525, -6.7588, -6.4346, -7.0842, -6.9002, -6.7955, -6.298, -6.391, -6.6305, -6.2067, -6.2727, -6.6239, -5.6263, -6.4111, -5.3915, -5.3769, -6.3616, -6.0027, -5.6132, -5.8258, -6.1414, -5.6068, -5.6979, -5.3861, -5.6833, -5.6245, -5.4864, -5.9851, -5.9803, -6.165, -5.8503, -5.9801, -6.0855, -6.0848, -5.8672, -5.845, -6.0324, -5.8789, -6.0035, -5.7414, -5.9452, -6.0458, -5.9094, -5.9711, -5.8859, -6.0661, -6.0615, -6.0185, -4.238, -4.1846, -5.0162, -5.4458, -5.3778, -5.2627, -5.1079, -5.6244, -5.6256, -4.6883, -4.8976, -5.8869, -5.7021, -5.6521, -5.5145, -4.5594, -5.0381, -5.9226, -4.5633, -5.5099, -4.6747, -6.2705, -6.1049, -6.3945, -6.6242, -6.5619, -6.3962, -6.5945, -6.6265, -6.806, -4.3357, -4.6604, -4.7654, -5.5027, -4.8498, -4.2473, -4.9641, -5.2768, -5.8523, -5.4004, -4.7438, -5.1935, -5.4094, -5.5386, -5.5076, -5.5328, -5.2723, -5.4795, -5.0848, -5.5118, -4.9221, -5.8302, -6.2169, -6.3216, -6.3577, -6.6014, -6.4752, -6.753, -6.8112, -7.0008, -7.1513, -6.9443, -7.1542, -5.0031, -5.3658, -7.1721, -7.4361, -6.9063, -6.9068, -7.4386, -7.5494, -7.5498, -7.4491, -7.5558, -7.6796, -7.6812, -3.9302, -6.5696, -6.9445, -6.8412, -5.8399, -6.1601, -5.5752, -4.5779, -5.9076, -4.6547, -5.8378, -6.2658, -6.3661, -5.7621, -5.8742, -5.7029, -5.4829, -5.1798, -5.724, -5.4088, -5.811, -5.0437, -5.7333, -5.5435, -5.7056, -5.7321, -5.9258, -5.899, -5.787, -5.9057, -4.2706, -5.0253, -4.9631, -5.3086, -6.476, -4.2263, -7.1979, -7.3208, -6.5676, -7.6484, -7.3792, -7.2605, -5.1516, -7.2945, -7.7029, -7.0123, -7.5529, -7.438, -6.7539, -7.5914, -4.424, -7.1651, -7.1697, -7.0738, -7.6236, -6.3293, -7.2032, -7.6614, -7.6632, -7.307, -4.8149, -5.9981, -5.2905, -6.0593, -5.0233, -5.0801, -5.155, -6.026, -5.9342, -6.4829, -6.7148, -6.4283, -6.4623, -6.4041, -6.4138, -6.0451, -4.7569, -4.6732, -6.2241, -5.2324, -5.5648, -5.4356, -4.7536, -5.0756, -5.2904, -5.8603, -5.834, -5.3359, -5.434, -5.6255, -5.3741, -5.6328, -5.7344, -5.7691, -5.7485, -5.6933, -5.7748], \"loglift\": [30.0, 29.0, 28.0, 27.0, 26.0, 25.0, 24.0, 23.0, 22.0, 21.0, 20.0, 19.0, 18.0, 17.0, 16.0, 15.0, 14.0, 13.0, 12.0, 11.0, 10.0, 9.0, 8.0, 7.0, 6.0, 5.0, 4.0, 3.0, 2.0, 1.0, 0.9119, 0.9079, 0.9038, 0.8993, 0.8989, 0.8962, 0.8944, 0.8938, 0.8935, 0.893, 0.8914, 0.891, 0.8891, 0.8881, 0.8872, 0.8858, 0.885, 0.8831, 0.8808, 0.8807, 0.8793, 0.8783, 0.8779, 0.8776, 0.877, 0.8766, 0.8762, 0.8753, 0.8748, 0.8737, 0.854, 0.8585, 0.8639, 0.8641, 0.8504, 0.831, 0.8569, 0.8479, 0.8406, 0.803, 0.8061, 0.815, 0.7646, 0.7416, 0.7837, 0.6092, 0.725, 0.4917, 0.4873, 0.7087, 0.6, 0.4866, 0.525, 0.629, 0.4371, 0.4622, 0.3493, 0.4402, 0.4077, 0.3241, 0.5302, 0.5212, 0.584, 0.398, 0.4523, 0.5245, 0.5162, 0.3243, 0.2893, 0.4324, 0.2297, 0.3802, -0.0432, 0.2174, 0.3851, 0.0911, 0.1201, -0.2719, 0.2389, 0.088, -0.7425, 1.2444, 1.2418, 1.2414, 1.2406, 1.2403, 1.2397, 1.2392, 1.2383, 1.2372, 1.2367, 1.2365, 1.2359, 1.2358, 1.2351, 1.2345, 1.2333, 1.2329, 1.232, 1.23, 1.2284, 1.2271, 1.2271, 1.2257, 1.2238, 1.2237, 1.2235, 1.2221, 1.2217, 1.2214, 1.2179, 1.216, 1.2013, 1.1988, 1.2047, 1.1202, 1.0286, 1.0861, 1.1093, 1.167, 0.9994, 0.736, 0.6476, 0.5911, 0.5526, 0.303, 0.1654, 1.6685, 1.6661, 1.6654, 1.6645, 1.6592, 1.6544, 1.6519, 1.6454, 1.6443, 1.6416, 1.6399, 1.6363, 1.6319, 1.6244, 1.6166, 1.616, 1.6136, 1.6023, 1.5972, 1.595, 1.5931, 1.5926, 1.592, 1.5904, 1.5848, 1.5844, 1.5796, 1.578, 1.5718, 1.5701, 1.5694, 1.5418, 1.5516, 1.5436, 1.4623, 1.4791, 1.4069, 1.3082, 1.43, 1.2733, 1.3905, 1.4505, 1.465, 1.2814, 1.2092, 1.1136, 1.0131, 0.8703, 1.1011, 0.8944, 1.1088, 0.5702, 0.9674, 0.656, 0.7388, 0.6941, 0.999, 0.7989, 0.4708, 0.6943, 1.9862, 1.9781, 1.9742, 1.9436, 1.9284, 1.9005, 1.8992, 1.8939, 1.8935, 1.8543, 1.8376, 1.8352, 1.8128, 1.8024, 1.8018, 1.7947, 1.7944, 1.7808, 1.7738, 1.7613, 1.7546, 1.7337, 1.7334, 1.7325, 1.7221, 1.7142, 1.7009, 1.6934, 1.6918, 1.6835, 1.6224, 1.6438, 1.595, 1.6227, 1.5243, 1.5199, 1.4183, 1.5364, 1.5041, 1.6006, 1.6445, 1.5829, 1.5864, 1.5617, 1.5616, 1.4511, 0.9786, 0.9407, 1.4752, 1.0253, 1.15, 1.084, 0.7262, 0.8524, 0.9367, 1.2331, 1.1675, 0.7141, 0.7286, 0.8189, 0.3241, 0.6334, 0.7659, 0.8025, 0.5396, 0.1928, 0.6392]}, \"token.table\": {\"Topic\": [1, 3, 4, 1, 3, 4, 2, 4, 3, 4, 2, 3, 4, 2, 1, 2, 3, 4, 3, 4, 3, 4, 3, 4, 2, 2, 1, 2, 3, 2, 4, 2, 2, 4, 1, 3, 4, 1, 2, 3, 4, 1, 1, 2, 3, 4, 1, 2, 3, 4, 3, 1, 1, 1, 2, 3, 4, 3, 4, 3, 2, 3, 1, 1, 2, 4, 3, 1, 4, 1, 2, 3, 2, 4, 2, 2, 1, 2, 4, 2, 3, 2, 2, 2, 2, 4, 1, 2, 3, 4, 2, 3, 4, 1, 2, 3, 4, 2, 3, 4, 1, 2, 3, 4, 1, 2, 3, 4, 2, 4, 2, 2, 3, 4, 3, 4, 2, 4, 3, 4, 3, 4, 3, 4, 3, 3, 4, 3, 4, 3, 4, 2, 1, 2, 3, 3, 1, 4, 3, 3, 3, 4, 3, 1, 2, 3, 2, 4, 1, 4, 1, 3, 4, 3, 4, 3, 1, 3, 1, 2, 3, 4, 1, 1, 2, 3, 4, 1, 4, 3, 4, 1, 4, 1, 2, 3, 4, 3, 4, 3, 1, 3, 4, 1, 3, 4, 1, 2, 3, 4, 3, 4, 1, 2, 3, 4, 3, 1, 2, 3, 4, 1, 1, 2, 3, 4, 1, 3, 1, 2, 3, 4, 1, 2, 3, 4, 1, 2, 3, 4, 1, 2, 3, 4, 1, 3, 4, 1, 1, 2, 3, 1, 2, 3, 1, 3, 4, 1, 3, 4, 1, 2, 3, 4, 4, 1, 1, 2, 3, 4, 1, 2, 3, 1, 2, 3, 4, 1, 2, 3, 4, 1, 2, 3, 4, 1, 2, 3, 4, 1, 4, 3, 1, 2, 3, 4, 3, 4, 1, 3, 4, 1, 2, 3, 4, 1, 2, 3, 4, 1, 2, 1, 2, 3, 4, 1, 2, 3, 4, 1, 2, 3, 4, 1, 2, 3, 4, 3, 4, 3, 4, 1, 2, 3, 4, 1, 2, 3, 4, 1, 2, 3, 4, 1, 1, 3, 4, 1, 2, 3, 4, 1, 2, 3, 4, 1, 2, 3, 4, 1, 1, 2, 4, 3, 4, 1, 4, 1, 2, 3, 4, 1, 3, 1, 3, 4, 3, 4, 1, 2, 3, 4, 3, 4, 1, 2, 3, 4, 3, 1, 2, 3, 4, 1, 2, 3, 4, 1, 2, 3, 4, 3, 4, 3, 4, 1, 3, 4, 1, 2, 3, 4, 1, 2, 3, 4, 1, 2, 3, 1, 2, 3, 4, 1, 2, 3, 4, 1, 2, 3, 1, 2, 4, 3, 1, 2, 3, 4, 1, 2, 3, 4, 1, 2, 3, 4, 1, 2, 3, 4, 3, 4, 1, 2, 3, 4, 4, 3, 4, 1, 3, 4, 1, 1, 3, 4, 1, 3, 4, 1, 2, 3, 4, 1, 2, 3, 4, 1, 2, 3, 4, 1, 2, 3, 4, 3, 1, 2, 3, 4, 1, 3, 4, 1, 2, 3, 4, 1, 3, 4, 1, 2, 3, 4, 1, 2, 4, 1, 3, 4, 1, 3, 4, 1, 2, 3, 4, 1, 2, 3, 4, 1, 2, 3, 4, 1, 3, 4, 3, 4, 1, 2, 3, 4, 3, 3, 3, 1, 2, 3, 4, 1, 2, 3, 4, 1, 3, 1, 2, 3, 4, 1, 3, 4, 1, 1, 3, 4, 3, 4, 1, 4, 1, 1, 3, 4, 3, 4, 1, 3, 4, 1, 2, 3, 3, 4, 3, 4, 3, 3, 4, 3, 1, 2, 3, 4, 1, 2, 3, 4, 1, 2, 3, 4, 1, 2, 3, 4, 1, 2, 3, 4, 1, 2, 3, 4, 1, 4, 1, 1, 2, 3, 4, 1, 2, 3, 4, 2, 3, 4, 1, 2, 3, 4], \"Freq\": [0.9466231448262088, 0.3727924223125775, 0.6213207038542958, 0.955021295067807, 0.8937049183478554, 0.06383606559627539, 0.9838433754054263, 0.005999044971984307, 0.013394868918054144, 0.9778254310179525, 0.974899398477824, 0.004755606821843044, 0.019022427287372176, 0.9695956926252215, 0.008124335514522723, 0.024373006543568172, 0.2762274074937726, 0.6905685187344315, 0.08933336966322279, 0.9052448125873243, 0.036702937641842175, 0.9542763786878966, 0.006782312817913972, 0.9902176714154399, 0.9821179142997027, 0.9916732395596588, 0.9653272348398252, 0.01892798499685932, 0.01892798499685932, 0.9910165811816345, 0.006787784802613935, 0.9676912969404378, 0.988427824295283, 0.008670419511362132, 0.957391423749801, 0.03301349737068279, 0.011004499123560932, 0.004263898702241851, 0.9849606002178676, 0.004263898702241851, 0.012791696106725552, 0.9629488800601468, 0.1856577312462266, 0.8011258266104297, 0.005086513184828125, 0.007629769777242188, 0.9801862000155522, 0.9656067452118703, 0.8107518621632038, 0.16215037243264077, 0.9189864531620796, 0.9593396301284484, 0.9670341159130322, 0.3273565467352364, 0.025843937900150243, 0.5168787580030049, 0.12921968950075122, 0.8666827675548511, 0.08666827675548511, 0.9710325490741121, 0.9528859080623856, 0.9483269517708932, 0.95512346130073, 0.006879159661968306, 0.9837198316614677, 0.013758319323936612, 0.9865230555715451, 0.9159834957945543, 0.08082207315834303, 0.892792958546549, 0.07439941321221241, 0.018599853303053103, 0.9770456426939527, 0.010978040929145536, 0.9835168411138808, 0.9901045330495604, 0.0031263202565372807, 0.9941698415788552, 0.0031263202565372807, 0.9821005165913681, 0.9661074738782701, 0.9791857764853654, 0.9851549740663675, 0.9820511315770082, 0.9792303891369767, 0.02646568619289126, 0.015186110831691151, 0.9516629454526454, 0.015186110831691151, 0.020248147775588202, 0.9880538426912765, 0.004867260308824022, 0.009734520617648044, 0.0033509913976690828, 0.9650855225286958, 0.0033509913976690828, 0.030158922579021745, 0.987310956381232, 0.007423390649482948, 0.007423390649482948, 0.02036316933332673, 0.8756162813330495, 0.01527237699999505, 0.08145267733330692, 0.002956251177823405, 0.9903441445708405, 0.002956251177823405, 0.002956251177823405, 0.987489355188984, 0.01109538601335937, 0.9928251262377569, 0.9578843387705674, 0.010643159319672971, 0.03192947795901892, 0.7794784201504451, 0.1998662615770372, 0.9725264712403683, 0.019847479004905473, 0.8185454906323466, 0.16370909812646933, 0.8937293499677162, 0.06383781071197973, 0.9208057161367594, 0.06871684448781787, 0.9182728432228426, 0.014309651985116847, 0.9873659869730624, 0.37581872646296277, 0.6189955494684093, 0.20697188010303783, 0.7839843943296887, 0.9655813313274171, 0.9406767099488254, 0.9813461370068982, 0.017066889339250404, 0.941609364650939, 0.14888791756064745, 0.7444395878032373, 0.9751033453390581, 0.956858981185745, 0.9886670734812799, 0.011108618803160449, 0.9723334170867163, 0.9495432216083439, 0.036520893138782456, 0.9896970260249318, 0.9809312917151102, 0.012739367424871561, 0.11595610233450203, 0.8116927163415142, 0.9503586269905449, 0.17454811558063202, 0.8727405779031601, 0.1971285568989462, 0.7885142275957848, 0.867815527592567, 0.06366853315579131, 0.8913594641810783, 0.6631128954241395, 0.2607747341555605, 0.05960565352127097, 0.014901413380317743, 0.9502426933568335, 0.4982027980822276, 0.3131560445088288, 0.07117182829746109, 0.11387492527593775, 0.9136813001317733, 0.07309450401054186, 0.31360640739562656, 0.6664136157157065, 0.14912693039804398, 0.7456346519902198, 0.25399389985031307, 0.018142421417879504, 0.10885452850727703, 0.6259135389168429, 0.14992647256865613, 0.7496323628432806, 0.8431948560787722, 0.14053639970200124, 0.2810727994040025, 0.5855683320916719, 0.05552474123480882, 0.2776237061740441, 0.7218216360525146, 0.7368018022368683, 0.12468953576316233, 0.12468953576316233, 0.011335412342105666, 0.19128003891938974, 0.765120155677559, 0.22496430871156275, 0.2731709462926119, 0.3695842214547102, 0.12855103354946443, 0.9484288525579515, 0.9375500530900954, 0.017362038020186953, 0.034724076040373905, 0.017362038020186953, 0.9689394500990358, 0.6990115002534146, 0.12204962702837399, 0.12204962702837399, 0.05547710319471545, 0.9459222527190636, 0.03941342719662765, 0.23015321974028216, 0.3888795781818561, 0.12698108675325911, 0.25396217350651823, 0.05815298410476799, 0.9159094996500958, 0.014538246026191998, 0.014538246026191998, 0.5425905334825635, 0.38632445983958513, 0.043407242678605074, 0.026044345607163046, 0.7093243445624177, 0.057512784694250085, 0.1821238181984586, 0.04792732057854174, 0.1042547296967366, 0.6702089766218782, 0.22340299220729273, 0.9447266447354009, 0.9154703778239391, 0.021796913757712838, 0.043593827515425676, 0.8574471711813967, 0.02143617927953492, 0.10718089639767459, 0.061473082389490154, 0.061473082389490154, 0.9220962358423523, 0.08257382067031914, 0.08257382067031914, 0.8257382067031914, 0.5220314814493963, 0.12000723711480374, 0.16200977010498505, 0.192011579383686, 0.928963391437278, 0.9552451148057904, 0.6143690805875294, 0.2020950922985294, 0.16167607383882351, 0.02425141107582353, 0.9040036188876387, 0.03013345396292129, 0.03013345396292129, 0.6662262099588541, 0.09655452318244262, 0.11586542781893114, 0.1255208801371754, 0.6394902036553765, 0.31274338426941767, 0.03267468193859587, 0.018671246822054784, 0.7170545130032185, 0.09959090458378035, 0.059754542750268216, 0.11950908550053643, 0.605425600471931, 0.3323905257492954, 0.01780663530799797, 0.03561327061599594, 0.9299918096631906, 0.03099972698877302, 0.9188999202427366, 0.10750026670275309, 0.07166684446850206, 0.7525018669192717, 0.07166684446850206, 0.9504014615771442, 0.8710028722809012, 0.20876230976212223, 0.10438115488106112, 0.7306680841674279, 0.36898686779687917, 0.010542481937053691, 0.41115679554509393, 0.20030715680402014, 0.9296765688740001, 0.03098921896246667, 0.13089316953402969, 0.9162521867382079, 0.9178400408018985, 0.052448002331537055, 0.059351470068741384, 0.03561088204124483, 0.5697741126599173, 0.34423852639870006, 0.030872534958619243, 0.8721491125809936, 0.03859066869827405, 0.061745069917238486, 0.25087005416149866, 0.315910438573739, 0.13008076882448077, 0.3066189550862761, 0.6012217259543892, 0.3507126734733937, 0.02505090524809955, 0.016700603498733032, 0.40174089333874463, 0.6026113400081169, 0.7563688432150353, 0.224109286878529, 0.18751808961746358, 0.09375904480873179, 0.44673427232395735, 0.27576189649627, 0.6219116784319046, 0.1416234515240971, 0.1416234515240971, 0.09236312055919377, 0.4425585268170995, 0.5000336601699696, 0.022990053341148026, 0.03448508001172204, 0.9718240496578091, 0.9264827950317939, 0.06617734250227099, 0.016544335625567747, 0.5731030906355712, 0.2260124864478309, 0.11300624322391545, 0.08879061967593356, 0.42641406337425586, 0.3350396212226296, 0.12183258953550168, 0.1157409600587266, 0.8245189571709906, 0.07232622431324479, 0.05786097945059583, 0.04339573458794687, 0.9628029239991747, 0.1736342124396296, 0.0868171062198148, 0.7813539559783331, 0.32558982436731365, 0.6511796487346273, 0.9686611316412876, 0.026907253656702435, 0.14083634622620153, 0.7745999042441084, 0.03129696582804478, 0.04694544874206717, 0.9644394680789055, 0.0292254384266335, 0.3836076237961616, 0.5026582656639359, 0.10582279277135492, 0.34038888207425944, 0.6429567772513789, 0.21919595571058428, 0.0939411238759647, 0.23485280968991173, 0.46970561937982347, 0.2709858804794096, 0.7045632892464649, 0.5850500357017392, 0.336235652702149, 0.053797704432343836, 0.026898852216171918, 0.9640274434186146, 0.4322251340679703, 0.017641842206855933, 0.1499556587582754, 0.3969414496542585, 0.6366187363302668, 0.15571969090092858, 0.16487967271863024, 0.04121991817965756, 0.5905638200257045, 0.3142449684540446, 0.059598183672318804, 0.03250810018490116, 0.8103308125421375, 0.19293590774812797, 0.975799636279471, 0.01876537762075906, 0.12400344813109684, 0.6200172406554842, 0.2480068962621937, 0.6376438011150948, 0.13912228387965703, 0.09274818925310468, 0.133325522051338, 0.8676925205318469, 0.06310491058413431, 0.04732868293810074, 0.015776227646033578, 0.8857461753858342, 0.08683786033194453, 0.03473514413277781, 0.7955237084426552, 0.1682838614013309, 0.03059706570933289, 0.015298532854666445, 0.424470238346021, 0.26015917834110963, 0.05477035333497045, 0.2533128841742383, 0.9620092746437591, 0.015269988486408875, 0.03053997697281775, 0.8905847092794053, 0.022264617731985133, 0.08905847092794053, 0.9859368956310096, 0.2995361003007592, 0.02496134169172994, 0.3280633479484506, 0.3458928777282577, 0.5556902679221123, 0.004026741071899364, 0.07650808036608793, 0.3624066964709428, 0.4198813608946751, 0.13296243094998045, 0.21693870312891547, 0.23093474849207132, 0.16752777271107325, 0.1861419696789703, 0.09307098483948514, 0.5584259090369108, 0.19147683228125056, 0.7659073291250023, 0.6084227821289558, 0.2411765983213879, 0.07125672223131915, 0.07673800855680524, 0.9142421426294526, 0.13114431617903655, 0.7868658970742193, 0.0952316222731088, 0.0952316222731088, 0.7618529781848704, 0.9550061897288514, 0.05695595141958011, 0.8543392712937017, 0.05695595141958011, 0.04048813497866589, 0.20244067489332945, 0.7692745645946519, 0.658315139606217, 0.15591674359094612, 0.08662041310608118, 0.0952824544166893, 0.5400482016776619, 0.3939175118119416, 0.057181574295281846, 0.012707016510062633, 0.37630077560191644, 0.33750688120996625, 0.10086412541907037, 0.1862106930813607, 0.2536314494453136, 0.04908995795715747, 0.39271966365725974, 0.31090306706199733, 0.8679544362254525, 0.34610663173950834, 0.1038319895218525, 0.25957997380463127, 0.2941906369785821, 0.17957814176689882, 0.5626781775362829, 0.2633812745914516, 0.8453158903256754, 0.11086110037058038, 0.041572912638967646, 0.013857637546322547, 0.1451243950835605, 0.688170518622045, 0.1638501234814393, 0.27136215964337773, 0.1571044082145871, 0.14282218928598828, 0.44274878678656365, 0.9372383103975089, 0.021300870690852475, 0.021300870690852475, 0.14984746610848335, 0.18730933263560418, 0.6368517309610542, 0.014645358171456726, 0.6639229037727049, 0.3173160937148958, 0.10481262176463794, 0.849533881671276, 0.011032907554172414, 0.033098722662517246, 0.309440063848674, 0.21726642780864344, 0.13167662291432936, 0.3489430507229728, 0.4876518737321755, 0.006172808528255387, 0.2283939155454493, 0.28394919229974774, 0.0842827142270589, 0.25284814268117667, 0.6742617138164712, 0.1502818436482495, 0.7514092182412475, 0.13577851222075285, 0.19008991710905399, 0.29871272688565625, 0.38017983421810797, 0.9640896783241466, 0.9726665710154533, 0.9812634791409148, 0.19892511887003902, 0.13498490209038363, 0.45468598598866067, 0.21313405593218468, 0.05641065853341763, 0.1974373048669617, 0.05641065853341763, 0.6769279024010116, 0.9611131302019766, 0.031003649361354083, 0.8006892673029338, 0.03268119458379322, 0.09804358375137964, 0.04902179187568982, 0.1501607040723391, 0.22524105610850867, 0.6256696003014129, 0.9550547186911251, 0.05087433483354364, 0.27980884158449, 0.6740849365444532, 0.05808415225067919, 0.9293464360108671, 0.11609719846486485, 0.812680389254054, 0.9662197148937628, 0.15794592592519072, 0.5659729012319334, 0.27640537036908375, 0.15025744423707754, 0.7512872211853877, 0.40171540936574307, 0.4862870744953732, 0.10571458141203766, 0.9254806222537985, 0.033052879366207086, 0.033052879366207086, 0.8938035756865036, 0.10178546057639899, 0.9225934604483113, 0.06727243982435603, 0.9390951696688742, 0.7880839143245446, 0.1751297587387877, 0.8675198838097343, 0.2680430333639596, 0.02144344266911677, 0.278764754698518, 0.4288688533823354, 0.6602267467290722, 0.09568503575783656, 0.12439054648518752, 0.12439054648518752, 0.43041394216999124, 0.5196461009125504, 0.020995802057072743, 0.031493703085609115, 0.49121343510927823, 0.2339111595758468, 0.1169555797879234, 0.1578900327136966, 0.6674711475153167, 0.0966076660877432, 0.1932153321754864, 0.052695090593314474, 0.33943579133407575, 0.17932456900668153, 0.35864913801336307, 0.12168452896881962, 0.17376343550037604, 0.7819354597516922, 0.976271773260298, 0.5698050809256037, 0.28490254046280183, 0.09240082393388169, 0.046200411966940844, 0.19243889564186525, 0.5459894248443619, 0.11635840201601155, 0.14321034094278345, 0.9502950737243733, 0.009137452631965127, 0.03654981052786051, 0.09978609575091563, 0.5987165745054938, 0.02182820844551279, 0.2806483942994502], \"Term\": [\"Agatha\", \"Ahab\", \"Ahab\", \"Arabian\", \"Bedford\", \"Bedford\", \"Bennet\", \"Bennet\", \"Bildad\", \"Bildad\", \"Bingley\", \"Bingley\", \"Bingley\", \"Bourgh\", \"Captain\", \"Captain\", \"Captain\", \"Captain\", \"Captain_Ahab\", \"Captain_Ahab\", \"Captain_Ahab_Captain_Ahab\", \"Captain_Ahab_Captain_Ahab\", \"Captain_Peleg\", \"Captain_Peleg\", \"Catherine\", \"Charlotte\", \"Clerval\", \"Clerval\", \"Clerval\", \"Collins\", \"Collins\", \"Colonel\", \"Colonel_Fitzwilliam\", \"Colonel_Fitzwilliam\", \"Count\", \"Count\", \"Count\", \"Darcy\", \"Darcy\", \"Darcy\", \"Darcy\", \"Dracula\", \"Elizabeth\", \"Elizabeth\", \"Elizabeth\", \"Elizabeth\", \"Felix\", \"Fitzwilliam\", \"Flask\", \"Flask\", \"Folio\", \"Frankenstein\", \"Geneva\", \"God\", \"God\", \"God\", \"God\", \"Greenland\", \"Greenland\", \"Helsing\", \"Hertfordshire\", \"Indian\", \"Ingolstadt\", \"Jane\", \"Jane\", \"Jane\", \"Jonah\", \"Jonathan\", \"Jonathan\", \"Justine\", \"Justine\", \"Justine\", \"Lady\", \"Lady\", \"Lady Catherine\", \"Lady Catherine_Lady Catherine\", \"Lady_Catherine\", \"Lady_Catherine\", \"Lady_Catherine\", \"Lady_Catherine_Lady_Catherine\", \"Leviathan\", \"Lizzy\", \"Longbourn\", \"Lucas\", \"Lydia\", \"Lydia\", \"Miss\", \"Miss\", \"Miss\", \"Miss\", \"Miss_Bennet\", \"Miss_Bennet\", \"Miss_Bennet\", \"Miss_Bingley\", \"Miss_Bingley\", \"Miss_Bingley\", \"Miss_Bingley\", \"Miss_Lucas\", \"Miss_Lucas\", \"Miss_Lucas\", \"Mrs\", \"Mrs\", \"Mrs\", \"Mrs\", \"Mrs_Bennet\", \"Mrs_Bennet\", \"Mrs_Bennet\", \"Mrs_Bennet\", \"Mrs_Bennet_Mrs_Bennet\", \"Mrs_Bennet_Mrs_Bennet\", \"Mrs_Collins\", \"Mrs_Hurst\", \"Mrs_Hurst\", \"Mrs_Hurst\", \"Nantucket\", \"Nantucket\", \"Netherfield\", \"Netherfield\", \"New\", \"New\", \"New Bedford\", \"New Bedford\", \"New_Bedford\", \"New_Bedford\", \"Pacific\", \"Peleg\", \"Peleg\", \"Pequod\", \"Pequod\", \"Queequeg\", \"Queequeg\", \"Rosings\", \"Safie\", \"Sir_William\", \"Sir_William\", \"Sperm\", \"Swales\", \"Swales\", \"Van\", \"Van Helsing\", \"Van_Helsing\", \"Van_Helsing\", \"Van_Helsing_Van_Helsing\", \"Victor\", \"Victor\", \"Whale\", \"Wickham\", \"Wickham\", \"abbey\", \"abbey\", \"abhor\", \"afore\", \"afore\", \"ain\", \"ain\", \"aloft\", \"american\", \"american\", \"appear\", \"appear\", \"appear\", \"appear\", \"ardour\", \"ask\", \"ask\", \"ask\", \"ask\", \"attendant\", \"attendant\", \"aye\", \"aye\", \"baby\", \"baby\", \"bed\", \"bed\", \"bed\", \"bed\", \"bedfellow\", \"bedfellow\", \"billow\", \"board\", \"board\", \"board\", \"boot\", \"boot\", \"boot\", \"cause\", \"cause\", \"cause\", \"cause\", \"chap\", \"chap\", \"chapter\", \"chapter\", \"chapter\", \"chapter\", \"corn\", \"cottage\", \"cottage\", \"cottage\", \"cottage\", \"creator\", \"creature\", \"creature\", \"creature\", \"creature\", \"crime\", \"crime\", \"cry\", \"cry\", \"cry\", \"cry\", \"dance\", \"dance\", \"dance\", \"dance\", \"dear\", \"dear\", \"dear\", \"dear\", \"death\", \"death\", \"death\", \"death\", \"deck\", \"deck\", \"deck\", \"desolate\", \"despair\", \"despair\", \"despair\", \"destroy\", \"destroy\", \"destroy\", \"didn\", \"didn\", \"didn\", \"don\", \"don\", \"don\", \"door\", \"door\", \"door\", \"door\", \"dost\", \"draw_near_draw_near\", \"enter\", \"enter\", \"enter\", \"enter\", \"existence\", \"existence\", \"existence\", \"fall\", \"fall\", \"fall\", \"fall\", \"father\", \"father\", \"father\", \"father\", \"fear\", \"fear\", \"fear\", \"fear\", \"feeling\", \"feeling\", \"feeling\", \"feeling\", \"fiend\", \"fiend\", \"fin\", \"fish\", \"fish\", \"fish\", \"fish\", \"fishery\", \"fluke\", \"folk\", \"folk\", \"folk\", \"foot\", \"foot\", \"foot\", \"foot\", \"forever\", \"forever\", \"funny\", \"funny\", \"gentle\", \"gentle\", \"good_bye\", \"good_bye\", \"good_bye\", \"good_bye\", \"great_deal\", \"great_deal\", \"great_deal\", \"great_deal\", \"half\", \"half\", \"half\", \"half\", \"happy\", \"happy\", \"happy\", \"happy\", \"harpoon\", \"harpoon\", \"harpooneer\", \"harpooneer\", \"head\", \"head\", \"head\", \"head\", \"heart\", \"heart\", \"heart\", \"heart\", \"hope\", \"hope\", \"hope\", \"hope\", \"horrible\", \"horror\", \"horror\", \"horror\", \"hour\", \"hour\", \"hour\", \"hour\", \"house\", \"house\", \"house\", \"house\", \"human\", \"human\", \"human\", \"human\", \"inhabit\", \"insult\", \"insult\", \"insult\", \"kick\", \"kick\", \"labour\", \"labour\", \"lady\", \"lady\", \"lady\", \"lady\", \"lake\", \"lake\", \"land\", \"land\", \"land\", \"landlord\", \"landlord\", \"lay\", \"lay\", \"lay\", \"lay\", \"leg\", \"leg\", \"letter\", \"letter\", \"letter\", \"letter\", \"leviathan\", \"lie\", \"lie\", \"lie\", \"lie\", \"life\", \"life\", \"life\", \"life\", \"love\", \"love\", \"love\", \"love\", \"mast\", \"mast\", \"mast_head\", \"mast_head\", \"mate\", \"mate\", \"mate\", \"mind\", \"mind\", \"mind\", \"mind\", \"miserable\", \"miserable\", \"miserable\", \"miserable\", \"misery\", \"misery\", \"misery\", \"month\", \"month\", \"month\", \"month\", \"morning\", \"morning\", \"morning\", \"morning\", \"mountain\", \"mountain\", \"mountain\", \"murder\", \"murder\", \"murder\", \"oil\", \"old\", \"old\", \"old\", \"old\", \"old_man\", \"old_man\", \"old_man\", \"old_man\", \"open\", \"open\", \"open\", \"open\", \"open_door\", \"open_door\", \"open_door\", \"open_door\", \"pagan\", \"pagan\", \"pass\", \"pass\", \"pass\", \"pass\", \"pious\", \"pit\", \"pit\", \"pot\", \"pot\", \"pot\", \"protector\", \"pulpit\", \"pulpit\", \"pulpit\", \"queer\", \"queer\", \"queer\", \"remain\", \"remain\", \"remain\", \"remain\", \"return\", \"return\", \"return\", \"return\", \"room\", \"room\", \"room\", \"room\", \"round\", \"round\", \"round\", \"round\", \"royal\", \"run\", \"run\", \"run\", \"run\", \"sail\", \"sail\", \"sail\", \"scene\", \"scene\", \"scene\", \"scene\", \"sea\", \"sea\", \"sea\", \"seat\", \"seat\", \"seat\", \"seat\", \"sensation\", \"sensation\", \"sensation\", \"sharp\", \"sharp\", \"sharp\", \"ship\", \"ship\", \"ship\", \"sister\", \"sister\", \"sister\", \"sister\", \"sit\", \"sit\", \"sit\", \"sit\", \"sleep\", \"sleep\", \"sleep\", \"sleep\", \"smoke\", \"smoke\", \"smoke\", \"smoking\", \"smoking\", \"sort\", \"sort\", \"sort\", \"sort\", \"southern\", \"sperm\", \"sperm_whale\", \"stand\", \"stand\", \"stand\", \"stand\", \"supper\", \"supper\", \"supper\", \"supper\", \"tale\", \"tale\", \"tear\", \"tear\", \"tear\", \"tear\", \"thee\", \"thee\", \"thee\", \"thirst\", \"thou\", \"thou\", \"thou\", \"tomahawk\", \"tomahawk\", \"tombstone\", \"tombstone\", \"victim\", \"voyage\", \"voyage\", \"voyage\", \"wasn\", \"wasn\", \"water\", \"water\", \"water\", \"weep\", \"weep\", \"weep\", \"whale\", \"whale\", \"whale_ship\", \"whale_ship\", \"whale_ship_whale_ship\", \"whaleman\", \"whaleman\", \"whaler\", \"white\", \"white\", \"white\", \"white\", \"window\", \"window\", \"window\", \"window\", \"wish\", \"wish\", \"wish\", \"wish\", \"word\", \"word\", \"word\", \"word\", \"work\", \"work\", \"work\", \"work\", \"world\", \"world\", \"world\", \"world\", \"worship\", \"worship\", \"wretch\", \"write\", \"write\", \"write\", \"write\", \"young\", \"young\", \"young\", \"young\", \"young_lady\", \"young_lady\", \"young_lady\", \"young_man\", \"young_man\", \"young_man\", \"young_man\"]}, \"R\": 30, \"lambda.step\": 0.01, \"plot.opts\": {\"xlab\": \"PC1\", \"ylab\": \"PC2\"}, \"topic.order\": [1, 2, 3, 4]};\n",
       "\n",
       "function LDAvis_load_lib(url, callback){\n",
       "  var s = document.createElement('script');\n",
       "  s.src = url;\n",
       "  s.async = true;\n",
       "  s.onreadystatechange = s.onload = callback;\n",
       "  s.onerror = function(){console.warn(\"failed to load library \" + url);};\n",
       "  document.getElementsByTagName(\"head\")[0].appendChild(s);\n",
       "}\n",
       "\n",
       "if(typeof(LDAvis) !== \"undefined\"){\n",
       "   // already loaded: just create the visualization\n",
       "   !function(LDAvis){\n",
       "       new LDAvis(\"#\" + \"ldavis_el304803010801490288250107552\", ldavis_el304803010801490288250107552_data);\n",
       "   }(LDAvis);\n",
       "}else if(typeof define === \"function\" && define.amd){\n",
       "   // require.js is available: use it to load d3/LDAvis\n",
       "   require.config({paths: {d3: \"https://d3js.org/d3.v5\"}});\n",
       "   require([\"d3\"], function(d3){\n",
       "      window.d3 = d3;\n",
       "      LDAvis_load_lib(\"https://cdn.jsdelivr.net/gh/bmabey/pyLDAvis@3.3.1/pyLDAvis/js/ldavis.v3.0.0.js\", function(){\n",
       "        new LDAvis(\"#\" + \"ldavis_el304803010801490288250107552\", ldavis_el304803010801490288250107552_data);\n",
       "      });\n",
       "    });\n",
       "}else{\n",
       "    // require.js not available: dynamically load d3 & LDAvis\n",
       "    LDAvis_load_lib(\"https://d3js.org/d3.v5.js\", function(){\n",
       "         LDAvis_load_lib(\"https://cdn.jsdelivr.net/gh/bmabey/pyLDAvis@3.3.1/pyLDAvis/js/ldavis.v3.0.0.js\", function(){\n",
       "                 new LDAvis(\"#\" + \"ldavis_el304803010801490288250107552\", ldavis_el304803010801490288250107552_data);\n",
       "            })\n",
       "         });\n",
       "}\n",
       "</script>"
      ],
      "text/plain": [
       "<IPython.core.display.HTML object>"
      ]
     },
     "execution_count": 108,
     "metadata": {},
     "output_type": "execute_result"
    }
   ],
   "source": [
    "# plot topics\n",
    "data =  pyLDAvis.gensim_models.prepare(model, corpus, dictionary)\n",
    "pyLDAvis.display(data)"
   ]
  },
  {
   "cell_type": "code",
   "execution_count": 109,
   "metadata": {},
   "outputs": [],
   "source": [
    "# assignment\n",
    "sent_to_cluster = list()\n",
    "for n,doc in enumerate(corpus):\n",
    "    if doc:\n",
    "        cluster = max(model[doc],key=lambda x:x[1])\n",
    "        sent_to_cluster.append(cluster[0])"
   ]
  },
  {
   "cell_type": "code",
   "execution_count": 110,
   "metadata": {},
   "outputs": [
    {
     "name": "stdout",
     "output_type": "stream",
     "text": [
      "DRACULA.txt : 0 - 41\n",
      "Accuracy: 0.6833333333333333\n",
      "------\n",
      "Frankenstein.txt : 0 - 60\n",
      "Accuracy: 1.0\n",
      "------\n",
      "Moby_Dick.txt : 2 - 36\n",
      "Accuracy: 0.6\n",
      "------\n",
      "PRIDE_AND_PREJUDICE.txt : 1 - 60\n",
      "Accuracy: 1.0\n",
      "------\n"
     ]
    }
   ],
   "source": [
    "# accuracy\n",
    "from collections import Counter\n",
    "for book, cluster in book_id.items():\n",
    "    assignments = list()\n",
    "    for real,given in zip(chunk_class,sent_to_cluster):\n",
    "        if real == cluster:\n",
    "            assignments.append(given)\n",
    "    most_common,num_most_common = Counter(assignments).most_common(1)[0] # 4, 6 times\n",
    "    print(book,\":\",most_common,\"-\",num_most_common)\n",
    "    print(\"Accuracy:\",num_most_common/limit)\n",
    "    print(\"------\")"
   ]
  },
  {
   "cell_type": "markdown",
   "metadata": {},
   "source": [
    "# Task 4: Semantic analysis based on lexical categories"
   ]
  },
  {
   "cell_type": "code",
   "execution_count": 111,
   "metadata": {},
   "outputs": [],
   "source": [
    "from empath import Empath\n",
    "lexicon = Empath()"
   ]
  },
  {
   "cell_type": "markdown",
   "metadata": {},
   "source": [
    "### Let's see what pre-build categories we can study! More information: https://hci.stanford.edu/publications/2016/ethan/empath-chi-2016.pdf"
   ]
  },
  {
   "cell_type": "code",
   "execution_count": 112,
   "metadata": {},
   "outputs": [
    {
     "name": "stdout",
     "output_type": "stream",
     "text": [
      "help\n",
      "office\n",
      "dance\n",
      "money\n",
      "wedding\n",
      "domestic_work\n",
      "sleep\n",
      "medical_emergency\n",
      "cold\n",
      "hate\n",
      "cheerfulness\n",
      "aggression\n",
      "occupation\n",
      "envy\n",
      "anticipation\n"
     ]
    }
   ],
   "source": [
    "for cat in list(lexicon.cats.keys())[:15]:\n",
    "    print(cat)"
   ]
  },
  {
   "cell_type": "markdown",
   "metadata": {},
   "source": [
    "### For each category, we can examine representative terms"
   ]
  },
  {
   "cell_type": "code",
   "execution_count": 113,
   "metadata": {},
   "outputs": [
    {
     "data": {
      "text/plain": [
       "['remission',\n",
       " 'diabetic',\n",
       " 'cramp',\n",
       " 'disability',\n",
       " 'fever',\n",
       " 'malaria',\n",
       " 'traumatic',\n",
       " 'abortion',\n",
       " 'schizophrenic',\n",
       " 'neurologist',\n",
       " 'liver',\n",
       " 'autism',\n",
       " 'pediatrician',\n",
       " 'supplement',\n",
       " 'medicine']"
      ]
     },
     "execution_count": 113,
     "metadata": {},
     "output_type": "execute_result"
    }
   ],
   "source": [
    "lexicon.cats[\"health\"][:15]"
   ]
  },
  {
   "cell_type": "markdown",
   "metadata": {},
   "source": [
    "### Studying Pride and Prejudice"
   ]
  },
  {
   "cell_type": "code",
   "execution_count": 114,
   "metadata": {},
   "outputs": [],
   "source": [
    "nlp = spacy.load('en_core_web_sm')\n",
    "doc = nlp(books[3])"
   ]
  },
  {
   "cell_type": "code",
   "execution_count": 115,
   "metadata": {},
   "outputs": [],
   "source": [
    "empath_features = lexicon.analyze(doc.text,categories = [\"disappointment\", \"pain\", \"joy\", \"beauty\", \"affection\"])"
   ]
  },
  {
   "cell_type": "code",
   "execution_count": 116,
   "metadata": {},
   "outputs": [
    {
     "data": {
      "text/plain": [
       "{'disappointment': 149.0,\n",
       " 'pain': 228.0,\n",
       " 'joy': 278.0,\n",
       " 'beauty': 136.0,\n",
       " 'affection': 439.0}"
      ]
     },
     "execution_count": 116,
     "metadata": {},
     "output_type": "execute_result"
    }
   ],
   "source": [
    "empath_features"
   ]
  },
  {
   "cell_type": "code",
   "execution_count": 117,
   "metadata": {},
   "outputs": [],
   "source": [
    "empath_features = lexicon.analyze(doc.text,categories = [\"disappointment\", \"pain\", \"joy\", \"beauty\", \"affection\"], normalize = True)"
   ]
  },
  {
   "cell_type": "code",
   "execution_count": 118,
   "metadata": {},
   "outputs": [
    {
     "data": {
      "text/plain": [
       "{'disappointment': 0.0012256615693403638,\n",
       " 'pain': 0.001875508978587939,\n",
       " 'joy': 0.002286804807225645,\n",
       " 'beauty': 0.0011187246538945602,\n",
       " 'affection': 0.0036111773754390585}"
      ]
     },
     "execution_count": 118,
     "metadata": {},
     "output_type": "execute_result"
    }
   ],
   "source": [
    "empath_features"
   ]
  },
  {
   "cell_type": "markdown",
   "metadata": {},
   "source": [
    "### Usecase: the evolution of topics"
   ]
  },
  {
   "cell_type": "code",
   "execution_count": 119,
   "metadata": {},
   "outputs": [],
   "source": [
    "bins = range(0,len(doc.text),150000)\n"
   ]
  },
  {
   "cell_type": "code",
   "execution_count": 120,
   "metadata": {},
   "outputs": [],
   "source": [
    "love = []\n",
    "pain = []\n",
    "beauty = []\n",
    "affection = []\n",
    "\n",
    "\n",
    "for cnt,i in enumerate(bins[:-1]):\n",
    "    empath_features = lexicon.analyze(doc.text[bins[cnt]:bins[cnt+1]],\n",
    "                                      categories = [\"love\", \"pain\", \"joy\", \"beauty\", \"affection\"], normalize = True)\n",
    "    love.append(empath_features[\"love\"])\n",
    "    pain.append(empath_features[\"pain\"])\n",
    "    beauty.append(empath_features[\"beauty\"])\n",
    "    affection.append(empath_features[\"affection\"])"
   ]
  },
  {
   "cell_type": "code",
   "execution_count": 121,
   "metadata": {},
   "outputs": [
    {
     "data": {
      "text/plain": [
       "<matplotlib.legend.Legend at 0x2bd05627bb0>"
      ]
     },
     "execution_count": 121,
     "metadata": {},
     "output_type": "execute_result"
    },
    {
     "data": {
      "image/png": "[encoded data removed]",
      "text/plain": [
       "<Figure size 640x480 with 1 Axes>"
      ]
     },
     "metadata": {},
     "output_type": "display_data"
    }
   ],
   "source": [
    "plt.plot(love,label = \"love\")\n",
    "plt.plot(beauty, label = \"beauty\")\n",
    "plt.plot(affection, label = \"affection\")\n",
    "plt.plot(pain,label = \"pain\")\n",
    "\n",
    "plt.xlabel(\"progression in the book\")\n",
    "plt.ylabel(\"frequency of a category\")\n",
    "plt.legend()"
   ]
  },
  {
   "cell_type": "code",
   "execution_count": 122,
   "metadata": {},
   "outputs": [],
   "source": [
    "# We can observe how as the story progresses, beauty and affection categories decrease, while love and pain intensify!"
   ]
  },
  {
   "cell_type": "markdown",
   "metadata": {},
   "source": [
    "### We can create custom categories based on seed terms!\n",
    "### Models trained on: fiction, nytimes or reddit"
   ]
  },
  {
   "cell_type": "code",
   "execution_count": 123,
   "metadata": {},
   "outputs": [
    {
     "name": "stdout",
     "output_type": "stream",
     "text": [
      "[\"avocado\", \"kale\", \"Swiss_chard\", \"escarole\", \"black_beans\", \"cucumber\", \"dill\", \"leek\", \"mango\", \"red_peppers\", \"chicory\", \"chanterelles\", \"chutney\", \"tamarind\", \"papaya\", \"black_olives\", \"endive\", \"pesto\", \"walnuts\", \"green_beans\", \"bok_choy\", \"portobello_mushrooms\", \"lemon_grass\", \"radicchio\", \"ricotta\", \"chicken_breast\", \"porcini\", \"blue_cheese\", \"snow_peas\", \"pickled\", \"Gorgonzola\", \"chorizo\", \"yams\", \"hazelnuts\", \"fresh_tomatoes\", \"shiitake_mushrooms\", \"anchovies\", \"wild_rice\", \"scallion\", \"red_onions\", \"broccoli_rape\", \"red_cabbage\", \"wasabi\", \"sweet_potato\", \"feta\", \"roasted_garlic\", \"compote\", \"napoleon\", \"aioli\", \"crab_meat\", \"cauliflower\", \"jicama\", \"parsnips\", \"apricots\", \"new_potatoes\", \"truffle_oil\", \"lemongrass\", \"pistachios\", \"saut\\u00e9ed\", \"gnocchi\", \"duck_confit\", \"fresh_herbs\", \"ratatouille\", \"white_beans\", \"croutons\", \"fresh_mozzarella\", \"squab\", \"watercress\", \"roasted_red_peppers\", \"pine_nuts\", \"fritters\", \"butternut_squash\", \"fava_beans\", \"drizzled\", \"red_onion\", \"pea_shoots\", \"rosemary\", \"romaine\", \"mustard_greens\", \"horseradish\", \"caramelized_onions\", \"artichoke_hearts\", \"fettuccine\", \"grilled_eggplant\", \"julienne\", \"plum_tomatoes\", \"grilled_chicken\", \"pineapple\", \"candied\", \"pancetta\", \"celery_root\", \"sea_scallops\", \"shiitake\", \"porcini_mushrooms\", \"sour_cream\", \"bean_sprouts\", \"oyster_mushrooms\", \"monkfish\", \"chickpeas\", \"coconut_milk\"]\n"
     ]
    }
   ],
   "source": [
    "lexicon.create_category(\"healthy_food\", [\"healthy_food\",\"low_carb\",\"kale\",\"avocado\"], model=\"nytimes\")"
   ]
  },
  {
   "cell_type": "code",
   "execution_count": 124,
   "metadata": {},
   "outputs": [
    {
     "name": "stdout",
     "output_type": "stream",
     "text": [
      "[\"green_vegetables\", \"leafy_greens\", \"whole_grain_bread\", \"brown_rice\", \"white_rice\", \"green_veggies\", \"veggies\", \"whole_wheat_bread\", \"sweet_potatoes\", \"raw_veggies\", \"lean_meat\", \"spinach\", \"fatty_meat\", \"kale\", \"sweet_potato\", \"avocado\", \"hummus\", \"chicken_breast\", \"veggie\", \"whole_grain\", \"vegetables\", \"whole_wheat_pasta\", \"salads\", \"broccoli\", \"greek_yogurt\", \"Greek_yogurt\", \"yogurt\", \"avocados\", \"rice_cakes\", \"raw_vegetables\", \"almonds\", \"lean_protein\", \"grilled_chicken\", \"quinoa\", \"steamed_broccoli\", \"whole_grain_pasta\", \"brocolli\", \"kale\", \"avocado\", \"tofu\", \"Veggies\", \"edamame\", \"more_veggies\", \"lean_meats\", \"quinoa\", \"salad\", \"cottage_cheese\", \"whole_wheat\", \"wheat_bread\", \"romaine_lettuce\", \"white_bread\", \"raw_spinach\", \"oatmeal\", \"white_potatoes\", \"almond_butter\", \"pork_rinds\", \"veg\", \"cashews\", \"greek_yoghurt\", \"baby_carrots\", \"fresh_veggies\", \"fatty_meats\", \"more_vegetables\", \"avacado\", \"veges\", \"nut_butter\", \"hard_boiled_eggs\", \"carrot_sticks\", \"whole_grains\", \"grilled_chicken_breast\", \"steamed_vegetables\", \"meats\", \"lentils\", \"green_beans\", \"low_cal\", \"nuts/seeds\", \"iceberg_lettuce\", \"carrots\", \"red_meat\", \"other_foods\", \"fried_foods\", \"smoothies\", \"healthy_fats\", \"vegies\", \"avacados\", \"other_vegetables\", \"fresh_fruit\", \"spinach_salad\", \"egg_whites\", \"steamed_veggies\", \"nut_butters\", \"ground_turkey\", \"baked_chicken\"]\n"
     ]
    }
   ],
   "source": [
    "lexicon.create_category(\"healthy_food\", [\"healthy_food\",\"low_carb\",\"kale\",\"avocado\"], model=\"reddit\")"
   ]
  },
  {
   "cell_type": "code",
   "execution_count": 125,
   "metadata": {},
   "outputs": [
    {
     "name": "stdout",
     "output_type": "stream",
     "text": [
      "[\"turkey\", \"roast_beef\", \"white_bread\", \"fried_chicken\", \"pancakes\", \"peanut_butter\", \"gefilte_fish\", \"stuffing\", \"French_fries\", \"meatloaf\", \"brisket\", \"potato_salad\", \"pumpkin_pie\", \"scrambled_eggs\", \"french_fries\", \"spaghetti\", \"gravy\", \"tamales\", \"pot_roast\", \"oatmeal\", \"lasagna\", \"corned_beef\", \"latkes\", \"pickles\", \"sauerkraut\", \"burger\", \"grits\", \"biscuits\", \"hamburger\", \"salad_bar\", \"corn_bread\", \"chicken_soup\", \"bacon\", \"cream_cheese\", \"brownies\", \"tofu\", \"pastrami\", \"pork_chops\", \"salami\", \"marshmallows\", \"collard_greens\", \"macaroni\", \"pies\", \"raw_fish\", \"eggnog\", \"cheeseburgers\", \"truffles\", \"chocolate_cake\", \"hard-boiled_eggs\", \"baked_potatoes\", \"venison\", \"cottage_cheese\", \"pheasant\", \"applesauce\", \"quail\", \"fruit_salad\", \"meatballs\", \"chocolate_chip_cookies\", \"tacos\", \"roast\", \"jelly\", \"chicken_salad\", \"omelet\", \"gumbo\", \"steaks\", \"soup\", \"lox\", \"sausage\", \"roast_chicken\", \"rye\", \"bagel\", \"fruitcake\", \"fries\", \"fried_eggs\", \"ketchup\", \"chicken_wings\", \"barbecue_sauce\", \"sweet_potatoes\", \"pasta\", \"sausages\", \"crackers\", \"omelets\", \"roasting\", \"French_toast\", \"muffins\", \"mashed_potatoes\", \"fresh_fruit\", \"baked_potato\", \"waffles\", \"cranberry_sauce\", \"baked_beans\", \"cheese\", \"tripe\", \"noodles\", \"maple_syrup\", \"quiche\", \"buns\", \"baklava\", \"stews\"]\n"
     ]
    }
   ],
   "source": [
    "lexicon.create_category(\"festive_food\", [\"festive_food\",\"turkey\",\"eggnog\"], model=\"nytimes\")"
   ]
  },
  {
   "cell_type": "markdown",
   "metadata": {},
   "source": [
    "### List of further resources\n",
    "    * NLTK\n",
    "    * Jellyfish: string similarity library\n",
    "    * TextBlob: simplified text processing\n",
    "    * PyEnchant: language detection\n",
    "    * WordNet: ontology of concepts (inc. in NLTK)\n",
    "    * Stanford NLP (Java)\n",
    "    * Tweet NLP: https://www.cs.cmu.edu/~ark/TweetNLP/"
   ]
  },
  {
   "cell_type": "markdown",
   "metadata": {},
   "source": [
    "## Part 2"
   ]
  },
  {
   "cell_type": "markdown",
   "metadata": {},
   "source": [
    "### Question 1:\n",
    "An NLP preprocessing model, using the list of stopwords ['a', 'the', 'is', 'you', 'I','my','with','was'] for the input sentence\n",
    "“I was driving down the street with my CAR! :)” <br>\n",
    "gives the following output: {driving, down, street, car, :)}.\n",
    "The model consists of: <br>\n",
    "\n",
    "a) Stopword Removal, Casefolding and Stemming <br>\n",
    "b) Stopword Removal and Casefolding <br>\n",
    "c) Stopword Removal and Stemming <br>\n",
    "d) Casefolding and Stemming <br>"
   ]
  },
  {
   "cell_type": "markdown",
   "metadata": {},
   "source": [
    "b)\n",
    "\n",
    "## CORRECT!"
   ]
  },
  {
   "cell_type": "markdown",
   "metadata": {},
   "source": [
    "### Question 2:\n",
    "What statement is false about topic detection using LSA: <br>\n",
    "\n",
    "a) It finds the representation of documents and words in the latent \"topic space\" <br>\n",
    "b) It produces topics interpretable in “word space” <br>\n",
    "c) A document's topic representation is a probability distribution over topics <br>\n",
    "d) The vectors representing topics in “word space” are linearly independent <br>"
   ]
  },
  {
   "cell_type": "markdown",
   "metadata": {},
   "source": [
    "c)\n",
    "\n",
    "## CORRECT!"
   ]
  },
  {
   "cell_type": "markdown",
   "metadata": {},
   "source": [
    "### Question 3:\n",
    "The problem of having more features than documents when using a TF-IDF matrix for document classification cannot be addressed by: <br>\n",
    "\n",
    "a) Using SVD for dimensionality reduction <br>\n",
    "b) Using min-max scaling of features <br>\n",
    "c) Penalizing very large positive and very large negative weights (a.k.a. regularization) <br>\n",
    "d) Using online feature selection <br>"
   ]
  },
  {
   "cell_type": "markdown",
   "metadata": {},
   "source": [
    "b)\n",
    "## CORRECT!\n"
   ]
  },
  {
   "cell_type": "markdown",
   "metadata": {},
   "source": [
    "### Question 4:\n",
    "Which of the following is false about word vectors: <br>\n",
    "\n",
    "a) Word2vec is used to achieve a lower dimensional representation than bag of words <br>\n",
    "b) Semantically similar words typically have similar word2vec vectors <br>\n",
    "c) Each dimension in the word2vec embedding has a clear interpretation <br>\n",
    "d) Word2Vec can be used for the computation of sentence vectors <br>"
   ]
  },
  {
   "cell_type": "markdown",
   "metadata": {},
   "source": [
    "d)\n",
    "\n",
    "## INCORRECT! The right answer is: Each dimension in the word2vec embedding has a clear interpretation"
   ]
  },
  {
   "cell_type": "markdown",
   "metadata": {},
   "source": [
    "### Question 5:\n",
    "Given the following word (W) / context (C) co-occurrence frequencies, which statement is true regarding the pointwise mutual information (PMI)?\n",
    "\n",
    "|  |W1|W2|W3|\n",
    "|--|--|--|--|\n",
    "|C1| 2| 0| 3|\n",
    "|C2| 6| 4| 0|\n",
    "|C3| 1| 1| 3|\n",
    "\n",
    "a) PMI(w=W1, c=C2) > PMI(w=W2, c=C2) > PMI(w=W3, c=C3) <br>\n",
    "b) PMI(w=W2, c=C2) > PMI(w=W1, c=C2) >  PMI(w=W3, c=C3) <br>\n",
    "c) PMI(w=W3, c=C3) > PMI(w=W1, c=C2) > PMI(w=W2, c=C2) <br>\n",
    "d) PMI(w=W3, c=C3) > PMI(w=W2, c=C2) > PMI(w=W1, c=C2) <br>"
   ]
  },
  {
   "cell_type": "code",
   "execution_count": 141,
   "metadata": {},
   "outputs": [],
   "source": [
    "PMI = log2(p(x,y) / p(x)*p(y))"
   ]
  },
  {
   "cell_type": "code",
   "execution_count": 127,
   "metadata": {
    "jupyter": {
     "outputs_hidden": true
    }
   },
   "outputs": [
    {
     "data": {
      "text/plain": [
       "0.41503749927884376"
      ]
     },
     "execution_count": 127,
     "metadata": {},
     "output_type": "execute_result"
    }
   ],
   "source": [
    "PMI_W1_C2 = np.log2((6/20)/(9/20 * 10/20))\n",
    "PMI_W1_C2"
   ]
  },
  {
   "cell_type": "code",
   "execution_count": 129,
   "metadata": {},
   "outputs": [
    {
     "data": {
      "text/plain": [
       "0.6780719051126377"
      ]
     },
     "execution_count": 129,
     "metadata": {},
     "output_type": "execute_result"
    }
   ],
   "source": [
    "PMI_W2_C2 = np.log2((4/20)/(5/20 * 10/20))\n",
    "PMI_W2_C2"
   ]
  },
  {
   "cell_type": "code",
   "execution_count": 130,
   "metadata": {},
   "outputs": [
    {
     "data": {
      "text/plain": [
       "1.0"
      ]
     },
     "execution_count": 130,
     "metadata": {},
     "output_type": "execute_result"
    }
   ],
   "source": [
    "PMI_W3_C3 = np.log2((3/20)/(6/20 * 5/20))\n",
    "PMI_W3_C3"
   ]
  },
  {
   "cell_type": "markdown",
   "metadata": {},
   "source": [
    "d)\n",
    "\n",
    "## CORRECT!"
   ]
  },
  {
   "cell_type": "code",
   "execution_count": null,
   "metadata": {},
   "outputs": [],
   "source": []
  }
 ],
 "metadata": {
  "kernelspec": {
   "display_name": "Python 3 (ipykernel)",
   "language": "python",
   "name": "python3"
  },
  "language_info": {
   "codemirror_mode": {
    "name": "ipython",
    "version": 3
   },
   "file_extension": ".py",
   "mimetype": "text/x-python",
   "name": "python",
   "nbconvert_exporter": "python",
   "pygments_lexer": "ipython3",
   "version": "3.9.7"
  },
  "toc": {
   "colors": {
    "hover_highlight": "#DAA520",
    "navigate_num": "#000000",
    "navigate_text": "#333333",
    "running_highlight": "#FF0000",
    "selected_highlight": "#FFD700",
    "sidebar_border": "#EEEEEE",
    "wrapper_background": "#FFFFFF"
   },
   "moveMenuLeft": true,
   "nav_menu": {
    "height": "228px",
    "width": "252px"
   },
   "navigate_menu": true,
   "number_sections": true,
   "sideBar": true,
   "threshold": 4,
   "toc_cell": false,
   "toc_section_display": "block",
   "toc_window_display": false,
   "widenNotebook": false
  },
  "varInspector": {
   "cols": {
    "lenName": 16,
    "lenType": 16,
    "lenVar": 40
   },
   "kernels_config": {
    "python": {
     "delete_cmd_postfix": "",
     "delete_cmd_prefix": "del ",
     "library": "var_list.py",
     "varRefreshCmd": "print(var_dic_list())"
    },
    "r": {
     "delete_cmd_postfix": ") ",
     "delete_cmd_prefix": "rm(",
     "library": "var_list.r",
     "varRefreshCmd": "cat(var_dic_list()) "
    }
   },
   "types_to_exclude": [
    "module",
    "function",
    "builtin_function_or_method",
    "instance",
    "_Feature"
   ],
   "window_display": false
  }
 },
 "nbformat": 4,
 "nbformat_minor": 4
}
