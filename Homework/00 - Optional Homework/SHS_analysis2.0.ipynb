{
 "cells": [
  {
   "cell_type": "code",
   "execution_count": 1,
   "id": "f8ba9c13",
   "metadata": {
    "executionInfo": {
     "elapsed": 578,
     "status": "ok",
     "timestamp": 1663006733366,
     "user": {
      "displayName": "Lorenzo Taschin",
      "userId": "00354220123290343169"
     },
     "user_tz": -120
    },
    "id": "f8ba9c13"
   },
   "outputs": [],
   "source": [
    "import numpy as np\n",
    "import pandas as pd\n",
    "from pandas.io.json import json_normalize\n",
    "import json\n",
    "import scipy.stats as stats\n",
    "import matplotlib.pyplot as plt\n",
    "import statsmodels.formula.api as sm\n",
    "\n",
    "\n",
    "%matplotlib inline"
   ]
  },
  {
   "cell_type": "code",
   "execution_count": 2,
   "id": "4bbea495",
   "metadata": {
    "colab": {
     "base_uri": "https://localhost:8080/",
     "height": 380
    },
    "executionInfo": {
     "elapsed": 593,
     "status": "error",
     "timestamp": 1663006733937,
     "user": {
      "displayName": "Lorenzo Taschin",
      "userId": "00354220123290343169"
     },
     "user_tz": -120
    },
    "id": "4bbea495",
    "outputId": "d753827e-1e74-4427-c6ac-bd60888a2d6e"
   },
   "outputs": [
    {
     "ename": "FileNotFoundError",
     "evalue": "[Errno 2] No such file or directory: 'dataset_1.csv'",
     "output_type": "error",
     "traceback": [
      "\u001b[1;31m---------------------------------------------------------------------------\u001b[0m",
      "\u001b[1;31mFileNotFoundError\u001b[0m                         Traceback (most recent call last)",
      "Cell \u001b[1;32mIn [2], line 6\u001b[0m\n\u001b[0;32m      4\u001b[0m id_offset \u001b[38;5;241m=\u001b[39m \u001b[38;5;241m0\u001b[39m\n\u001b[0;32m      5\u001b[0m \u001b[38;5;28;01mfor\u001b[39;00m i \u001b[38;5;129;01min\u001b[39;00m \u001b[38;5;28mrange\u001b[39m(\u001b[38;5;241m1\u001b[39m,\u001b[38;5;241m6\u001b[39m):\n\u001b[1;32m----> 6\u001b[0m     df_tmp \u001b[38;5;241m=\u001b[39m \u001b[43mpd\u001b[49m\u001b[38;5;241;43m.\u001b[39;49m\u001b[43mread_csv\u001b[49m\u001b[43m(\u001b[49m\u001b[38;5;124;43mf\u001b[39;49m\u001b[38;5;124;43m'\u001b[39;49m\u001b[38;5;124;43mdataset_\u001b[39;49m\u001b[38;5;132;43;01m{\u001b[39;49;00m\u001b[43mi\u001b[49m\u001b[38;5;132;43;01m}\u001b[39;49;00m\u001b[38;5;124;43m.csv\u001b[39;49m\u001b[38;5;124;43m'\u001b[39;49m\u001b[43m)\u001b[49m\n\u001b[0;32m      7\u001b[0m     current_ids \u001b[38;5;241m=\u001b[39m \u001b[38;5;28mlist\u001b[39m(df_tmp[\u001b[38;5;124m'\u001b[39m\u001b[38;5;124mrun_id\u001b[39m\u001b[38;5;124m'\u001b[39m]\u001b[38;5;241m.\u001b[39munique())\n\u001b[0;32m      8\u001b[0m     df_tmp[\u001b[38;5;124m'\u001b[39m\u001b[38;5;124mrun_id\u001b[39m\u001b[38;5;124m'\u001b[39m] \u001b[38;5;241m=\u001b[39m df_tmp[\u001b[38;5;124m'\u001b[39m\u001b[38;5;124mrun_id\u001b[39m\u001b[38;5;124m'\u001b[39m]\u001b[38;5;241m.\u001b[39mapply(\u001b[38;5;28;01mlambda\u001b[39;00m x: id_offset \u001b[38;5;241m+\u001b[39m current_ids\u001b[38;5;241m.\u001b[39mindex(x))\n",
      "File \u001b[1;32m~\\anaconda3\\envs\\ADA\\lib\\site-packages\\pandas\\util\\_decorators.py:211\u001b[0m, in \u001b[0;36mdeprecate_kwarg.<locals>._deprecate_kwarg.<locals>.wrapper\u001b[1;34m(*args, **kwargs)\u001b[0m\n\u001b[0;32m    209\u001b[0m     \u001b[38;5;28;01melse\u001b[39;00m:\n\u001b[0;32m    210\u001b[0m         kwargs[new_arg_name] \u001b[38;5;241m=\u001b[39m new_arg_value\n\u001b[1;32m--> 211\u001b[0m \u001b[38;5;28;01mreturn\u001b[39;00m func(\u001b[38;5;241m*\u001b[39margs, \u001b[38;5;241m*\u001b[39m\u001b[38;5;241m*\u001b[39mkwargs)\n",
      "File \u001b[1;32m~\\anaconda3\\envs\\ADA\\lib\\site-packages\\pandas\\util\\_decorators.py:317\u001b[0m, in \u001b[0;36mdeprecate_nonkeyword_arguments.<locals>.decorate.<locals>.wrapper\u001b[1;34m(*args, **kwargs)\u001b[0m\n\u001b[0;32m    311\u001b[0m \u001b[38;5;28;01mif\u001b[39;00m \u001b[38;5;28mlen\u001b[39m(args) \u001b[38;5;241m>\u001b[39m num_allow_args:\n\u001b[0;32m    312\u001b[0m     warnings\u001b[38;5;241m.\u001b[39mwarn(\n\u001b[0;32m    313\u001b[0m         msg\u001b[38;5;241m.\u001b[39mformat(arguments\u001b[38;5;241m=\u001b[39marguments),\n\u001b[0;32m    314\u001b[0m         \u001b[38;5;167;01mFutureWarning\u001b[39;00m,\n\u001b[0;32m    315\u001b[0m         stacklevel\u001b[38;5;241m=\u001b[39mfind_stack_level(inspect\u001b[38;5;241m.\u001b[39mcurrentframe()),\n\u001b[0;32m    316\u001b[0m     )\n\u001b[1;32m--> 317\u001b[0m \u001b[38;5;28;01mreturn\u001b[39;00m func(\u001b[38;5;241m*\u001b[39margs, \u001b[38;5;241m*\u001b[39m\u001b[38;5;241m*\u001b[39mkwargs)\n",
      "File \u001b[1;32m~\\anaconda3\\envs\\ADA\\lib\\site-packages\\pandas\\io\\parsers\\readers.py:950\u001b[0m, in \u001b[0;36mread_csv\u001b[1;34m(filepath_or_buffer, sep, delimiter, header, names, index_col, usecols, squeeze, prefix, mangle_dupe_cols, dtype, engine, converters, true_values, false_values, skipinitialspace, skiprows, skipfooter, nrows, na_values, keep_default_na, na_filter, verbose, skip_blank_lines, parse_dates, infer_datetime_format, keep_date_col, date_parser, dayfirst, cache_dates, iterator, chunksize, compression, thousands, decimal, lineterminator, quotechar, quoting, doublequote, escapechar, comment, encoding, encoding_errors, dialect, error_bad_lines, warn_bad_lines, on_bad_lines, delim_whitespace, low_memory, memory_map, float_precision, storage_options)\u001b[0m\n\u001b[0;32m    935\u001b[0m kwds_defaults \u001b[38;5;241m=\u001b[39m _refine_defaults_read(\n\u001b[0;32m    936\u001b[0m     dialect,\n\u001b[0;32m    937\u001b[0m     delimiter,\n\u001b[1;32m   (...)\u001b[0m\n\u001b[0;32m    946\u001b[0m     defaults\u001b[38;5;241m=\u001b[39m{\u001b[38;5;124m\"\u001b[39m\u001b[38;5;124mdelimiter\u001b[39m\u001b[38;5;124m\"\u001b[39m: \u001b[38;5;124m\"\u001b[39m\u001b[38;5;124m,\u001b[39m\u001b[38;5;124m\"\u001b[39m},\n\u001b[0;32m    947\u001b[0m )\n\u001b[0;32m    948\u001b[0m kwds\u001b[38;5;241m.\u001b[39mupdate(kwds_defaults)\n\u001b[1;32m--> 950\u001b[0m \u001b[38;5;28;01mreturn\u001b[39;00m \u001b[43m_read\u001b[49m\u001b[43m(\u001b[49m\u001b[43mfilepath_or_buffer\u001b[49m\u001b[43m,\u001b[49m\u001b[43m \u001b[49m\u001b[43mkwds\u001b[49m\u001b[43m)\u001b[49m\n",
      "File \u001b[1;32m~\\anaconda3\\envs\\ADA\\lib\\site-packages\\pandas\\io\\parsers\\readers.py:605\u001b[0m, in \u001b[0;36m_read\u001b[1;34m(filepath_or_buffer, kwds)\u001b[0m\n\u001b[0;32m    602\u001b[0m _validate_names(kwds\u001b[38;5;241m.\u001b[39mget(\u001b[38;5;124m\"\u001b[39m\u001b[38;5;124mnames\u001b[39m\u001b[38;5;124m\"\u001b[39m, \u001b[38;5;28;01mNone\u001b[39;00m))\n\u001b[0;32m    604\u001b[0m \u001b[38;5;66;03m# Create the parser.\u001b[39;00m\n\u001b[1;32m--> 605\u001b[0m parser \u001b[38;5;241m=\u001b[39m TextFileReader(filepath_or_buffer, \u001b[38;5;241m*\u001b[39m\u001b[38;5;241m*\u001b[39mkwds)\n\u001b[0;32m    607\u001b[0m \u001b[38;5;28;01mif\u001b[39;00m chunksize \u001b[38;5;129;01mor\u001b[39;00m iterator:\n\u001b[0;32m    608\u001b[0m     \u001b[38;5;28;01mreturn\u001b[39;00m parser\n",
      "File \u001b[1;32m~\\anaconda3\\envs\\ADA\\lib\\site-packages\\pandas\\io\\parsers\\readers.py:1442\u001b[0m, in \u001b[0;36mTextFileReader.__init__\u001b[1;34m(self, f, engine, **kwds)\u001b[0m\n\u001b[0;32m   1439\u001b[0m     \u001b[38;5;28mself\u001b[39m\u001b[38;5;241m.\u001b[39moptions[\u001b[38;5;124m\"\u001b[39m\u001b[38;5;124mhas_index_names\u001b[39m\u001b[38;5;124m\"\u001b[39m] \u001b[38;5;241m=\u001b[39m kwds[\u001b[38;5;124m\"\u001b[39m\u001b[38;5;124mhas_index_names\u001b[39m\u001b[38;5;124m\"\u001b[39m]\n\u001b[0;32m   1441\u001b[0m \u001b[38;5;28mself\u001b[39m\u001b[38;5;241m.\u001b[39mhandles: IOHandles \u001b[38;5;241m|\u001b[39m \u001b[38;5;28;01mNone\u001b[39;00m \u001b[38;5;241m=\u001b[39m \u001b[38;5;28;01mNone\u001b[39;00m\n\u001b[1;32m-> 1442\u001b[0m \u001b[38;5;28mself\u001b[39m\u001b[38;5;241m.\u001b[39m_engine \u001b[38;5;241m=\u001b[39m \u001b[38;5;28;43mself\u001b[39;49m\u001b[38;5;241;43m.\u001b[39;49m\u001b[43m_make_engine\u001b[49m\u001b[43m(\u001b[49m\u001b[43mf\u001b[49m\u001b[43m,\u001b[49m\u001b[43m \u001b[49m\u001b[38;5;28;43mself\u001b[39;49m\u001b[38;5;241;43m.\u001b[39;49m\u001b[43mengine\u001b[49m\u001b[43m)\u001b[49m\n",
      "File \u001b[1;32m~\\anaconda3\\envs\\ADA\\lib\\site-packages\\pandas\\io\\parsers\\readers.py:1729\u001b[0m, in \u001b[0;36mTextFileReader._make_engine\u001b[1;34m(self, f, engine)\u001b[0m\n\u001b[0;32m   1727\u001b[0m     is_text \u001b[38;5;241m=\u001b[39m \u001b[38;5;28;01mFalse\u001b[39;00m\n\u001b[0;32m   1728\u001b[0m     mode \u001b[38;5;241m=\u001b[39m \u001b[38;5;124m\"\u001b[39m\u001b[38;5;124mrb\u001b[39m\u001b[38;5;124m\"\u001b[39m\n\u001b[1;32m-> 1729\u001b[0m \u001b[38;5;28mself\u001b[39m\u001b[38;5;241m.\u001b[39mhandles \u001b[38;5;241m=\u001b[39m \u001b[43mget_handle\u001b[49m\u001b[43m(\u001b[49m\n\u001b[0;32m   1730\u001b[0m \u001b[43m    \u001b[49m\u001b[43mf\u001b[49m\u001b[43m,\u001b[49m\n\u001b[0;32m   1731\u001b[0m \u001b[43m    \u001b[49m\u001b[43mmode\u001b[49m\u001b[43m,\u001b[49m\n\u001b[0;32m   1732\u001b[0m \u001b[43m    \u001b[49m\u001b[43mencoding\u001b[49m\u001b[38;5;241;43m=\u001b[39;49m\u001b[38;5;28;43mself\u001b[39;49m\u001b[38;5;241;43m.\u001b[39;49m\u001b[43moptions\u001b[49m\u001b[38;5;241;43m.\u001b[39;49m\u001b[43mget\u001b[49m\u001b[43m(\u001b[49m\u001b[38;5;124;43m\"\u001b[39;49m\u001b[38;5;124;43mencoding\u001b[39;49m\u001b[38;5;124;43m\"\u001b[39;49m\u001b[43m,\u001b[49m\u001b[43m \u001b[49m\u001b[38;5;28;43;01mNone\u001b[39;49;00m\u001b[43m)\u001b[49m\u001b[43m,\u001b[49m\n\u001b[0;32m   1733\u001b[0m \u001b[43m    \u001b[49m\u001b[43mcompression\u001b[49m\u001b[38;5;241;43m=\u001b[39;49m\u001b[38;5;28;43mself\u001b[39;49m\u001b[38;5;241;43m.\u001b[39;49m\u001b[43moptions\u001b[49m\u001b[38;5;241;43m.\u001b[39;49m\u001b[43mget\u001b[49m\u001b[43m(\u001b[49m\u001b[38;5;124;43m\"\u001b[39;49m\u001b[38;5;124;43mcompression\u001b[39;49m\u001b[38;5;124;43m\"\u001b[39;49m\u001b[43m,\u001b[49m\u001b[43m \u001b[49m\u001b[38;5;28;43;01mNone\u001b[39;49;00m\u001b[43m)\u001b[49m\u001b[43m,\u001b[49m\n\u001b[0;32m   1734\u001b[0m \u001b[43m    \u001b[49m\u001b[43mmemory_map\u001b[49m\u001b[38;5;241;43m=\u001b[39;49m\u001b[38;5;28;43mself\u001b[39;49m\u001b[38;5;241;43m.\u001b[39;49m\u001b[43moptions\u001b[49m\u001b[38;5;241;43m.\u001b[39;49m\u001b[43mget\u001b[49m\u001b[43m(\u001b[49m\u001b[38;5;124;43m\"\u001b[39;49m\u001b[38;5;124;43mmemory_map\u001b[39;49m\u001b[38;5;124;43m\"\u001b[39;49m\u001b[43m,\u001b[49m\u001b[43m \u001b[49m\u001b[38;5;28;43;01mFalse\u001b[39;49;00m\u001b[43m)\u001b[49m\u001b[43m,\u001b[49m\n\u001b[0;32m   1735\u001b[0m \u001b[43m    \u001b[49m\u001b[43mis_text\u001b[49m\u001b[38;5;241;43m=\u001b[39;49m\u001b[43mis_text\u001b[49m\u001b[43m,\u001b[49m\n\u001b[0;32m   1736\u001b[0m \u001b[43m    \u001b[49m\u001b[43merrors\u001b[49m\u001b[38;5;241;43m=\u001b[39;49m\u001b[38;5;28;43mself\u001b[39;49m\u001b[38;5;241;43m.\u001b[39;49m\u001b[43moptions\u001b[49m\u001b[38;5;241;43m.\u001b[39;49m\u001b[43mget\u001b[49m\u001b[43m(\u001b[49m\u001b[38;5;124;43m\"\u001b[39;49m\u001b[38;5;124;43mencoding_errors\u001b[39;49m\u001b[38;5;124;43m\"\u001b[39;49m\u001b[43m,\u001b[49m\u001b[43m \u001b[49m\u001b[38;5;124;43m\"\u001b[39;49m\u001b[38;5;124;43mstrict\u001b[39;49m\u001b[38;5;124;43m\"\u001b[39;49m\u001b[43m)\u001b[49m\u001b[43m,\u001b[49m\n\u001b[0;32m   1737\u001b[0m \u001b[43m    \u001b[49m\u001b[43mstorage_options\u001b[49m\u001b[38;5;241;43m=\u001b[39;49m\u001b[38;5;28;43mself\u001b[39;49m\u001b[38;5;241;43m.\u001b[39;49m\u001b[43moptions\u001b[49m\u001b[38;5;241;43m.\u001b[39;49m\u001b[43mget\u001b[49m\u001b[43m(\u001b[49m\u001b[38;5;124;43m\"\u001b[39;49m\u001b[38;5;124;43mstorage_options\u001b[39;49m\u001b[38;5;124;43m\"\u001b[39;49m\u001b[43m,\u001b[49m\u001b[43m \u001b[49m\u001b[38;5;28;43;01mNone\u001b[39;49;00m\u001b[43m)\u001b[49m\u001b[43m,\u001b[49m\n\u001b[0;32m   1738\u001b[0m \u001b[43m\u001b[49m\u001b[43m)\u001b[49m\n\u001b[0;32m   1739\u001b[0m \u001b[38;5;28;01massert\u001b[39;00m \u001b[38;5;28mself\u001b[39m\u001b[38;5;241m.\u001b[39mhandles \u001b[38;5;129;01mis\u001b[39;00m \u001b[38;5;129;01mnot\u001b[39;00m \u001b[38;5;28;01mNone\u001b[39;00m\n\u001b[0;32m   1740\u001b[0m f \u001b[38;5;241m=\u001b[39m \u001b[38;5;28mself\u001b[39m\u001b[38;5;241m.\u001b[39mhandles\u001b[38;5;241m.\u001b[39mhandle\n",
      "File \u001b[1;32m~\\anaconda3\\envs\\ADA\\lib\\site-packages\\pandas\\io\\common.py:857\u001b[0m, in \u001b[0;36mget_handle\u001b[1;34m(path_or_buf, mode, encoding, compression, memory_map, is_text, errors, storage_options)\u001b[0m\n\u001b[0;32m    852\u001b[0m \u001b[38;5;28;01melif\u001b[39;00m \u001b[38;5;28misinstance\u001b[39m(handle, \u001b[38;5;28mstr\u001b[39m):\n\u001b[0;32m    853\u001b[0m     \u001b[38;5;66;03m# Check whether the filename is to be opened in binary mode.\u001b[39;00m\n\u001b[0;32m    854\u001b[0m     \u001b[38;5;66;03m# Binary mode does not support 'encoding' and 'newline'.\u001b[39;00m\n\u001b[0;32m    855\u001b[0m     \u001b[38;5;28;01mif\u001b[39;00m ioargs\u001b[38;5;241m.\u001b[39mencoding \u001b[38;5;129;01mand\u001b[39;00m \u001b[38;5;124m\"\u001b[39m\u001b[38;5;124mb\u001b[39m\u001b[38;5;124m\"\u001b[39m \u001b[38;5;129;01mnot\u001b[39;00m \u001b[38;5;129;01min\u001b[39;00m ioargs\u001b[38;5;241m.\u001b[39mmode:\n\u001b[0;32m    856\u001b[0m         \u001b[38;5;66;03m# Encoding\u001b[39;00m\n\u001b[1;32m--> 857\u001b[0m         handle \u001b[38;5;241m=\u001b[39m \u001b[38;5;28;43mopen\u001b[39;49m\u001b[43m(\u001b[49m\n\u001b[0;32m    858\u001b[0m \u001b[43m            \u001b[49m\u001b[43mhandle\u001b[49m\u001b[43m,\u001b[49m\n\u001b[0;32m    859\u001b[0m \u001b[43m            \u001b[49m\u001b[43mioargs\u001b[49m\u001b[38;5;241;43m.\u001b[39;49m\u001b[43mmode\u001b[49m\u001b[43m,\u001b[49m\n\u001b[0;32m    860\u001b[0m \u001b[43m            \u001b[49m\u001b[43mencoding\u001b[49m\u001b[38;5;241;43m=\u001b[39;49m\u001b[43mioargs\u001b[49m\u001b[38;5;241;43m.\u001b[39;49m\u001b[43mencoding\u001b[49m\u001b[43m,\u001b[49m\n\u001b[0;32m    861\u001b[0m \u001b[43m            \u001b[49m\u001b[43merrors\u001b[49m\u001b[38;5;241;43m=\u001b[39;49m\u001b[43merrors\u001b[49m\u001b[43m,\u001b[49m\n\u001b[0;32m    862\u001b[0m \u001b[43m            \u001b[49m\u001b[43mnewline\u001b[49m\u001b[38;5;241;43m=\u001b[39;49m\u001b[38;5;124;43m\"\u001b[39;49m\u001b[38;5;124;43m\"\u001b[39;49m\u001b[43m,\u001b[49m\n\u001b[0;32m    863\u001b[0m \u001b[43m        \u001b[49m\u001b[43m)\u001b[49m\n\u001b[0;32m    864\u001b[0m     \u001b[38;5;28;01melse\u001b[39;00m:\n\u001b[0;32m    865\u001b[0m         \u001b[38;5;66;03m# Binary mode\u001b[39;00m\n\u001b[0;32m    866\u001b[0m         handle \u001b[38;5;241m=\u001b[39m \u001b[38;5;28mopen\u001b[39m(handle, ioargs\u001b[38;5;241m.\u001b[39mmode)\n",
      "\u001b[1;31mFileNotFoundError\u001b[0m: [Errno 2] No such file or directory: 'dataset_1.csv'"
     ]
    }
   ],
   "source": [
    "df = None\n",
    "# load all the datasets and concatenate them in a single dataframe\n",
    "# during the process the run ids are renamed s.t. no two different runs have the same id in the final dataframe\n",
    "id_offset = 0\n",
    "for i in range(1,6):\n",
    "    df_tmp = pd.read_csv(f'dataset_{i}.csv')\n",
    "    current_ids = list(df_tmp['run_id'].unique())\n",
    "    df_tmp['run_id'] = df_tmp['run_id'].apply(lambda x: id_offset + current_ids.index(x))\n",
    "    df = pd.concat([df,df_tmp])\n",
    "    id_offset += len(current_ids)\n",
    "    \n",
    "# drop duplicated indexes by resetting to default ones\n",
    "df = df.reset_index(drop=True)\n",
    "assert df.index.has_duplicates == False"
   ]
  },
  {
   "cell_type": "markdown",
   "id": "cbe3cd68",
   "metadata": {
    "id": "cbe3cd68"
   },
   "source": [
    "## Data cleaning and filtering"
   ]
  },
  {
   "cell_type": "code",
   "execution_count": null,
   "id": "e3fe5507",
   "metadata": {
    "executionInfo": {
     "elapsed": 39,
     "status": "aborted",
     "timestamp": 1663006733939,
     "user": {
      "displayName": "Lorenzo Taschin",
      "userId": "00354220123290343169"
     },
     "user_tz": -120
    },
    "id": "e3fe5507"
   },
   "outputs": [],
   "source": [
    "# remove data collected before wednesday 06-04-2022 which is the day we started to collect real data\n",
    "df = df[df['recorded_at'] > '2022-04-06']"
   ]
  },
  {
   "cell_type": "code",
   "execution_count": null,
   "id": "ad8da72d",
   "metadata": {
    "executionInfo": {
     "elapsed": 39,
     "status": "aborted",
     "timestamp": 1663006733940,
     "user": {
      "displayName": "Lorenzo Taschin",
      "userId": "00354220123290343169"
     },
     "user_tz": -120
    },
    "id": "ad8da72d"
   },
   "outputs": [],
   "source": [
    "# select only needed columns\n",
    "df_new = df[['run_id', 'trial_index','response']]\n",
    "# remove welcome and final trials, those are 0 and 19 trials respectively\n",
    "df_final = df_new[(df_new['trial_index'] != 0) & (df_new['trial_index'] != 19)]"
   ]
  },
  {
   "cell_type": "code",
   "execution_count": null,
   "id": "8c35e24d",
   "metadata": {
    "executionInfo": {
     "elapsed": 40,
     "status": "aborted",
     "timestamp": 1663006733941,
     "user": {
      "displayName": "Lorenzo Taschin",
      "userId": "00354220123290343169"
     },
     "user_tz": -120
    },
    "id": "8c35e24d"
   },
   "outputs": [],
   "source": [
    "df_final.head()"
   ]
  },
  {
   "cell_type": "code",
   "execution_count": null,
   "id": "28632496",
   "metadata": {
    "executionInfo": {
     "elapsed": 40,
     "status": "aborted",
     "timestamp": 1663006733942,
     "user": {
      "displayName": "Lorenzo Taschin",
      "userId": "00354220123290343169"
     },
     "user_tz": -120
    },
    "id": "28632496"
   },
   "outputs": [],
   "source": [
    "# get the size of the datatset based on amount of runs\n",
    "all_ids = df_final.groupby('run_id')\n",
    "all_size = len(all_ids)\n",
    "all_size"
   ]
  },
  {
   "cell_type": "code",
   "execution_count": null,
   "id": "2af1da08",
   "metadata": {
    "executionInfo": {
     "elapsed": 41,
     "status": "aborted",
     "timestamp": 1663006733943,
     "user": {
      "displayName": "Lorenzo Taschin",
      "userId": "00354220123290343169"
     },
     "user_tz": -120
    },
    "id": "2af1da08"
   },
   "outputs": [],
   "source": [
    "# get the size invalid runs if the number of answered quistions is less than 18\n",
    "df_incomplete = df_final.groupby('run_id').filter(lambda x: x.shape[0] < 18)\n",
    "invalid_size = len(df_incomplete.groupby('run_id'))\n",
    "invalid_size"
   ]
  },
  {
   "cell_type": "code",
   "execution_count": null,
   "id": "981c8014",
   "metadata": {
    "executionInfo": {
     "elapsed": 42,
     "status": "aborted",
     "timestamp": 1663006733944,
     "user": {
      "displayName": "Lorenzo Taschin",
      "userId": "00354220123290343169"
     },
     "user_tz": -120
    },
    "id": "981c8014"
   },
   "outputs": [],
   "source": [
    "# get the size valid runs if the number of answered quistions is equal to 18\n",
    "df_valid = df_final.groupby('run_id').filter(lambda x: x.shape[0] == 18)\n",
    "valid_size = len(df_valid.groupby('run_id'))\n",
    "valid_size"
   ]
  },
  {
   "cell_type": "markdown",
   "id": "7453cd97",
   "metadata": {
    "id": "7453cd97"
   },
   "source": [
    "### filter people based on control answer "
   ]
  },
  {
   "cell_type": "code",
   "execution_count": null,
   "id": "28ec1bf7",
   "metadata": {
    "executionInfo": {
     "elapsed": 42,
     "status": "aborted",
     "timestamp": 1663006733945,
     "user": {
      "displayName": "Lorenzo Taschin",
      "userId": "00354220123290343169"
     },
     "user_tz": -120
    },
    "id": "28ec1bf7"
   },
   "outputs": [],
   "source": [
    "control_yes = df_valid.loc[df_valid['trial_index']==17,'response'].apply(lambda x: 'Yes' in json.loads(x).values())\n",
    "invalid_ids = df_valid.loc[control_yes.index,:][~control_yes].run_id.to_list()"
   ]
  },
  {
   "cell_type": "code",
   "execution_count": null,
   "id": "d9814983",
   "metadata": {
    "executionInfo": {
     "elapsed": 43,
     "status": "aborted",
     "timestamp": 1663006733946,
     "user": {
      "displayName": "Lorenzo Taschin",
      "userId": "00354220123290343169"
     },
     "user_tz": -120
    },
    "id": "d9814983"
   },
   "outputs": [],
   "source": [
    "# remove samples from partecipants who failed the boolean control question\n",
    "df_valid = df_valid[~df_valid.run_id.isin(invalid_ids)]"
   ]
  },
  {
   "cell_type": "code",
   "execution_count": null,
   "id": "21cfcea5",
   "metadata": {
    "executionInfo": {
     "elapsed": 44,
     "status": "aborted",
     "timestamp": 1663006733947,
     "user": {
      "displayName": "Lorenzo Taschin",
      "userId": "00354220123290343169"
     },
     "user_tz": -120
    },
    "id": "21cfcea5",
    "scrolled": true
   },
   "outputs": [],
   "source": [
    "control_eyes = df_valid.loc[df_valid['trial_index']==18,'response'].str.contains('.*[eE]yes{0,1}.*|.*[yY]eux.*|.*œil.*')\n",
    "# look up the text answers on the control question.\n",
    "df_valid.loc[control_eyes.index,:][~control_eyes]"
   ]
  },
  {
   "cell_type": "code",
   "execution_count": null,
   "id": "1bb5048c",
   "metadata": {
    "executionInfo": {
     "elapsed": 44,
     "status": "aborted",
     "timestamp": 1663006733948,
     "user": {
      "displayName": "Lorenzo Taschin",
      "userId": "00354220123290343169"
     },
     "user_tz": -120
    },
    "id": "1bb5048c",
    "scrolled": false
   },
   "outputs": [],
   "source": [
    "# remove the answers that suggests the partecipant didn't notice the difference in eyes size\n",
    "invalid_ids = [15, 18, 112, 116, 135]\n",
    "\n",
    "df_valid = df_valid[~df_valid.run_id.isin(invalid_ids)].astype({'run_id':int, 'trial_index':int})"
   ]
  },
  {
   "cell_type": "markdown",
   "id": "20f1586d",
   "metadata": {
    "id": "20f1586d"
   },
   "source": [
    "### extract demographic questions"
   ]
  },
  {
   "cell_type": "code",
   "execution_count": null,
   "id": "30bd53ef",
   "metadata": {
    "executionInfo": {
     "elapsed": 45,
     "status": "aborted",
     "timestamp": 1663006733949,
     "user": {
      "displayName": "Lorenzo Taschin",
      "userId": "00354220123290343169"
     },
     "user_tz": -120
    },
    "id": "30bd53ef"
   },
   "outputs": [],
   "source": [
    "# select only demographics questions (question numbr is 16)\n",
    "valid_demographics = df_valid.loc[df_valid['trial_index'] == 16,:]"
   ]
  },
  {
   "cell_type": "code",
   "execution_count": null,
   "id": "2e4ee06c",
   "metadata": {
    "executionInfo": {
     "elapsed": 46,
     "status": "aborted",
     "timestamp": 1663006733950,
     "user": {
      "displayName": "Lorenzo Taschin",
      "userId": "00354220123290343169"
     },
     "user_tz": -120
    },
    "id": "2e4ee06c"
   },
   "outputs": [],
   "source": [
    "# convert values in json format to columns\n",
    "valid_demographics = valid_demographics.assign(response_json=lambda x: x[\"response\"].apply(lambda x: [json.loads(x)]))\n",
    "valid_response = pd.json_normalize(valid_demographics.to_dict(orient=\"records\"),meta=[\"run_id\",\"trial_index\"], record_path=[\"response_json\"])\n",
    "columns = valid_response.columns.to_list()\n",
    "# reorder columns, put run_id and trial_index in front\n",
    "columns.remove(\"trial_index\")\n",
    "columns.remove(\"run_id\")\n",
    "columns.insert(0,\"run_id\")\n",
    "columns.insert(1,\"trial_index\")\n",
    "valid_response = valid_response[columns]\n",
    "valid_response"
   ]
  },
  {
   "cell_type": "markdown",
   "id": "ccd7a7f5",
   "metadata": {
    "id": "ccd7a7f5"
   },
   "source": [
    "### extract data about acceptance:\n",
    "for each answer extract:\n",
    "- which image was displayed (0-14)\n",
    "- which was the condition of the image w.r.t eyes size (0 = small, 1 = normal, 2 = big)\n",
    "- what did the partecipant answer (0-5)"
   ]
  },
  {
   "cell_type": "code",
   "execution_count": null,
   "id": "ec4da8a7",
   "metadata": {
    "executionInfo": {
     "elapsed": 47,
     "status": "aborted",
     "timestamp": 1663006733951,
     "user": {
      "displayName": "Lorenzo Taschin",
      "userId": "00354220123290343169"
     },
     "user_tz": -120
    },
    "id": "ec4da8a7"
   },
   "outputs": [],
   "source": [
    "# create a dataframe containing the acceptance responses\n",
    "df_acceptance = df_valid.loc[df_valid['trial_index'] < 16,:]\n",
    "\n",
    "df_acceptance"
   ]
  },
  {
   "cell_type": "code",
   "execution_count": null,
   "id": "7d97cbc7",
   "metadata": {
    "executionInfo": {
     "elapsed": 47,
     "status": "aborted",
     "timestamp": 1663006733952,
     "user": {
      "displayName": "Lorenzo Taschin",
      "userId": "00354220123290343169"
     },
     "user_tz": -120
    },
    "id": "7d97cbc7"
   },
   "outputs": [],
   "source": [
    "# extract values from the response json and add them as columns of the dataframe\n",
    "\n",
    "# extract images info i.e. image index(0-14) and condition index(0 = small, 1 = normal, 2 = big)\n",
    "tmp_img_info = df_acceptance.response \\\n",
    "                            .apply(lambda x: json.loads(x)) \\\n",
    "                            .apply(lambda x: list(x.keys())[0]).str.extract(pat='image_([0-9]|[1][0-4])_([0-2])')\n",
    "\n",
    "# extract partecipant responses (0-5)\n",
    "df_acceptance = df_acceptance.assign(image_index = tmp_img_info[0].astype(int), condition_index = tmp_img_info[1].astype(int))\n",
    "df_acceptance.loc[:,'response'] = df_acceptance.response \\\n",
    "                            .apply(lambda x: json.loads(x)) \\\n",
    "                            .apply(lambda x: list(x.values())[0]) \\\n",
    "                            .apply(int)\n",
    "df_acceptance"
   ]
  },
  {
   "cell_type": "markdown",
   "id": "2bc8d9c3",
   "metadata": {
    "id": "2bc8d9c3"
   },
   "source": [
    "## Data Analysis"
   ]
  },
  {
   "cell_type": "code",
   "execution_count": null,
   "id": "91c0468e",
   "metadata": {
    "executionInfo": {
     "elapsed": 48,
     "status": "aborted",
     "timestamp": 1663006733953,
     "user": {
      "displayName": "Lorenzo Taschin",
      "userId": "00354220123290343169"
     },
     "user_tz": -120
    },
    "id": "91c0468e"
   },
   "outputs": [],
   "source": [
    "df_runs = valid_response"
   ]
  },
  {
   "cell_type": "code",
   "execution_count": null,
   "id": "523c775a",
   "metadata": {
    "executionInfo": {
     "elapsed": 50,
     "status": "aborted",
     "timestamp": 1663006733955,
     "user": {
      "displayName": "Lorenzo Taschin",
      "userId": "00354220123290343169"
     },
     "user_tz": -120
    },
    "id": "523c775a"
   },
   "outputs": [],
   "source": [
    "assert len(df_runs) == len(df_acceptance.groupby(by='run_id').count())\n",
    "assert len(df_runs)*15 == len(df_acceptance)\n",
    "\n",
    "print(f\"number of runs (total number of partecipants): {len(df_runs)}\")\n",
    "print(f\"number of datapoints about acceptance: {len(df_acceptance)}( = 15 * {len(df_runs)})\")"
   ]
  },
  {
   "cell_type": "code",
   "execution_count": null,
   "id": "cca8b2a2",
   "metadata": {
    "executionInfo": {
     "elapsed": 50,
     "status": "aborted",
     "timestamp": 1663006733956,
     "user": {
      "displayName": "Lorenzo Taschin",
      "userId": "00354220123290343169"
     },
     "user_tz": -120
    },
    "id": "cca8b2a2"
   },
   "outputs": [],
   "source": [
    "df_runs.gender.value_counts().plot(kind='bar')\n",
    "plt.title(\"gender distribution\")\n",
    "plt.xlabel(\"gender\")\n",
    "plt.ylabel(\"# of partecipants\")\n",
    "plt.show()\n",
    "# TODO: decide whether to keep bar chart or pie chart for gender distribution"
   ]
  },
  {
   "cell_type": "code",
   "execution_count": null,
   "id": "5acf3fe0",
   "metadata": {
    "executionInfo": {
     "elapsed": 51,
     "status": "aborted",
     "timestamp": 1663006733957,
     "user": {
      "displayName": "Lorenzo Taschin",
      "userId": "00354220123290343169"
     },
     "user_tz": -120
    },
    "id": "5acf3fe0",
    "scrolled": true
   },
   "outputs": [],
   "source": [
    "fig, ax = plt.subplots(2,2, figsize=(15,15))\n",
    "ax[0,0].pie(x = df_runs.gender.value_counts().sort_index(), labels = sorted(df_runs.gender.unique()), autopct='%1.0f%%')\n",
    "ax[1,0].pie(x = df_runs.level_educational_background.value_counts().sort_index(), labels = sorted(df_runs.level_educational_background.unique()), autopct='%1.0f%%')\n",
    "ax[0,1].pie(x = df_runs.field_educational_background.value_counts().sort_index(), labels = sorted(df_runs.field_educational_background.unique()), autopct='%1.0f%%')\n",
    "ax[1,1].pie(x = df_runs.nature_time.value_counts().sort_index(), labels = sorted(df_runs.nature_time.unique()), autopct='%1.0f%%')\n",
    "\n",
    "plt.show()\n",
    "# TODO: add titles etc..."
   ]
  },
  {
   "cell_type": "markdown",
   "id": "2c6a89d1",
   "metadata": {
    "id": "2c6a89d1"
   },
   "source": [
    "TODO: decide whether to keep either the pie chart or the bar chart for categorical variables' distributions"
   ]
  },
  {
   "cell_type": "code",
   "execution_count": null,
   "id": "0413dc8a",
   "metadata": {
    "executionInfo": {
     "elapsed": 52,
     "status": "aborted",
     "timestamp": 1663006733958,
     "user": {
      "displayName": "Lorenzo Taschin",
      "userId": "00354220123290343169"
     },
     "user_tz": -120
    },
    "id": "0413dc8a"
   },
   "outputs": [],
   "source": [
    "# extract age as numeric values from the text responses\n",
    "df_runs['age'] = df_runs['age'].str.extract('([1-9]{0,2}[0-9])').astype(int)"
   ]
  },
  {
   "cell_type": "code",
   "execution_count": null,
   "id": "14465c1d",
   "metadata": {
    "executionInfo": {
     "elapsed": 53,
     "status": "aborted",
     "timestamp": 1663006733959,
     "user": {
      "displayName": "Lorenzo Taschin",
      "userId": "00354220123290343169"
     },
     "user_tz": -120
    },
    "id": "14465c1d"
   },
   "outputs": [],
   "source": [
    "print(f\"the mean age is: {df_runs.age.mean()}\")\n",
    "print(f\"the std of the age is: {df_runs.age.std()}\")"
   ]
  },
  {
   "cell_type": "code",
   "execution_count": null,
   "id": "6343c095",
   "metadata": {
    "executionInfo": {
     "elapsed": 53,
     "status": "aborted",
     "timestamp": 1663006733960,
     "user": {
      "displayName": "Lorenzo Taschin",
      "userId": "00354220123290343169"
     },
     "user_tz": -120
    },
    "id": "6343c095"
   },
   "outputs": [],
   "source": [
    "fig, (ax1, ax2) = plt.subplots(1,2, figsize=(15,5))\n",
    "\n",
    "df_runs.age.hist(bins=20, ax=ax1)\n",
    "ax1.set_title(\"age distribution\")\n",
    "ax1.set_xlabel(\"age\")\n",
    "ax1.set_ylabel(\"# of participants\")\n",
    "\n",
    "num_of_females = df_runs.age[df_runs.gender=='Female'].count()\n",
    "num_of_males = df_runs.age[df_runs.gender=='Male'].count()\n",
    "\n",
    "female_ages_relfreq = (df_runs.age[df_runs.gender=='Female'].value_counts() / num_of_females).sort_index()\n",
    "male_ages_relfreq = (df_runs.age[df_runs.gender=='Male'].value_counts() / num_of_males).sort_index()\n",
    "\n",
    "pd.concat([female_ages_relfreq.rename('female'), male_ages_relfreq.rename('male')], axis=1).fillna(0).plot.bar(ax=ax2)\n",
    "ax2.set_title(\"age distribution of female and males\")\n",
    "ax2.set_xlabel('age')\n",
    "ax2.set_ylabel('relative frequencies')\n",
    "\n",
    "plt.show()"
   ]
  },
  {
   "cell_type": "markdown",
   "id": "d1bbc842",
   "metadata": {
    "id": "d1bbc842"
   },
   "source": [
    "in the above right-most plot, the relatives frequences are calculated whitin the group(male or female) and not just on the total number of partecipants. In this way it is possible to compare the two distributions even thought the groups are very unbalanced (females are two times more than the males)"
   ]
  },
  {
   "cell_type": "code",
   "execution_count": null,
   "id": "dd346bc0",
   "metadata": {
    "executionInfo": {
     "elapsed": 54,
     "status": "aborted",
     "timestamp": 1663006733961,
     "user": {
      "displayName": "Lorenzo Taschin",
      "userId": "00354220123290343169"
     },
     "user_tz": -120
    },
    "id": "dd346bc0"
   },
   "outputs": [],
   "source": [
    "# plt.pie(x = df_runs.level_educational_background.value_counts().sort_index(), labels = sorted(df_runs.level_educational_background.unique()), autopct='%1.0f%%')\n",
    "# plt.title('highest level of education distribution')\n",
    "# plt.show()"
   ]
  },
  {
   "cell_type": "code",
   "execution_count": null,
   "id": "312ea663",
   "metadata": {
    "executionInfo": {
     "elapsed": 55,
     "status": "aborted",
     "timestamp": 1663006733962,
     "user": {
      "displayName": "Lorenzo Taschin",
      "userId": "00354220123290343169"
     },
     "user_tz": -120
    },
    "id": "312ea663"
   },
   "outputs": [],
   "source": [
    "fig, (ax1, ax2) = plt.subplots(1,2, figsize=(15,5))\n",
    "\n",
    "df_runs.level_educational_background.hist(bins=20, ax=ax1)\n",
    "ax1.set_title(\"highest level of education distribution\")\n",
    "# ax1.set_xlabel(\"highest level of education\")\n",
    "ax1.set_ylabel(\"# of partecipants\")\n",
    "ax1.tick_params(axis='x', rotation=45)\n",
    "\n",
    "female_edulevel_relfreq = (df_runs.level_educational_background[df_runs.gender=='Female'].value_counts() / num_of_females).sort_index()\n",
    "male_edulevel_relfreq = (df_runs.level_educational_background[df_runs.gender=='Male'].value_counts() / num_of_males).sort_index()\n",
    "\n",
    "pd.concat([female_edulevel_relfreq.rename('female'), male_edulevel_relfreq.rename('male')], axis=1).fillna(0).plot.bar(ax=ax2)\n",
    "ax2.set_title(\"highest level of education distribution of female and males\")\n",
    "# ax2.set_xlabel('highest level of education')\n",
    "ax2.set_ylabel('relative frequencies')\n",
    "\n",
    "plt.show()"
   ]
  },
  {
   "cell_type": "code",
   "execution_count": null,
   "id": "fb1d4c7b",
   "metadata": {
    "executionInfo": {
     "elapsed": 55,
     "status": "aborted",
     "timestamp": 1663006733962,
     "user": {
      "displayName": "Lorenzo Taschin",
      "userId": "00354220123290343169"
     },
     "user_tz": -120
    },
    "id": "fb1d4c7b"
   },
   "outputs": [],
   "source": [
    "fig, (ax1, ax2) = plt.subplots(1,2, figsize=(15,5))\n",
    "\n",
    "df_runs.field_educational_background.hist(bins=20, ax=ax1)\n",
    "ax1.set_title(\"field of education distribution\")\n",
    "# ax1.set_xlabel(\"field of education\")\n",
    "ax1.set_ylabel(\"# of partecipants\")\n",
    "ax1.tick_params(axis='x', rotation=90)\n",
    "\n",
    "female_edulevel_relfreq = (df_runs.field_educational_background[df_runs.gender=='Female'].value_counts() / num_of_females).sort_index()\n",
    "male_edulevel_relfreq = (df_runs.field_educational_background[df_runs.gender=='Male'].value_counts() / num_of_males).sort_index()\n",
    "\n",
    "pd.concat([female_edulevel_relfreq.rename('female'), male_edulevel_relfreq.rename('male')], axis=1).fillna(0).plot.bar(ax=ax2)\n",
    "ax2.set_title(\"field of education distribution of female and males\")\n",
    "# ax2.set_xlabel('field of education')\n",
    "ax2.set_ylabel('relative frequencies')\n",
    "\n",
    "plt.show()"
   ]
  },
  {
   "cell_type": "code",
   "execution_count": null,
   "id": "25b4732f",
   "metadata": {
    "executionInfo": {
     "elapsed": 55,
     "status": "aborted",
     "timestamp": 1663006733963,
     "user": {
      "displayName": "Lorenzo Taschin",
      "userId": "00354220123290343169"
     },
     "user_tz": -120
    },
    "id": "25b4732f"
   },
   "outputs": [],
   "source": [
    "# plt.pie(x = df_runs.field_educational_background.value_counts().sort_index(), labels = sorted(df_runs.field_educational_background.unique()), autopct='%1.0f%%')\n",
    "# plt.title('field of education distribution')\n",
    "# plt.show()"
   ]
  },
  {
   "cell_type": "code",
   "execution_count": null,
   "id": "8a0469d9",
   "metadata": {
    "executionInfo": {
     "elapsed": 55,
     "status": "aborted",
     "timestamp": 1663006733963,
     "user": {
      "displayName": "Lorenzo Taschin",
      "userId": "00354220123290343169"
     },
     "user_tz": -120
    },
    "id": "8a0469d9"
   },
   "outputs": [],
   "source": [
    "df_small_acceptance = df_acceptance[df_acceptance.condition_index==0]\n",
    "df_normal_acceptance = df_acceptance[df_acceptance.condition_index==1]\n",
    "df_big_acceptance = df_acceptance[df_acceptance.condition_index==2]\n",
    "\n",
    "# assert that the number of small, normal and big images has are the same over the collected responses\n",
    "assert len(df_small_acceptance) == len(df_normal_acceptance) == len(df_big_acceptance)\n",
    "\n",
    "print(f\"total number of responses: {len(df_small_acceptance)+len(df_normal_acceptance)+len(df_big_acceptance)}:\")\n",
    "print(f\"small eyes responses: \\t {len(df_small_acceptance)}\")\n",
    "print(f\"normal eyes responses: \\t {len(df_normal_acceptance)}\")\n",
    "print(f\"big eyes responses: \\t {len(df_big_acceptance)}\\n\")\n",
    "\n",
    "print(\"the average degree of acceptance w.r.t the eyes size is (mean ± std):\")\n",
    "print(f\"condition 0 - small eyes: \\t {df_small_acceptance.response.mean():.2f} ± {df_small_acceptance.response.std():.2f}\")\n",
    "print(f\"condition 1 - normal eyes: \\t {df_normal_acceptance.response.mean():.2f} ± {df_normal_acceptance.response.std():.2f}\")\n",
    "print(f\"condition 2 - big eyes: \\t {df_big_acceptance.response.mean():.2f} ± {df_big_acceptance.response.std():.2f}\")\n",
    "\n",
    "\n",
    "\n"
   ]
  },
  {
   "cell_type": "code",
   "execution_count": null,
   "id": "aa5db593",
   "metadata": {
    "executionInfo": {
     "elapsed": 56,
     "status": "aborted",
     "timestamp": 1663006733964,
     "user": {
      "displayName": "Lorenzo Taschin",
      "userId": "00354220123290343169"
     },
     "user_tz": -120
    },
    "id": "aa5db593"
   },
   "outputs": [],
   "source": [
    "fig, (ax1, ax2) = plt.subplots(1,2, figsize=(15,5))\n",
    "\n",
    "df_acceptance['response'].hist(bins=6, ax= ax1)\n",
    "\n",
    "ax1.set_title('distribution of the degree of acceptance')\n",
    "ax1.set_xlabel('degree of acceptance')\n",
    "ax1.set_ylabel('# of responses')\n",
    "\n",
    "\n",
    "num_of_small = df_acceptance.response[df_acceptance.condition_index==0].count()\n",
    "num_of_normal = df_acceptance.response[df_acceptance.condition_index==1].count()\n",
    "num_of_big = df_acceptance.response[df_acceptance.condition_index==2].count()\n",
    "\n",
    "small_acceptance_relfreq = (df_acceptance.response[df_acceptance.condition_index==0].value_counts() / num_of_small).sort_index()\n",
    "normal_acceptance_relfreq = (df_acceptance.response[df_acceptance.condition_index==1].value_counts() / num_of_normal).sort_index()\n",
    "big_acceptance_relfreq = (df_acceptance.response[df_acceptance.condition_index==2].value_counts() / num_of_big).sort_index()\n",
    "\n",
    "pd.concat([\\\n",
    "        small_acceptance_relfreq.rename('smaller eyes'),\\\n",
    "        normal_acceptance_relfreq.rename('normal eyes'),\\\n",
    "        big_acceptance_relfreq.rename('bigger eyes')\\\n",
    "    ],axis=1).fillna(0).plot.bar(ax=ax2)\n",
    "\n",
    "\n",
    "ax2.set_title('distribution of the degree of acceptance w.r.t. of eyes size')\n",
    "ax2.set_xlabel('degree of acceptance')\n",
    "ax2.set_ylabel('relative frequencies')\n",
    "\n",
    "plt.show()\n"
   ]
  },
  {
   "cell_type": "code",
   "execution_count": null,
   "id": "4a09083e",
   "metadata": {
    "executionInfo": {
     "elapsed": 55,
     "status": "aborted",
     "timestamp": 1663006733964,
     "user": {
      "displayName": "Lorenzo Taschin",
      "userId": "00354220123290343169"
     },
     "user_tz": -120
    },
    "id": "4a09083e"
   },
   "outputs": [],
   "source": [
    "stats.ttest_ind(df_small_acceptance.response, df_normal_acceptance.response)"
   ]
  },
  {
   "cell_type": "code",
   "execution_count": null,
   "id": "66becd7d",
   "metadata": {
    "executionInfo": {
     "elapsed": 56,
     "status": "aborted",
     "timestamp": 1663006733965,
     "user": {
      "displayName": "Lorenzo Taschin",
      "userId": "00354220123290343169"
     },
     "user_tz": -120
    },
    "id": "66becd7d"
   },
   "outputs": [],
   "source": [
    "stats.ttest_ind(df_big_acceptance.response, df_normal_acceptance.response , alternative='less')"
   ]
  },
  {
   "cell_type": "code",
   "execution_count": null,
   "id": "9b9dd254",
   "metadata": {
    "executionInfo": {
     "elapsed": 56,
     "status": "aborted",
     "timestamp": 1663006733965,
     "user": {
      "displayName": "Lorenzo Taschin",
      "userId": "00354220123290343169"
     },
     "user_tz": -120
    },
    "id": "9b9dd254"
   },
   "outputs": [],
   "source": [
    "stats.ttest_ind(df_big_acceptance.response, df_small_acceptance.response, alternative='less')"
   ]
  },
  {
   "cell_type": "markdown",
   "id": "541a7a79",
   "metadata": {
    "id": "541a7a79"
   },
   "source": [
    "### observation\n",
    "\n",
    "The t-test does not indicate a significant difference between the mean degree of acceptance w.r.t small and normal eyes respectively. However, with p-value=0.006 it suggests that the mean degree of acceptance w.r.t. big eyes is significant greater than the mean degree w.r.t to small eyes. Moreover, it suggests that the mean degree of acceptance w.r.t. big eyes is significant greater than the mean degree w.r.t to normal eyes (p-value=0.03)"
   ]
  },
  {
   "cell_type": "code",
   "execution_count": null,
   "id": "db0e14e0",
   "metadata": {
    "executionInfo": {
     "elapsed": 56,
     "status": "aborted",
     "timestamp": 1663006733966,
     "user": {
      "displayName": "Lorenzo Taschin",
      "userId": "00354220123290343169"
     },
     "user_tz": -120
    },
    "id": "db0e14e0"
   },
   "outputs": [],
   "source": [
    "stats.spearmanr(df_acceptance.condition_index, df_acceptance.response)"
   ]
  },
  {
   "cell_type": "code",
   "execution_count": null,
   "id": "62bb0f35",
   "metadata": {
    "executionInfo": {
     "elapsed": 56,
     "status": "aborted",
     "timestamp": 1663006733966,
     "user": {
      "displayName": "Lorenzo Taschin",
      "userId": "00354220123290343169"
     },
     "user_tz": -120
    },
    "id": "62bb0f35"
   },
   "outputs": [],
   "source": [
    "stats.pearsonr(df_acceptance.condition_index, df_acceptance.response)"
   ]
  },
  {
   "cell_type": "markdown",
   "id": "080f23c6",
   "metadata": {
    "id": "080f23c6"
   },
   "source": [
    "### observation\n",
    "Even the correlation tests support (p-values < 0.02) our hypothesis suggesting that there is a slightly negative correlation between degree of acceptance and condition index i.e. increasing the eyes size, the degree of acceptance decreases.\n",
    "\n",
    "In particular, the pearson coefficent suggests a linear correlation between the two variables. We should therefore proceed with a regression analysis to understand if additional correlations are present which might indicates the presence of cofounding variables"
   ]
  },
  {
   "cell_type": "markdown",
   "id": "75810d7e",
   "metadata": {
    "id": "75810d7e"
   },
   "source": [
    "### Regression analysis"
   ]
  },
  {
   "cell_type": "code",
   "execution_count": null,
   "id": "9eae73bf",
   "metadata": {
    "executionInfo": {
     "elapsed": 56,
     "status": "aborted",
     "timestamp": 1663006733967,
     "user": {
      "displayName": "Lorenzo Taschin",
      "userId": "00354220123290343169"
     },
     "user_tz": -120
    },
    "id": "9eae73bf"
   },
   "outputs": [],
   "source": [
    "df_regression = df_runs.merge(df_acceptance, left_on='run_id', right_on='run_id')"
   ]
  },
  {
   "cell_type": "code",
   "execution_count": null,
   "id": "8179084d",
   "metadata": {
    "executionInfo": {
     "elapsed": 57,
     "status": "aborted",
     "timestamp": 1663006733968,
     "user": {
      "displayName": "Lorenzo Taschin",
      "userId": "00354220123290343169"
     },
     "user_tz": -120
    },
    "id": "8179084d"
   },
   "outputs": [],
   "source": [
    "df_regression"
   ]
  },
  {
   "cell_type": "code",
   "execution_count": null,
   "id": "28537fd6",
   "metadata": {
    "executionInfo": {
     "elapsed": 58,
     "status": "aborted",
     "timestamp": 1663006733969,
     "user": {
      "displayName": "Lorenzo Taschin",
      "userId": "00354220123290343169"
     },
     "user_tz": -120
    },
    "id": "28537fd6"
   },
   "outputs": [],
   "source": [
    "import plotly.express as px\n",
    "\n",
    "df = df_regression[df_regression['gender'] != 'Other']\n",
    "\n",
    "fig = px.box(df, x=\"condition_index\", y=\"response\", color=\"gender\") #field_educational_background\n",
    "fig.update_traces(quartilemethod=\"exclusive\") # or \"inclusive\", or \"linear\" by default\n",
    "fig.show()"
   ]
  },
  {
   "cell_type": "code",
   "execution_count": null,
   "id": "38ab783a",
   "metadata": {
    "executionInfo": {
     "elapsed": 57,
     "status": "aborted",
     "timestamp": 1663006733969,
     "user": {
      "displayName": "Lorenzo Taschin",
      "userId": "00354220123290343169"
     },
     "user_tz": -120
    },
    "id": "38ab783a"
   },
   "outputs": [],
   "source": [
    "#We need to separate the 'feel_rat' column in different columns, depending on what the subjects answered\n",
    "#Here we check what is the maximum number of answers for the question to know the number of columns to use\n",
    "max(np.array([len(df_regression['feel_rat'][i]) for i in range(1605)]))"
   ]
  },
  {
   "cell_type": "code",
   "execution_count": null,
   "id": "e9e1b6b9",
   "metadata": {
    "executionInfo": {
     "elapsed": 58,
     "status": "aborted",
     "timestamp": 1663006733970,
     "user": {
      "displayName": "Lorenzo Taschin",
      "userId": "00354220123290343169"
     },
     "user_tz": -120
    },
    "id": "e9e1b6b9"
   },
   "outputs": [],
   "source": [
    "df_regression[['feel_rat1', 'feel_rat2', 'feel_rat3']] = df_regression['feel_rat'].apply(str).str.strip('[]').str.split(',\\s*', expand = True)\n",
    "df_regression\n"
   ]
  },
  {
   "cell_type": "code",
   "execution_count": null,
   "id": "0f7f7358",
   "metadata": {
    "executionInfo": {
     "elapsed": 59,
     "status": "aborted",
     "timestamp": 1663006733971,
     "user": {
      "displayName": "Lorenzo Taschin",
      "userId": "00354220123290343169"
     },
     "user_tz": -120
    },
    "id": "0f7f7358"
   },
   "outputs": [],
   "source": [
    "pd.unique(df_regression['feel_rat1'])"
   ]
  },
  {
   "cell_type": "code",
   "execution_count": null,
   "id": "93ad3f88",
   "metadata": {
    "executionInfo": {
     "elapsed": 59,
     "status": "aborted",
     "timestamp": 1663006733972,
     "user": {
      "displayName": "Lorenzo Taschin",
      "userId": "00354220123290343169"
     },
     "user_tz": -120
    },
    "id": "93ad3f88"
   },
   "outputs": [],
   "source": [
    "# TODO: extract 'feel_rat' from the list and add dummy variables for feel rat and other categorical variable.\n",
    "# TODO:Also convert nature time to numerical\n",
    "df_dummies = pd.get_dummies(df_regression[['gender', 'response', 'condition_index', 'level_educational_background','field_educational_background', 'dieatary_habit', 'feel_rat1', 'feel_rat2', 'feel_rat3']])\n",
    "df_dummies[\"feel_rat_'Indifference'\"] = df_dummies[\"feel_rat1_'Indifference'\"] + df_dummies[\"feel_rat2_'Indifference'\"] + df_dummies[\"feel_rat3_'Indifference'\"]\n",
    "df_dummies[\"feel_rat_'Disgust'\"] = df_dummies[\"feel_rat1_'Disgust'\"] + df_dummies[\"feel_rat2_'Disgust'\"] + df_dummies[\"feel_rat3_'Disgust'\"]\n",
    "df_dummies[\"feel_rat_'Fear'\"] = df_dummies[\"feel_rat1_'Fear'\"] + df_dummies[\"feel_rat2_'Fear'\"] #+ df_dummies[\"feel_rat3_'Fear'\"]\n",
    "df_dummies[\"feel_rat_'Sympathy'\"] = df_dummies[\"feel_rat1_'Sympathy'\"] + df_dummies[\"feel_rat2_'Sympathy'\"] #+ df_dummies[\"feel_rat3_'Sympathy'\"]\n",
    "df_dummies[\"feel_rat_'Other'\"] = df_dummies[\"feel_rat1_'Other'\"] + df_dummies[\"feel_rat2_'Other'\"] #+ df_dummies[\"feel_rat3_'Other'\"]\n",
    "\n"
   ]
  },
  {
   "cell_type": "code",
   "execution_count": null,
   "id": "45d21083",
   "metadata": {
    "executionInfo": {
     "elapsed": 60,
     "status": "aborted",
     "timestamp": 1663006733973,
     "user": {
      "displayName": "Lorenzo Taschin",
      "userId": "00354220123290343169"
     },
     "user_tz": -120
    },
    "id": "45d21083"
   },
   "outputs": [],
   "source": [
    "drop_list = ['rat1', 'rat2', 'rat3']\n",
    "for i in range(len(drop_list)):\n",
    "    df_dummies = df_dummies.drop(df_dummies.filter(like=drop_list[i]).columns, 1)\n",
    "df_dummies"
   ]
  },
  {
   "cell_type": "code",
   "execution_count": null,
   "id": "WXWKjlHU_90D",
   "metadata": {
    "executionInfo": {
     "elapsed": 61,
     "status": "aborted",
     "timestamp": 1663006733973,
     "user": {
      "displayName": "Lorenzo Taschin",
      "userId": "00354220123290343169"
     },
     "user_tz": -120
    },
    "id": "WXWKjlHU_90D"
   },
   "outputs": [],
   "source": [
    "df_dummies.to_numpy()"
   ]
  },
  {
   "cell_type": "code",
   "execution_count": null,
   "id": "lDOXDFbt9EWw",
   "metadata": {
    "executionInfo": {
     "elapsed": 60,
     "status": "aborted",
     "timestamp": 1663006733974,
     "user": {
      "displayName": "Lorenzo Taschin",
      "userId": "00354220123290343169"
     },
     "user_tz": -120
    },
    "id": "lDOXDFbt9EWw"
   },
   "outputs": [],
   "source": [
    "df_regression.columns\n",
    "\n"
   ]
  },
  {
   "cell_type": "code",
   "execution_count": null,
   "id": "17c91bd4",
   "metadata": {
    "executionInfo": {
     "elapsed": 60,
     "status": "aborted",
     "timestamp": 1663006733974,
     "user": {
      "displayName": "Lorenzo Taschin",
      "userId": "00354220123290343169"
     },
     "user_tz": -120
    },
    "id": "17c91bd4"
   },
   "outputs": [],
   "source": [
    "#For the model we will dismiss the \"other\" answers as not enough data is given (not enough participants replied that)\n",
    "df_regression = df_regression[(df_regression['gender'] != 'Other') &(df_regression['feel_rat1'] != \"'Other'\")\n",
    "                             & (df_regression['dieatary_habit'] != 'Other')\n",
    "                             & (df_regression['field_educational_background'] != 'Other')]"
   ]
  },
  {
   "cell_type": "code",
   "execution_count": null,
   "id": "27436bab",
   "metadata": {
    "executionInfo": {
     "elapsed": 61,
     "status": "aborted",
     "timestamp": 1663006733975,
     "user": {
      "displayName": "Lorenzo Taschin",
      "userId": "00354220123290343169"
     },
     "user_tz": -120
    },
    "id": "27436bab"
   },
   "outputs": [],
   "source": [
    "model = sm.ols(formula=\"response ~ condition_index + C(gender) + C(feel_rat1) + C( dieatary_habit) + C(field_educational_background )\", \n",
    "                data=df_regression)\n",
    "#C( dieatary_habit + field_educational_background) + C(gender)\n",
    "#gender + dieatary_habit + field_educational_background\n",
    "\n",
    "res = model.fit()\n",
    "\n",
    "print(res.summary())"
   ]
  },
  {
   "cell_type": "markdown",
   "id": "1e427005",
   "metadata": {
    "id": "1e427005"
   },
   "source": [
    "When adding to the regression analysis the feel_rat2 or feel_rat3 variables the R2 increases significantly, but it is because the number of observations is reduced (most of the participants only put one feeling for rats and no more). Maybe we should have restricted the field to the stronger feeling. "
   ]
  },
  {
   "cell_type": "code",
   "execution_count": null,
   "id": "e5aac43b",
   "metadata": {
    "executionInfo": {
     "elapsed": 60,
     "status": "aborted",
     "timestamp": 1663006733975,
     "user": {
      "displayName": "Lorenzo Taschin",
      "userId": "00354220123290343169"
     },
     "user_tz": -120
    },
    "id": "e5aac43b"
   },
   "outputs": [],
   "source": [
    "# feature names\n",
    "variables = res.params.index\n",
    "\n",
    "# quantifying uncertainty!\n",
    "\n",
    "# coefficients\n",
    "coefficients = res.params.values\n",
    "\n",
    "# p-values\n",
    "p_values = res.pvalues\n",
    "\n",
    "# standard errors\n",
    "standard_errors = res.bse.values\n",
    "\n",
    "#confidence intervals\n",
    "res.conf_int()"
   ]
  },
  {
   "cell_type": "code",
   "execution_count": null,
   "id": "fd6c084d",
   "metadata": {
    "executionInfo": {
     "elapsed": 60,
     "status": "aborted",
     "timestamp": 1663006733976,
     "user": {
      "displayName": "Lorenzo Taschin",
      "userId": "00354220123290343169"
     },
     "user_tz": -120
    },
    "id": "fd6c084d"
   },
   "outputs": [],
   "source": [
    "#sort them all by coefficients\n",
    "l1, l2, l3, l4 = zip(*sorted(zip(coefficients[1:], variables[1:], standard_errors[1:], p_values[1:])))\n",
    "\n",
    "# in this case, we index starting from the first element, not to plot the intercept\n",
    "\n",
    "# we will use standard errors, instead of CIs\n",
    "# two standard errors approximate the CIs (you can actually see in the summary table that\n",
    "# +/2 SI is equivalent to the CIs)\n",
    "\n",
    "l2"
   ]
  },
  {
   "cell_type": "code",
   "execution_count": null,
   "id": "8e899214",
   "metadata": {
    "executionInfo": {
     "elapsed": 60,
     "status": "aborted",
     "timestamp": 1663006733976,
     "user": {
      "displayName": "Lorenzo Taschin",
      "userId": "00354220123290343169"
     },
     "user_tz": -120
    },
    "id": "8e899214"
   },
   "outputs": [],
   "source": [
    "#fancy plotting\n",
    "\n",
    "plt.errorbar(l1, np.array(range(len(l1))), xerr= 2*np.array(l3), linewidth = 1,\n",
    "             linestyle = 'none',marker = 'o',markersize= 3,\n",
    "             markerfacecolor = 'black',markeredgecolor = 'black', capsize= 5)\n",
    "\n",
    "plt.vlines(0,0, len(l1), linestyle = '--')\n",
    "\n",
    "plt.yticks(range(len(l2)),l2);"
   ]
  },
  {
   "cell_type": "markdown",
   "id": "d48ab383",
   "metadata": {
    "id": "d48ab383"
   },
   "source": [
    "From the obtained results, it seems that the participant characteristics which correlate negatively the most the results is a vegan/vegetarian diet and sympathy for rats. On the other hand, being a male, studying in the healthcare or social sciences field or fearing rats seem to create a tendency for accepting the animal experimentation more. The eye size has a low correlation with the results, nonetheless considering the standard error and confidence interval, the correlation is always negative. This means the effect of the eye size is consistent."
   ]
  },
  {
   "cell_type": "markdown",
   "id": "42133dd9",
   "metadata": {
    "id": "42133dd9"
   },
   "source": [
    "###  We will try now to perform the analysis only with the demographic answers we consider give us more information from the dummy table"
   ]
  },
  {
   "cell_type": "code",
   "execution_count": null,
   "id": "a6edc059",
   "metadata": {
    "executionInfo": {
     "elapsed": 62,
     "status": "aborted",
     "timestamp": 1663006733978,
     "user": {
      "displayName": "Lorenzo Taschin",
      "userId": "00354220123290343169"
     },
     "user_tz": -120
    },
    "id": "a6edc059"
   },
   "outputs": [],
   "source": [
    "df_dummies.rename(columns = {'field_educational_background_Engineering, IT, Applied Science':'field_educational_background_Engineering', \n",
    "                     'field_educational_background_Humanities and Social Science':'field_educational_background_Humanities',\n",
    "                             \"field_educational_background_Life Sciences, Medicine, Healthcare\":\"field_educational_background_Healthcare\",\n",
    "                     'dieatary_habit_No specific diet':'dieatary_habit_No_specific_diet', \n",
    "                     \"feel_rat_'Indifference'\":'feel_rat_Indifference' ,\n",
    "                     \"feel_rat_'Disgust'\":'feel_rat_Disgust',\n",
    "                     \"feel_rat_'Fear'\": 'feel_rat_Fear', \n",
    "                     \"feel_rat_'Sympathy'\":'feel_rat_Sympathy'}, inplace = True)"
   ]
  },
  {
   "cell_type": "code",
   "execution_count": null,
   "id": "6689ecbd",
   "metadata": {
    "executionInfo": {
     "elapsed": 3426,
     "status": "aborted",
     "timestamp": 1663006733979,
     "user": {
      "displayName": "Lorenzo Taschin",
      "userId": "00354220123290343169"
     },
     "user_tz": -120
    },
    "id": "6689ecbd"
   },
   "outputs": [],
   "source": [
    "df_dummies.columns"
   ]
  },
  {
   "cell_type": "code",
   "execution_count": null,
   "id": "e5c05eb6",
   "metadata": {
    "executionInfo": {
     "elapsed": 3421,
     "status": "aborted",
     "timestamp": 1663006733980,
     "user": {
      "displayName": "Lorenzo Taschin",
      "userId": "00354220123290343169"
     },
     "user_tz": -120
    },
    "id": "e5c05eb6"
   },
   "outputs": [],
   "source": [
    "model2 = sm.ols(formula=\"response ~ condition_index *(field_educational_background_Engineering + field_educational_background_Humanities + field_educational_background_Healthcare) * (dieatary_habit_No_specific_diet + dieatary_habit_Vegan + dieatary_habit_Vegetarian) * (feel_rat_Fear + feel_rat_Disgust + feel_rat_Sympathy+feel_rat_Indifference)\", \n",
    "                data=df_dummies)\n",
    "#C( dieatary_habit + field_educational_background) + C(gender)\n",
    "#gender + dieatary_habit + field_educational_background\n",
    "#+ feel_rat_'Disgust' \n",
    "res2 = model2.fit()\n",
    "\n",
    "print(res2.summary())"
   ]
  },
  {
   "cell_type": "code",
   "execution_count": null,
   "id": "a5d6c638",
   "metadata": {
    "executionInfo": {
     "elapsed": 3410,
     "status": "aborted",
     "timestamp": 1663006733981,
     "user": {
      "displayName": "Lorenzo Taschin",
      "userId": "00354220123290343169"
     },
     "user_tz": -120
    },
    "id": "a5d6c638"
   },
   "outputs": [],
   "source": [
    "# feature names\n",
    "variables = res2.params.index\n",
    "\n",
    "# quantifying uncertainty!\n",
    "\n",
    "# coefficients\n",
    "coefficients = res2.params.values\n",
    "\n",
    "# p-values\n",
    "p_values = res2.pvalues\n",
    "\n",
    "# standard errors\n",
    "standard_errors = res2.bse.values\n",
    "\n",
    "#confidence intervals\n",
    "res2.conf_int()"
   ]
  },
  {
   "cell_type": "code",
   "execution_count": null,
   "id": "59f28916",
   "metadata": {
    "executionInfo": {
     "elapsed": 3407,
     "status": "aborted",
     "timestamp": 1663006733981,
     "user": {
      "displayName": "Lorenzo Taschin",
      "userId": "00354220123290343169"
     },
     "user_tz": -120
    },
    "id": "59f28916"
   },
   "outputs": [],
   "source": [
    "#sort them all by coefficients\n",
    "l1, l2, l3, l4 = zip(*sorted(zip(coefficients[1:], variables[1:], standard_errors[1:], p_values[1:])))\n",
    "\n",
    "# in this case, we index starting from the first element, not to plot the intercept\n",
    "\n",
    "# we will use standard errors, instead of CIs\n",
    "# two standard errors approximate the CIs (you can actually see in the summary table that\n",
    "# +/2 SI is equivalent to the CIs)\n"
   ]
  },
  {
   "cell_type": "code",
   "execution_count": null,
   "id": "191bd336",
   "metadata": {
    "executionInfo": {
     "elapsed": 3405,
     "status": "aborted",
     "timestamp": 1663006733982,
     "user": {
      "displayName": "Lorenzo Taschin",
      "userId": "00354220123290343169"
     },
     "user_tz": -120
    },
    "id": "191bd336"
   },
   "outputs": [],
   "source": [
    "new_l1 = []\n",
    "new_l2 = []\n",
    "new_l3 = []\n",
    "\n",
    "for i in range(len(l1)):\n",
    "    if l1[i]<-1.5 or l1[i]>2:\n",
    "        new_l1.append(l1[i])\n",
    "        new_l2.append(l2[i])\n",
    "        new_l3.append(l3[i])\n",
    "    "
   ]
  },
  {
   "cell_type": "code",
   "execution_count": null,
   "id": "829c193d",
   "metadata": {
    "executionInfo": {
     "elapsed": 3396,
     "status": "aborted",
     "timestamp": 1663006733982,
     "user": {
      "displayName": "Lorenzo Taschin",
      "userId": "00354220123290343169"
     },
     "user_tz": -120
    },
    "id": "829c193d"
   },
   "outputs": [],
   "source": [
    "#fancy plotting\n",
    "\n",
    "plt.errorbar(new_l1, np.array(range(len(new_l1))), xerr= 2*np.array(new_l3), linewidth = 1,\n",
    "             linestyle = 'none',marker = 'o',markersize= 3,\n",
    "             markerfacecolor = 'black',markeredgecolor = 'black', capsize= 5)\n",
    "\n",
    "plt.vlines(0,0, len(new_l1), linestyle = '--')\n",
    "\n",
    "plt.yticks(range(len(new_l2)),new_l2);"
   ]
  },
  {
   "cell_type": "markdown",
   "id": "de81958b",
   "metadata": {
    "id": "de81958b"
   },
   "source": [
    "On the above plot we can see the combination of variables which explain most of the variance in the results. "
   ]
  },
  {
   "cell_type": "markdown",
   "id": "4c035280",
   "metadata": {
    "id": "4c035280"
   },
   "source": [
    "### TODO: ANOVA"
   ]
  },
  {
   "cell_type": "code",
   "execution_count": null,
   "id": "c1f692ea",
   "metadata": {
    "executionInfo": {
     "elapsed": 3387,
     "status": "aborted",
     "timestamp": 1663006733983,
     "user": {
      "displayName": "Lorenzo Taschin",
      "userId": "00354220123290343169"
     },
     "user_tz": -120
    },
    "id": "c1f692ea"
   },
   "outputs": [],
   "source": [
    "df_pre_anova = df_acceptance[['condition_index', 'response']]\n",
    "df_pre_anova = df_pre_anova.pivot(index = None, columns=['condition_index'], values=['response'])\n",
    "\n",
    "df_anova = pd.DataFrame()\n",
    "df_anova['Condition0']= df_pre_anova[('response', 0)].dropna().reset_index(drop = True)\n",
    "df_anova['Condition1'] = df_pre_anova[('response', 1)].dropna().reset_index(drop=True)\n",
    "df_anova['Condition2'] = df_pre_anova[('response', 2)].dropna().reset_index(drop=True)\n",
    "df_anova"
   ]
  },
  {
   "cell_type": "code",
   "execution_count": null,
   "id": "d0cbb99a",
   "metadata": {
    "executionInfo": {
     "elapsed": 3381,
     "status": "aborted",
     "timestamp": 1663006733983,
     "user": {
      "displayName": "Lorenzo Taschin",
      "userId": "00354220123290343169"
     },
     "user_tz": -120
    },
    "id": "d0cbb99a"
   },
   "outputs": [],
   "source": [
    "# stats f_oneway functions takes the groups as input and returns ANOVA F and p value\n",
    "fvalue, pvalue = stats.f_oneway(df_anova['Condition0'], df_anova['Condition1'], df_anova['Condition2'])\n",
    "print('The results for one-way ANOVA test are: fvalue = ' + str(round(fvalue,3)) + ' and pvalue = ' + str(round(pvalue,3)))\n"
   ]
  },
  {
   "cell_type": "code",
   "execution_count": null,
   "id": "c7223ecb",
   "metadata": {
    "executionInfo": {
     "elapsed": 3376,
     "status": "aborted",
     "timestamp": 1663006733984,
     "user": {
      "displayName": "Lorenzo Taschin",
      "userId": "00354220123290343169"
     },
     "user_tz": -120
    },
    "id": "c7223ecb"
   },
   "outputs": [],
   "source": [
    "model = sm.ols(formula=\"response ~ condition_index\", data=df_regression).fit()\n",
    "print(model.summary())"
   ]
  },
  {
   "cell_type": "code",
   "execution_count": null,
   "id": "c1d6ccd9",
   "metadata": {
    "executionInfo": {
     "elapsed": 3371,
     "status": "aborted",
     "timestamp": 1663006733985,
     "user": {
      "displayName": "Lorenzo Taschin",
      "userId": "00354220123290343169"
     },
     "user_tz": -120
    },
    "id": "c1d6ccd9"
   },
   "outputs": [],
   "source": [
    "# get ANOVA table as R like output\n",
    "import statsmodels.api as sm\n",
    "from statsmodels.formula.api import ols\n",
    "\n",
    "# Ordinary Least Squares (OLS) model\n",
    "anova_table = sm.stats.anova_lm(model, typ=2)\n",
    "anova_table"
   ]
  },
  {
   "cell_type": "code",
   "execution_count": null,
   "id": "46f74bc4",
   "metadata": {
    "executionInfo": {
     "elapsed": 3366,
     "status": "aborted",
     "timestamp": 1663006733986,
     "user": {
      "displayName": "Lorenzo Taschin",
      "userId": "00354220123290343169"
     },
     "user_tz": -120
    },
    "id": "46f74bc4"
   },
   "outputs": [],
   "source": [
    "from statsmodels.stats.multicomp import pairwise_tukeyhsd\n",
    "tukey = pairwise_tukeyhsd(endog=df_regression['response'], groups=df_regression['condition_index'], alpha=0.05)\n",
    "print(tukey)"
   ]
  },
  {
   "cell_type": "code",
   "execution_count": null,
   "id": "cedcf774",
   "metadata": {
    "executionInfo": {
     "elapsed": 3363,
     "status": "aborted",
     "timestamp": 1663006733986,
     "user": {
      "displayName": "Lorenzo Taschin",
      "userId": "00354220123290343169"
     },
     "user_tz": -120
    },
    "id": "cedcf774"
   },
   "outputs": [],
   "source": []
  }
 ],
 "metadata": {
  "colab": {
   "collapsed_sections": [
    "20f1586d",
    "ccd7a7f5",
    "541a7a79",
    "080f23c6",
    "75810d7e",
    "29c908bf",
    "4c035280"
   ],
   "provenance": []
  },
  "kernelspec": {
   "display_name": "Python 3 (ipykernel)",
   "language": "python",
   "name": "python3"
  },
  "language_info": {
   "codemirror_mode": {
    "name": "ipython",
    "version": 3
   },
   "file_extension": ".py",
   "mimetype": "text/x-python",
   "name": "python",
   "nbconvert_exporter": "python",
   "pygments_lexer": "ipython3",
   "version": "3.9.13"
  }
 },
 "nbformat": 4,
 "nbformat_minor": 5
}
